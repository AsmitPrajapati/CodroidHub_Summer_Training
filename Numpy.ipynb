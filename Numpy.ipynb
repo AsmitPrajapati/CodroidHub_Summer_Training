{
 "cells": [
  {
   "cell_type": "markdown",
   "id": "d9558f8d",
   "metadata": {},
   "source": [
    "# How to import NumPy"
   ]
  },
  {
   "cell_type": "code",
   "execution_count": 2,
   "id": "3d73c868",
   "metadata": {},
   "outputs": [],
   "source": [
    "import numpy as np"
   ]
  },
  {
   "cell_type": "markdown",
   "id": "8041b949",
   "metadata": {},
   "source": [
    "# What is an “array”?\n",
    "a structure for storing and retrieving data,with each cell storing one element of the data.\n",
    "\n",
    "- <u>Most NumPy arrays have some restrictions. For instance</u>:\n",
    "\n",
    "- All elements of the array must be of the same type of data.\n",
    "- Once created, the total size of the the array can’t change.\n",
    "- The shape must be “rectangular”, not “jagged”; e.g., each row of a two-dimensional array must have the same number of columns."
   ]
  },
  {
   "cell_type": "code",
   "execution_count": 4,
   "id": "7471533d",
   "metadata": {},
   "outputs": [
    {
     "name": "stdout",
     "output_type": "stream",
     "text": [
      "[1 2 3 4 5 6]\n"
     ]
    }
   ],
   "source": [
    "# Creating an 1-D array\n",
    "a = np.array([1,2,3,4,5,6])\n",
    "print(a)"
   ]
  },
  {
   "cell_type": "code",
   "execution_count": 5,
   "id": "0a8ac8a7",
   "metadata": {},
   "outputs": [
    {
     "name": "stdout",
     "output_type": "stream",
     "text": [
      "[[1 2 3]\n",
      " [4 5 6]]\n"
     ]
    }
   ],
   "source": [
    "# Create a 2D array\n",
    "arr_2d = np.array([[1, 2, 3], [4, 5, 6]])\n",
    "print(arr_2d)"
   ]
  },
  {
   "cell_type": "code",
   "execution_count": 6,
   "id": "10432dfa",
   "metadata": {},
   "outputs": [
    {
     "data": {
      "text/plain": [
       "1"
      ]
     },
     "execution_count": 6,
     "metadata": {},
     "output_type": "execute_result"
    }
   ],
   "source": [
    "# Acessing ist element of array\n",
    "a[0]"
   ]
  },
  {
   "cell_type": "markdown",
   "id": "ba980446",
   "metadata": {},
   "source": [
    "# Array attributes\n",
    "- ndim\n",
    "- shape\n",
    "- itemsize\n",
    "- size\n",
    "- dtype"
   ]
  },
  {
   "cell_type": "markdown",
   "id": "2ae3ac76",
   "metadata": {},
   "source": [
    "## ndim()"
   ]
  },
  {
   "cell_type": "code",
   "execution_count": 9,
   "id": "abb0b534",
   "metadata": {},
   "outputs": [
    {
     "data": {
      "text/plain": [
       "1"
      ]
     },
     "execution_count": 9,
     "metadata": {},
     "output_type": "execute_result"
    }
   ],
   "source": [
    "# The number of dimensions of an array is contained \n",
    "a.ndim"
   ]
  },
  {
   "cell_type": "code",
   "execution_count": 10,
   "id": "01926835",
   "metadata": {},
   "outputs": [
    {
     "data": {
      "text/plain": [
       "2"
      ]
     },
     "execution_count": 10,
     "metadata": {},
     "output_type": "execute_result"
    }
   ],
   "source": [
    "arr_2d.ndim"
   ]
  },
  {
   "cell_type": "markdown",
   "id": "5a5b62bc",
   "metadata": {},
   "source": [
    "## shape()"
   ]
  },
  {
   "cell_type": "code",
   "execution_count": 12,
   "id": "c7466458",
   "metadata": {},
   "outputs": [
    {
     "name": "stdout",
     "output_type": "stream",
     "text": [
      "(6,)\n",
      "(2, 3)\n"
     ]
    }
   ],
   "source": [
    "# Specify the number of elements along each dimension\n",
    "print(a.shape)\n",
    "print(arr_2d.shape)"
   ]
  },
  {
   "cell_type": "markdown",
   "id": "bf5f8601",
   "metadata": {},
   "source": [
    "## Itemsize()"
   ]
  },
  {
   "cell_type": "code",
   "execution_count": 14,
   "id": "328701a9",
   "metadata": {},
   "outputs": [
    {
     "name": "stdout",
     "output_type": "stream",
     "text": [
      "4\n",
      "4\n"
     ]
    }
   ],
   "source": [
    "#specifies the size in bytes of each element of the array\n",
    "print(a.itemsize)\n",
    "print(arr_2d.itemsize)"
   ]
  },
  {
   "cell_type": "markdown",
   "id": "a58ecb30",
   "metadata": {},
   "source": [
    "## size()"
   ]
  },
  {
   "cell_type": "code",
   "execution_count": 16,
   "id": "7a32245a",
   "metadata": {},
   "outputs": [
    {
     "data": {
      "text/plain": [
       "6"
      ]
     },
     "execution_count": 16,
     "metadata": {},
     "output_type": "execute_result"
    }
   ],
   "source": [
    "# Fixed, total number of elements in array\n",
    "a.size"
   ]
  },
  {
   "cell_type": "code",
   "execution_count": 17,
   "id": "10b5cb9c",
   "metadata": {},
   "outputs": [
    {
     "data": {
      "text/plain": [
       "6"
      ]
     },
     "execution_count": 17,
     "metadata": {},
     "output_type": "execute_result"
    }
   ],
   "source": [
    "arr_2d.size"
   ]
  },
  {
   "cell_type": "code",
   "execution_count": 18,
   "id": "e707213c",
   "metadata": {},
   "outputs": [
    {
     "data": {
      "text/plain": [
       "12"
      ]
     },
     "execution_count": 18,
     "metadata": {},
     "output_type": "execute_result"
    }
   ],
   "source": [
    "arr_3d = np.array([[1,2,3,4],[5,6,7,8],[9,10,11,12]])\n",
    "arr_3d.size"
   ]
  },
  {
   "cell_type": "markdown",
   "id": "2d02d837",
   "metadata": {},
   "source": [
    "## dtype()"
   ]
  },
  {
   "cell_type": "code",
   "execution_count": 20,
   "id": "fa451335",
   "metadata": {},
   "outputs": [
    {
     "data": {
      "text/plain": [
       "dtype('int32')"
      ]
     },
     "execution_count": 20,
     "metadata": {},
     "output_type": "execute_result"
    }
   ],
   "source": [
    "# Records the datatype\n",
    "a.dtype"
   ]
  },
  {
   "cell_type": "code",
   "execution_count": 21,
   "id": "f790ac85",
   "metadata": {},
   "outputs": [
    {
     "data": {
      "text/plain": [
       "dtype('int32')"
      ]
     },
     "execution_count": 21,
     "metadata": {},
     "output_type": "execute_result"
    }
   ],
   "source": [
    "arr_2d.dtype"
   ]
  },
  {
   "cell_type": "markdown",
   "id": "12f7186d",
   "metadata": {},
   "source": [
    "# How to create a basic array\n",
    "- np.zeros()\n",
    "- np.ones()\n",
    "- np.empty()\n",
    "- np.arange()\n",
    "- np.linspace()"
   ]
  },
  {
   "cell_type": "markdown",
   "id": "a3bb705f",
   "metadata": {},
   "source": [
    "## np.zeros()"
   ]
  },
  {
   "cell_type": "code",
   "execution_count": 24,
   "id": "9c9a6d36",
   "metadata": {},
   "outputs": [
    {
     "name": "stdout",
     "output_type": "stream",
     "text": [
      "[[0. 0. 0. 0.]\n",
      " [0. 0. 0. 0.]\n",
      " [0. 0. 0. 0.]]\n"
     ]
    }
   ],
   "source": [
    "# Create an array filled with 0’s:\n",
    "array5 = np.zeros((3,4))\n",
    "print(array5)"
   ]
  },
  {
   "cell_type": "markdown",
   "id": "43c5d9f5",
   "metadata": {},
   "source": [
    "##  np.ones()"
   ]
  },
  {
   "cell_type": "code",
   "execution_count": 26,
   "id": "4b61d20d",
   "metadata": {},
   "outputs": [
    {
     "name": "stdout",
     "output_type": "stream",
     "text": [
      "[[1. 1.]\n",
      " [1. 1.]\n",
      " [1. 1.]]\n"
     ]
    }
   ],
   "source": [
    "# Create an array filled with 1’s:\n",
    "array6 = np.ones((3,2))\n",
    "print(array6)"
   ]
  },
  {
   "cell_type": "markdown",
   "id": "1af22664",
   "metadata": {},
   "source": [
    "## np.empty()"
   ]
  },
  {
   "cell_type": "code",
   "execution_count": 28,
   "id": "91ad2b52",
   "metadata": {},
   "outputs": [
    {
     "data": {
      "text/plain": [
       "array([-2.64185062e+170, -3.53791481e-053])"
      ]
     },
     "execution_count": 28,
     "metadata": {},
     "output_type": "execute_result"
    }
   ],
   "source": [
    "# reates an array whose initial content is random\n",
    "np.empty(2) "
   ]
  },
  {
   "cell_type": "markdown",
   "id": "f3b0f025",
   "metadata": {},
   "source": [
    " ## np.arange()"
   ]
  },
  {
   "cell_type": "code",
   "execution_count": 30,
   "id": "d6083266",
   "metadata": {},
   "outputs": [
    {
     "data": {
      "text/plain": [
       "array([0, 1, 2, 3])"
      ]
     },
     "execution_count": 30,
     "metadata": {},
     "output_type": "execute_result"
    }
   ],
   "source": [
    "# Create an array with a range of elements:\n",
    "np.arange(4)"
   ]
  },
  {
   "cell_type": "code",
   "execution_count": 31,
   "id": "6f2c39c8",
   "metadata": {},
   "outputs": [
    {
     "data": {
      "text/plain": [
       "array([ 2,  4,  6,  8, 10])"
      ]
     },
     "execution_count": 31,
     "metadata": {},
     "output_type": "execute_result"
    }
   ],
   "source": [
    "# Give range such as first number, last number, and the step size\n",
    "np.arange(2, 11, 2)"
   ]
  },
  {
   "cell_type": "markdown",
   "id": "bdb80ccf",
   "metadata": {},
   "source": [
    "## np.linspace()"
   ]
  },
  {
   "cell_type": "code",
   "execution_count": 33,
   "id": "0acd382b",
   "metadata": {},
   "outputs": [
    {
     "data": {
      "text/plain": [
       "array([0., 2., 4., 6., 8.])"
      ]
     },
     "execution_count": 33,
     "metadata": {},
     "output_type": "execute_result"
    }
   ],
   "source": [
    "# Create an array with values that are spaced linearly\n",
    "np.linspace(0, 8, num=5)"
   ]
  },
  {
   "cell_type": "markdown",
   "id": "0edadbd7",
   "metadata": {},
   "source": [
    "### Specifying your data type : "
   ]
  },
  {
   "cell_type": "code",
   "execution_count": 35,
   "id": "80771f73",
   "metadata": {},
   "outputs": [
    {
     "name": "stdout",
     "output_type": "stream",
     "text": [
      "[[1. 2.]\n",
      " [3. 4.]]\n"
     ]
    }
   ],
   "source": [
    "# Explicitly specify which data type you want using the dtype keyword\n",
    "array4 = np.array( [ [1,2], [3,4] ],dtype=float)\n",
    "print(array4)"
   ]
  },
  {
   "cell_type": "markdown",
   "id": "3ece95ed",
   "metadata": {},
   "source": [
    "# Adding, removing, and sorting elements\n",
    "- np.sort()\n",
    "- np.concatenate()\n",
    "- np.transpose() "
   ]
  },
  {
   "cell_type": "markdown",
   "id": "13ab0af9",
   "metadata": {},
   "source": [
    "## np.sort()"
   ]
  },
  {
   "cell_type": "code",
   "execution_count": 38,
   "id": "525f191e",
   "metadata": {},
   "outputs": [
    {
     "name": "stdout",
     "output_type": "stream",
     "text": [
      "None\n",
      "[-3  0  1  2  4  6  7  8]\n"
     ]
    }
   ],
   "source": [
    "array1 = np.array([1,0,2,-3,6,8,4,7])\n",
    "print(array1.sort())\n",
    "print(array1)"
   ]
  },
  {
   "cell_type": "markdown",
   "id": "26053850",
   "metadata": {},
   "source": [
    "## np.concatenate()"
   ]
  },
  {
   "cell_type": "code",
   "execution_count": 40,
   "id": "d083524e",
   "metadata": {},
   "outputs": [
    {
     "name": "stdout",
     "output_type": "stream",
     "text": [
      "[[ 10  20   0   0   0]\n",
      " [-30  40   0   0   0]]\n"
     ]
    }
   ],
   "source": [
    "#Concatenating Arrays\n",
    "array1 = np.array([[10, 20], [-30,40]])\n",
    "array2 = np.zeros((2, 3), dtype=array1.dtype)\n",
    "A=np.concatenate((array1,array2), axis=1)\n",
    "print(A)"
   ]
  },
  {
   "cell_type": "code",
   "execution_count": 41,
   "id": "bca8ff59",
   "metadata": {},
   "outputs": [
    {
     "data": {
      "text/plain": [
       "array([1, 2, 3, 4, 5, 6, 7, 8])"
      ]
     },
     "execution_count": 41,
     "metadata": {},
     "output_type": "execute_result"
    }
   ],
   "source": [
    "a = np.array([1, 2, 3, 4])\n",
    "b = np.array([5, 6, 7, 8])\n",
    "np.concatenate((a,b))"
   ]
  },
  {
   "cell_type": "markdown",
   "id": "65b2de4d",
   "metadata": {},
   "source": [
    "## np.transpose() "
   ]
  },
  {
   "cell_type": "code",
   "execution_count": 43,
   "id": "34329d28",
   "metadata": {},
   "outputs": [
    {
     "name": "stdout",
     "output_type": "stream",
     "text": [
      "[[ 2.4   4.91  0.  ]\n",
      " [ 3.    7.   -1.  ]]\n"
     ]
    }
   ],
   "source": [
    "array3 = np.array([[2.4,3], [4.91,7],[0,-1]]) \n",
    "At=array3.transpose() \n",
    "print(At)"
   ]
  },
  {
   "cell_type": "markdown",
   "id": "b8563525",
   "metadata": {},
   "source": [
    "# Reshape an array"
   ]
  },
  {
   "cell_type": "code",
   "execution_count": 45,
   "id": "b1854dc0",
   "metadata": {},
   "outputs": [
    {
     "name": "stdout",
     "output_type": "stream",
     "text": [
      "[0 1 2 3 4 5]\n",
      "[[0 1]\n",
      " [2 3]\n",
      " [4 5]]\n"
     ]
    }
   ],
   "source": [
    "# Reshaping an array\n",
    "a = np.arange(6)\n",
    "print(a)\n",
    "b = a.reshape(3, 2)\n",
    "print(b)"
   ]
  },
  {
   "cell_type": "markdown",
   "id": "94a5a2a2",
   "metadata": {},
   "source": [
    "# How to convert a 1D array into a 2D array (how to add a new axis to an array)\n",
    "- np.newaxis will increase the dimensions of your array by one dimension when used once. This means that a 1D array will become a 2D array, a 2D array will become a 3D array, and so on."
   ]
  },
  {
   "cell_type": "code",
   "execution_count": 47,
   "id": "150188fc",
   "metadata": {},
   "outputs": [
    {
     "data": {
      "text/plain": [
       "(1, 6)"
      ]
     },
     "execution_count": 47,
     "metadata": {},
     "output_type": "execute_result"
    }
   ],
   "source": [
    "a2 = a[np.newaxis, :]\n",
    "a2.shape\n"
   ]
  },
  {
   "cell_type": "code",
   "execution_count": 48,
   "id": "a4053d81",
   "metadata": {},
   "outputs": [
    {
     "data": {
      "text/plain": [
       "(6, 1)"
      ]
     },
     "execution_count": 48,
     "metadata": {},
     "output_type": "execute_result"
    }
   ],
   "source": [
    "# column vector, you can insert an axis along the second dimension\n",
    "col_vector = a[:, np.newaxis]\n",
    "col_vector.shape"
   ]
  },
  {
   "cell_type": "code",
   "execution_count": 49,
   "id": "e88be217",
   "metadata": {},
   "outputs": [
    {
     "data": {
      "text/plain": [
       "(6, 1)"
      ]
     },
     "execution_count": 49,
     "metadata": {},
     "output_type": "execute_result"
    }
   ],
   "source": [
    "# You can also expand an array by inserting a new axis at a specified position with np.expand_dims.\n",
    "b = np.expand_dims(a, axis=1)\n",
    "b.shape\n"
   ]
  },
  {
   "cell_type": "code",
   "execution_count": 50,
   "id": "81274fc4",
   "metadata": {},
   "outputs": [
    {
     "data": {
      "text/plain": [
       "(1, 6)"
      ]
     },
     "execution_count": 50,
     "metadata": {},
     "output_type": "execute_result"
    }
   ],
   "source": [
    "c = np.expand_dims(a, axis=0)\n",
    "c.shape"
   ]
  },
  {
   "cell_type": "code",
   "execution_count": 51,
   "id": "c071c8ee",
   "metadata": {},
   "outputs": [
    {
     "name": "stdout",
     "output_type": "stream",
     "text": [
      "[1 2 3 4]\n"
     ]
    }
   ],
   "source": [
    "# print all of the values in the array that are less than 5\n",
    "a = np.array([1,2,3,4,5,6])\n",
    "print(a[a < 5])"
   ]
  },
  {
   "cell_type": "code",
   "execution_count": 52,
   "id": "92c222e4",
   "metadata": {},
   "outputs": [
    {
     "name": "stdout",
     "output_type": "stream",
     "text": [
      "[2 4 6]\n"
     ]
    }
   ],
   "source": [
    "# select elements that are divisible by 2\n",
    "divisible = a[a%2==0]\n",
    "print(divisible)"
   ]
  },
  {
   "cell_type": "code",
   "execution_count": 53,
   "id": "02b25a2b",
   "metadata": {},
   "outputs": [
    {
     "name": "stdout",
     "output_type": "stream",
     "text": [
      "[3 4 5 6]\n"
     ]
    }
   ],
   "source": [
    "# Select elements that satisfy two conditions using the & and | operators\n",
    "c = a[(a > 2) & (a < 11)]\n",
    "print(c)"
   ]
  },
  {
   "cell_type": "markdown",
   "id": "697c1912",
   "metadata": {},
   "source": [
    "# How to create an array from existing data\n",
    "\n",
    "- slicing and indexing, np.vstack(), np.hstack(), np.hsplit(), .view(), copy()"
   ]
  },
  {
   "cell_type": "code",
   "execution_count": 55,
   "id": "4766e410",
   "metadata": {},
   "outputs": [
    {
     "name": "stdout",
     "output_type": "stream",
     "text": [
      "[3 4 5]\n"
     ]
    }
   ],
   "source": [
    "# Slicing to create array from existing data\n",
    "a = np.array([1,2,3,4,5,6])\n",
    "arr2=a[2:5]\n",
    "print(arr2)"
   ]
  },
  {
   "cell_type": "code",
   "execution_count": 56,
   "id": "af4c7258",
   "metadata": {},
   "outputs": [
    {
     "data": {
      "text/plain": [
       "array([[1, 1],\n",
       "       [2, 2],\n",
       "       [3, 3],\n",
       "       [4, 4]])"
      ]
     },
     "execution_count": 56,
     "metadata": {},
     "output_type": "execute_result"
    }
   ],
   "source": [
    "# Stack them vertically with vstack()\n",
    "a1 = np.array([[1, 1],[2, 2]])\n",
    "\n",
    "a2 = np.array([[3, 3],[4, 4]])\n",
    "np.vstack((a1, a2))"
   ]
  },
  {
   "cell_type": "code",
   "execution_count": 57,
   "id": "5f6b2751",
   "metadata": {},
   "outputs": [
    {
     "data": {
      "text/plain": [
       "array([[1, 1, 3, 3],\n",
       "       [2, 2, 4, 4]])"
      ]
     },
     "execution_count": 57,
     "metadata": {},
     "output_type": "execute_result"
    }
   ],
   "source": [
    "# Stack them horizontally with hstack()\n",
    "np.hstack((a1, a2))"
   ]
  },
  {
   "cell_type": "code",
   "execution_count": 58,
   "id": "513e9d15",
   "metadata": {},
   "outputs": [
    {
     "data": {
      "text/plain": [
       "[array([[ 1,  2,  3,  4],\n",
       "        [13, 14, 15, 16]]),\n",
       " array([[ 5,  6,  7,  8],\n",
       "        [17, 18, 19, 20]]),\n",
       " array([[ 9, 10, 11, 12],\n",
       "        [21, 22, 23, 24]])]"
      ]
     },
     "execution_count": 58,
     "metadata": {},
     "output_type": "execute_result"
    }
   ],
   "source": [
    "# Split an array into several smaller arrays using hsplit()\n",
    "x = np.arange(1, 25).reshape(2, 12)\n",
    "np.hsplit(x, 3)\n"
   ]
  },
  {
   "cell_type": "markdown",
   "id": "533d6982",
   "metadata": {},
   "source": [
    "# Basic array operations"
   ]
  },
  {
   "cell_type": "code",
   "execution_count": 60,
   "id": "0e6dd443",
   "metadata": {},
   "outputs": [
    {
     "name": "stdout",
     "output_type": "stream",
     "text": [
      "[[15 26]\n",
      " [23 19]]\n"
     ]
    }
   ],
   "source": [
    "# addition of array\n",
    "array1 = np.array([[5,6],[4,7]]) \n",
    "array2 = np.array([[10,20],[19,12]]) \n",
    "print(array1+array2)"
   ]
  },
  {
   "cell_type": "code",
   "execution_count": 61,
   "id": "7c3098a4",
   "metadata": {},
   "outputs": [
    {
     "data": {
      "text/plain": [
       "21"
      ]
     },
     "execution_count": 61,
     "metadata": {},
     "output_type": "execute_result"
    }
   ],
   "source": [
    "# find the sum of the elements in an array sum()\n",
    "a.sum()"
   ]
  },
  {
   "cell_type": "markdown",
   "id": "40ee693d",
   "metadata": {},
   "source": [
    "# Broadcasting\n",
    "There are times when you might want to carry out an operation between an array and a single number"
   ]
  },
  {
   "cell_type": "code",
   "execution_count": 63,
   "id": "711e750e",
   "metadata": {},
   "outputs": [
    {
     "data": {
      "text/plain": [
       "array([1.6, 3.2])"
      ]
     },
     "execution_count": 63,
     "metadata": {},
     "output_type": "execute_result"
    }
   ],
   "source": [
    "data = np.array([1.0, 2.0])\n",
    "data * 1.6"
   ]
  },
  {
   "cell_type": "markdown",
   "id": "9991c603",
   "metadata": {},
   "source": [
    "# More useful array operations"
   ]
  },
  {
   "cell_type": "code",
   "execution_count": 65,
   "id": "0e390f61",
   "metadata": {},
   "outputs": [
    {
     "name": "stdout",
     "output_type": "stream",
     "text": [
      "8\n",
      "9\n",
      "[7 9]\n",
      "[4 9]\n"
     ]
    }
   ],
   "source": [
    "#Max() \n",
    "arrayA = np.array([1,0,2,-3,6,8,5,7]) \n",
    "arrayB = np.array([[3,7],[4,9]])\n",
    "print(arrayA.max())\n",
    "print(arrayB.max())\n",
    "print(arrayB.max(axis=1))\n",
    "print(arrayB.max(axis=0)) "
   ]
  },
  {
   "cell_type": "code",
   "execution_count": 66,
   "id": "d0602786",
   "metadata": {},
   "outputs": [
    {
     "name": "stdout",
     "output_type": "stream",
     "text": [
      "-3\n",
      "3\n",
      "[3 4]\n"
     ]
    }
   ],
   "source": [
    "#Min()\n",
    "print(arrayA.min())\n",
    "print(arrayB.min ())\n",
    "print(arrayB.min(axis=1)) "
   ]
  },
  {
   "cell_type": "code",
   "execution_count": 67,
   "id": "be239fd7",
   "metadata": {},
   "outputs": [
    {
     "name": "stdout",
     "output_type": "stream",
     "text": [
      "26\n",
      "23\n",
      "[10 13]\n"
     ]
    }
   ],
   "source": [
    "#Sum()\n",
    "print(arrayA.sum())\n",
    "print(arrayB.sum())\n",
    "print(arrayB.sum(axis=1))"
   ]
  },
  {
   "cell_type": "code",
   "execution_count": 68,
   "id": "003aca90",
   "metadata": {},
   "outputs": [
    {
     "name": "stdout",
     "output_type": "stream",
     "text": [
      "3.25\n",
      "5.75\n",
      "[3.5 8. ]\n"
     ]
    }
   ],
   "source": [
    "# Mean to get the average,\n",
    "# Mean() \n",
    "print(arrayA.mean()) \n",
    "print(arrayB.mean()) \n",
    "print(arrayB.mean(axis=0)) "
   ]
  },
  {
   "cell_type": "code",
   "execution_count": 169,
   "id": "50d92c93",
   "metadata": {},
   "outputs": [
    {
     "name": "stdout",
     "output_type": "stream",
     "text": [
      "3.59687364248454\n",
      "2.384848003542364\n",
      "[0.5 1. ]\n"
     ]
    }
   ],
   "source": [
    "# To get the standard deviation\n",
    "#Std()\n",
    "print(arrayA.std()) \n",
    "print(arrayB.std()) \n",
    "print(arrayB.std(axis=0))"
   ]
  },
  {
   "cell_type": "code",
   "execution_count": 70,
   "id": "8594a514",
   "metadata": {},
   "outputs": [
    {
     "data": {
      "text/plain": [
       "array([[0.34617734, 0.53456631],\n",
       "       [0.70196743, 0.50919177],\n",
       "       [0.57312742, 0.16040454]])"
      ]
     },
     "execution_count": 70,
     "metadata": {},
     "output_type": "execute_result"
    }
   ],
   "source": [
    "# Create a random 2D array \n",
    "rng = np.random.default_rng()\n",
    "rng.random((3, 2)) "
   ]
  },
  {
   "cell_type": "markdown",
   "id": "2387bf77",
   "metadata": {},
   "source": [
    "# Generating random numbers\n",
    "\n",
    "- The use of random number generation is an important part of the configuration and evaluation of many numerical and machine learning algorithms.\n",
    "- With Generator.integers, you can generate random integers from low (remember that this is inclusive with NumPy) to high (exclusive). You can set endpoint=True to make the high number inclusive."
   ]
  },
  {
   "cell_type": "code",
   "execution_count": 72,
   "id": "aa1d230b",
   "metadata": {},
   "outputs": [
    {
     "data": {
      "text/plain": [
       "array([[2, 4, 1, 2],\n",
       "       [3, 0, 3, 2]], dtype=int64)"
      ]
     },
     "execution_count": 72,
     "metadata": {},
     "output_type": "execute_result"
    }
   ],
   "source": [
    "rng.integers(5, size=(2, 4)) "
   ]
  },
  {
   "cell_type": "markdown",
   "id": "be42c700",
   "metadata": {},
   "source": [
    "# How to get unique items and counts"
   ]
  },
  {
   "cell_type": "code",
   "execution_count": 74,
   "id": "60987bfc",
   "metadata": {},
   "outputs": [
    {
     "name": "stdout",
     "output_type": "stream",
     "text": [
      "[1 2 3 4 5 6]\n"
     ]
    }
   ],
   "source": [
    "unique_values = np.unique(a)\n",
    "print(unique_values)"
   ]
  },
  {
   "cell_type": "code",
   "execution_count": 75,
   "id": "61655241",
   "metadata": {},
   "outputs": [
    {
     "name": "stdout",
     "output_type": "stream",
     "text": [
      "[0 1 2 3 4 5]\n"
     ]
    }
   ],
   "source": [
    "unique_values, indices_list = np.unique(a, return_index=True)\n",
    "print(indices_list)"
   ]
  },
  {
   "cell_type": "code",
   "execution_count": 76,
   "id": "faa7c52c",
   "metadata": {},
   "outputs": [
    {
     "name": "stdout",
     "output_type": "stream",
     "text": [
      "[1 1 3 1 1 3 1 1]\n"
     ]
    }
   ],
   "source": [
    "d=np.array([11,11,2,5,7,5,8,11,4,31,12,5])\n",
    "unique_values, occurrence_count = np.unique(d, return_counts=True)\n",
    "print(occurrence_count)\n"
   ]
  },
  {
   "cell_type": "code",
   "execution_count": 77,
   "id": "b46941d3",
   "metadata": {},
   "outputs": [
    {
     "name": "stdout",
     "output_type": "stream",
     "text": [
      "[[ 1  2  3  4]\n",
      " [ 5  6  7  8]\n",
      " [ 9 10 11 12]]\n"
     ]
    }
   ],
   "source": [
    "# Get the unique rows or columns, make sure to pass the axis argument\n",
    "unique_rows = np.unique(arr_3d, axis=0)\n",
    "print(unique_rows)"
   ]
  },
  {
   "cell_type": "markdown",
   "id": "b8ec87f9",
   "metadata": {},
   "source": [
    "# How to reverse an array\n",
    "- NumPy’s np.flip() function allows you to flip, or reverse, the contents of an array along an axis."
   ]
  },
  {
   "cell_type": "code",
   "execution_count": 79,
   "id": "f3be9eb2",
   "metadata": {},
   "outputs": [
    {
     "data": {
      "text/plain": [
       "array([1, 2, 3, 4, 5, 6, 7, 8])"
      ]
     },
     "execution_count": 79,
     "metadata": {},
     "output_type": "execute_result"
    }
   ],
   "source": [
    "arr= np.array([1, 2, 3, 4, 5, 6, 7, 8])\n",
    "arr"
   ]
  },
  {
   "cell_type": "code",
   "execution_count": 80,
   "id": "17eedf12",
   "metadata": {},
   "outputs": [
    {
     "name": "stdout",
     "output_type": "stream",
     "text": [
      "Reversed Array:  [8 7 6 5 4 3 2 1]\n"
     ]
    }
   ],
   "source": [
    "reversed_arr = np.flip(arr)\n",
    "print('Reversed Array: ', reversed_arr)"
   ]
  },
  {
   "cell_type": "code",
   "execution_count": 81,
   "id": "0313361a",
   "metadata": {},
   "outputs": [
    {
     "name": "stdout",
     "output_type": "stream",
     "text": [
      "[[12 11 10  9]\n",
      " [ 8  7  6  5]\n",
      " [ 4  3  2  1]]\n"
     ]
    }
   ],
   "source": [
    "reversed_arr = np.flip(arr_3d)\n",
    "print(reversed_arr)"
   ]
  },
  {
   "cell_type": "code",
   "execution_count": 82,
   "id": "85f7448e",
   "metadata": {},
   "outputs": [
    {
     "name": "stdout",
     "output_type": "stream",
     "text": [
      "[[ 9 10 11 12]\n",
      " [ 5  6  7  8]\n",
      " [ 1  2  3  4]]\n"
     ]
    }
   ],
   "source": [
    "# reverse only the rows with\n",
    "reversed_arr_rows = np.flip(arr_3d, axis=0)\n",
    "print(reversed_arr_rows)"
   ]
  },
  {
   "cell_type": "code",
   "execution_count": 83,
   "id": "ab26a965",
   "metadata": {},
   "outputs": [
    {
     "name": "stdout",
     "output_type": "stream",
     "text": [
      "[[ 4  3  2  1]\n",
      " [ 8  7  6  5]\n",
      " [12 11 10  9]]\n"
     ]
    }
   ],
   "source": [
    "# reverse only the columns with\n",
    "reversed_arr_columns = np.flip(arr_3d, axis=1)\n",
    "print(reversed_arr_columns)"
   ]
  },
  {
   "cell_type": "markdown",
   "id": "d832ef6f",
   "metadata": {},
   "source": [
    "# Reshaping and flattening multidimensional arrays"
   ]
  },
  {
   "cell_type": "code",
   "execution_count": 85,
   "id": "07e46a93",
   "metadata": {},
   "outputs": [
    {
     "data": {
      "text/plain": [
       "array([ 1,  2,  3,  4,  5,  6,  7,  8,  9, 10, 11, 12])"
      ]
     },
     "execution_count": 85,
     "metadata": {},
     "output_type": "execute_result"
    }
   ],
   "source": [
    "# Use flatten to flatten your array into a 1D array\n",
    "arr_3d.flatten()"
   ]
  },
  {
   "cell_type": "markdown",
   "id": "a756e959",
   "metadata": {},
   "source": [
    "# How to save and load NumPy objects\n",
    "(np.save, np.savez, np.savetxt, np.load, np.loadtxt)"
   ]
  },
  {
   "cell_type": "code",
   "execution_count": 87,
   "id": "fab02ac9",
   "metadata": {},
   "outputs": [],
   "source": [
    "a = np.array([1, 2, 3, 4, 5, 6])\n",
    "# save it as “filename.npy” with:\n",
    "np.save('filename', a)"
   ]
  },
  {
   "cell_type": "code",
   "execution_count": 88,
   "id": "8d58d572",
   "metadata": {},
   "outputs": [
    {
     "name": "stdout",
     "output_type": "stream",
     "text": [
      "[1 2 3 4 5 6]\n"
     ]
    }
   ],
   "source": [
    "# np.load() to reconstruct your array.\n",
    "b = np.load('filename.npy')\n",
    "# check your array, you can run:\n",
    "print(b)"
   ]
  },
  {
   "cell_type": "code",
   "execution_count": 89,
   "id": "12d791b9",
   "metadata": {},
   "outputs": [],
   "source": [
    "# save a NumPy array as a plain text file like a .csv or .txt file with np.savetxt.\n",
    "csv_arr = np.array([1, 2, 3, 4, 5, 6, 7, 8])\n",
    "# save it as a .csv file with the name “new_file.csv” like this:\n",
    "np.savetxt('new_file.csv', csv_arr)"
   ]
  },
  {
   "cell_type": "code",
   "execution_count": 90,
   "id": "c2cd008c",
   "metadata": {},
   "outputs": [
    {
     "data": {
      "text/plain": [
       "array([1., 2., 3., 4., 5., 6., 7., 8.])"
      ]
     },
     "execution_count": 90,
     "metadata": {},
     "output_type": "execute_result"
    }
   ],
   "source": [
    "# load your saved text file using loadtxt():\n",
    "np.loadtxt('new_file.csv')"
   ]
  },
  {
   "cell_type": "markdown",
   "id": "f8b9a8ff",
   "metadata": {},
   "source": [
    "# Importing and exporting a CSV"
   ]
  },
  {
   "cell_type": "markdown",
   "id": "ab230b14",
   "metadata": {},
   "source": [
    "- It’s simple to read in a CSV that contains existing information. The best and easiest way to do this is to use Pandas"
   ]
  },
  {
   "cell_type": "code",
   "execution_count": 93,
   "id": "565d2542",
   "metadata": {},
   "outputs": [],
   "source": [
    "import pandas as pd\n",
    "a = np.array([[-2.58289208,  0.43014843, -1.24082018, 1.59572603],\n",
    "              [ 0.99027828, 1.17150989,  0.94125714, -0.14692469],\n",
    "              [ 0.76989341,  0.81299683, -0.95068423, 0.11769564],\n",
    "              [ 0.20484034,  0.34784527,  1.96979195, 0.51992837]])"
   ]
  },
  {
   "cell_type": "code",
   "execution_count": 94,
   "id": "a5d0e65c",
   "metadata": {},
   "outputs": [
    {
     "name": "stdout",
     "output_type": "stream",
     "text": [
      "          0         1         2         3\n",
      "0 -2.582892  0.430148 -1.240820  1.595726\n",
      "1  0.990278  1.171510  0.941257 -0.146925\n",
      "2  0.769893  0.812997 -0.950684  0.117696\n",
      "3  0.204840  0.347845  1.969792  0.519928\n"
     ]
    }
   ],
   "source": [
    "df = pd.DataFrame(a)\n",
    "print(df)"
   ]
  },
  {
   "cell_type": "code",
   "execution_count": 95,
   "id": "eddb129d",
   "metadata": {},
   "outputs": [],
   "source": [
    "# save your dataframe with\n",
    "df.to_csv('pd.csv')"
   ]
  },
  {
   "cell_type": "code",
   "execution_count": 96,
   "id": "6eb567bc",
   "metadata": {},
   "outputs": [
    {
     "data": {
      "text/html": [
       "<div>\n",
       "<style scoped>\n",
       "    .dataframe tbody tr th:only-of-type {\n",
       "        vertical-align: middle;\n",
       "    }\n",
       "\n",
       "    .dataframe tbody tr th {\n",
       "        vertical-align: top;\n",
       "    }\n",
       "\n",
       "    .dataframe thead th {\n",
       "        text-align: right;\n",
       "    }\n",
       "</style>\n",
       "<table border=\"1\" class=\"dataframe\">\n",
       "  <thead>\n",
       "    <tr style=\"text-align: right;\">\n",
       "      <th></th>\n",
       "      <th>Unnamed: 0</th>\n",
       "      <th>0</th>\n",
       "      <th>1</th>\n",
       "      <th>2</th>\n",
       "      <th>3</th>\n",
       "    </tr>\n",
       "  </thead>\n",
       "  <tbody>\n",
       "    <tr>\n",
       "      <th>0</th>\n",
       "      <td>0</td>\n",
       "      <td>-2.582892</td>\n",
       "      <td>0.430148</td>\n",
       "      <td>-1.240820</td>\n",
       "      <td>1.595726</td>\n",
       "    </tr>\n",
       "    <tr>\n",
       "      <th>1</th>\n",
       "      <td>1</td>\n",
       "      <td>0.990278</td>\n",
       "      <td>1.171510</td>\n",
       "      <td>0.941257</td>\n",
       "      <td>-0.146925</td>\n",
       "    </tr>\n",
       "    <tr>\n",
       "      <th>2</th>\n",
       "      <td>2</td>\n",
       "      <td>0.769893</td>\n",
       "      <td>0.812997</td>\n",
       "      <td>-0.950684</td>\n",
       "      <td>0.117696</td>\n",
       "    </tr>\n",
       "    <tr>\n",
       "      <th>3</th>\n",
       "      <td>3</td>\n",
       "      <td>0.204840</td>\n",
       "      <td>0.347845</td>\n",
       "      <td>1.969792</td>\n",
       "      <td>0.519928</td>\n",
       "    </tr>\n",
       "  </tbody>\n",
       "</table>\n",
       "</div>"
      ],
      "text/plain": [
       "   Unnamed: 0         0         1         2         3\n",
       "0           0 -2.582892  0.430148 -1.240820  1.595726\n",
       "1           1  0.990278  1.171510  0.941257 -0.146925\n",
       "2           2  0.769893  0.812997 -0.950684  0.117696\n",
       "3           3  0.204840  0.347845  1.969792  0.519928"
      ]
     },
     "execution_count": 96,
     "metadata": {},
     "output_type": "execute_result"
    }
   ],
   "source": [
    "# read your CSV with\n",
    "data = pd.read_csv('pd.csv')\n",
    "data"
   ]
  },
  {
   "cell_type": "markdown",
   "id": "cba867ab",
   "metadata": {},
   "source": [
    "# Plotting arrays with Matplotlib"
   ]
  },
  {
   "cell_type": "code",
   "execution_count": 98,
   "id": "d3e5bda9",
   "metadata": {},
   "outputs": [
    {
     "data": {
      "image/png": "[encoded data removed]",
      "text/plain": [
       "<Figure size 640x480 with 1 Axes>"
      ]
     },
     "metadata": {},
     "output_type": "display_data"
    }
   ],
   "source": [
    "import matplotlib.pyplot as plt\n",
    "plt.plot(a)\n",
    "plt.show()"
   ]
  },
  {
   "cell_type": "code",
   "execution_count": 99,
   "id": "cdba7e44",
   "metadata": {},
   "outputs": [
    {
     "data": {
      "text/plain": [
       "<mpl_toolkits.mplot3d.art3d.Poly3DCollection at 0x1d7d6581c40>"
      ]
     },
     "execution_count": 99,
     "metadata": {},
     "output_type": "execute_result"
    },
    {
     "data": {
      "image/png": "[encoded data removed]",
      "text/plain": [
       "<Figure size 640x480 with 1 Axes>"
      ]
     },
     "metadata": {},
     "output_type": "display_data"
    }
   ],
   "source": [
    "fig = plt.figure()\n",
    "ax = fig.add_subplot(projection='3d')\n",
    "X = np.arange(-5, 5, 0.15)\n",
    "Y = np.arange(-5, 5, 0.15)\n",
    "X, Y = np.meshgrid(X, Y)\n",
    "R = np.sqrt(X**2 + Y**2)\n",
    "Z = np.sin(R)\n",
    "\n",
    "ax.plot_surface(X, Y, Z, rstride=1, cstride=1, cmap='viridis')"
   ]
  }
 ],
 "metadata": {
  "kernelspec": {
   "display_name": "Python 3 (ipykernel)",
   "language": "python",
   "name": "python3"
  },
  "language_info": {
   "codemirror_mode": {
    "name": "ipython",
    "version": 3
   },
   "file_extension": ".py",
   "mimetype": "text/x-python",
   "name": "python",
   "nbconvert_exporter": "python",
   "pygments_lexer": "ipython3",
   "version": "3.12.3"
  },
  "toc": {
   "base_numbering": 1,
   "nav_menu": {},
   "number_sections": true,
   "sideBar": true,
   "skip_h1_title": false,
   "title_cell": "Table of Contents",
   "title_sidebar": "Contents",
   "toc_cell": false,
   "toc_position": {},
   "toc_section_display": true,
   "toc_window_display": false
  }
 },
 "nbformat": 4,
 "nbformat_minor": 5
}
