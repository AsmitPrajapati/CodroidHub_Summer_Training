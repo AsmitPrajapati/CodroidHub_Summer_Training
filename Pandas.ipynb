{
 "cells": [
  {
   "cell_type": "markdown",
   "id": "bf712aee-83ec-472c-a7df-2d58cb013f07",
   "metadata": {},
   "source": [
    "# Pandas"
   ]
  },
  {
   "cell_type": "markdown",
   "id": "05bedde6-3330-4bc8-8d1e-0ceca525e524",
   "metadata": {},
   "source": [
    "Panda is a fast,powerful,flexible and easy to use open source data analysis and manipulation tool built on top of the Python programming language."
   ]
  },
  {
   "cell_type": "code",
   "execution_count": 3,
   "id": "517687bb-7315-4683-8c12-5f448f94b83f",
   "metadata": {},
   "outputs": [],
   "source": [
    "import pandas as pd \n",
    "import numpy as np"
   ]
  },
  {
   "cell_type": "markdown",
   "id": "4b78b74e-76a6-49b0-9b31-db26217c86be",
   "metadata": {},
   "source": [
    "## Basic Data Structures in pandas"
   ]
  },
  {
   "cell_type": "markdown",
   "id": "c39b24b9-f1b8-4556-a7ae-d998efc5c4fe",
   "metadata": {},
   "source": [
    "Series: a one-dimensional labeled array holding data of any type\r\n",
    "such as integers, strings, Python objects etc.\r\n",
    "\r\n",
    "DataFrame: a two-dimensional data structure that holds data like a two-dimension array or a table with rows and columns."
   ]
  },
  {
   "cell_type": "code",
   "execution_count": 6,
   "id": "9f0a9c37-88cf-4256-af82-39a970d4fb85",
   "metadata": {},
   "outputs": [
    {
     "data": {
      "text/html": [
       "<div>\n",
       "<style scoped>\n",
       "    .dataframe tbody tr th:only-of-type {\n",
       "        vertical-align: middle;\n",
       "    }\n",
       "\n",
       "    .dataframe tbody tr th {\n",
       "        vertical-align: top;\n",
       "    }\n",
       "\n",
       "    .dataframe thead th {\n",
       "        text-align: right;\n",
       "    }\n",
       "</style>\n",
       "<table border=\"1\" class=\"dataframe\">\n",
       "  <thead>\n",
       "    <tr style=\"text-align: right;\">\n",
       "      <th></th>\n",
       "      <th>Roll No</th>\n",
       "      <th>Stu Name</th>\n",
       "    </tr>\n",
       "  </thead>\n",
       "  <tbody>\n",
       "    <tr>\n",
       "      <th>0</th>\n",
       "      <td>1</td>\n",
       "      <td>Vikas</td>\n",
       "    </tr>\n",
       "    <tr>\n",
       "      <th>1</th>\n",
       "      <td>2</td>\n",
       "      <td>Tarun</td>\n",
       "    </tr>\n",
       "    <tr>\n",
       "      <th>2</th>\n",
       "      <td>3</td>\n",
       "      <td>Abhishek</td>\n",
       "    </tr>\n",
       "  </tbody>\n",
       "</table>\n",
       "</div>"
      ],
      "text/plain": [
       "   Roll No  Stu Name\n",
       "0        1     Vikas\n",
       "1        2     Tarun\n",
       "2        3  Abhishek"
      ]
     },
     "execution_count": 6,
     "metadata": {},
     "output_type": "execute_result"
    }
   ],
   "source": [
    "df=pd.DataFrame({\"Roll No\":[1,2,3,],\"Stu Name\":['Vikas','Tarun','Abhishek']})\n",
    "df"
   ]
  },
  {
   "cell_type": "code",
   "execution_count": 7,
   "id": "b9d6c267-d79b-4f65-b890-162043396527",
   "metadata": {},
   "outputs": [
    {
     "data": {
      "text/plain": [
       "pandas.core.frame.DataFrame"
      ]
     },
     "execution_count": 7,
     "metadata": {},
     "output_type": "execute_result"
    }
   ],
   "source": [
    "# Defining the type of dataframe \n",
    "type(df)"
   ]
  },
  {
   "cell_type": "markdown",
   "id": "e0576e1c-f660-4011-a28b-b472b36dab8a",
   "metadata": {},
   "source": [
    "## What is NaN ?\n",
    "#NumPy NAN stands for not a number and is defined as a substitute for declaring value which are numerical values that are missing values in an array as NumPy is used to deal with arrays in Python and this can be initialized using numpy."
   ]
  },
  {
   "cell_type": "markdown",
   "id": "939edd8a-689e-4346-bf1c-766ec19d3d37",
   "metadata": {},
   "source": [
    "## Difference between NaN & Null\n",
    "`NaN` is a special floating-point value used in numeric computations, particularly with the `numpy` and `pandas` libraries\n",
    " Null is often used in situations where the absence of a value is a valid and meaningful concept"
   ]
  },
  {
   "cell_type": "code",
   "execution_count": 10,
   "id": "c7414e2b-7c8a-488c-95f8-a92332d276d9",
   "metadata": {},
   "outputs": [
    {
     "data": {
      "text/html": [
       "<div>\n",
       "<style scoped>\n",
       "    .dataframe tbody tr th:only-of-type {\n",
       "        vertical-align: middle;\n",
       "    }\n",
       "\n",
       "    .dataframe tbody tr th {\n",
       "        vertical-align: top;\n",
       "    }\n",
       "\n",
       "    .dataframe thead th {\n",
       "        text-align: right;\n",
       "    }\n",
       "</style>\n",
       "<table border=\"1\" class=\"dataframe\">\n",
       "  <thead>\n",
       "    <tr style=\"text-align: right;\">\n",
       "      <th></th>\n",
       "      <th>Roll No</th>\n",
       "      <th>Stu Name</th>\n",
       "    </tr>\n",
       "  </thead>\n",
       "  <tbody>\n",
       "    <tr>\n",
       "      <th>0</th>\n",
       "      <td>1.0</td>\n",
       "      <td>Vikas</td>\n",
       "    </tr>\n",
       "    <tr>\n",
       "      <th>1</th>\n",
       "      <td>NaN</td>\n",
       "      <td>Tarun</td>\n",
       "    </tr>\n",
       "    <tr>\n",
       "      <th>2</th>\n",
       "      <td>3.0</td>\n",
       "      <td>Abhishek</td>\n",
       "    </tr>\n",
       "  </tbody>\n",
       "</table>\n",
       "</div>"
      ],
      "text/plain": [
       "   Roll No  Stu Name\n",
       "0      1.0     Vikas\n",
       "1      NaN     Tarun\n",
       "2      3.0  Abhishek"
      ]
     },
     "execution_count": 10,
     "metadata": {},
     "output_type": "execute_result"
    }
   ],
   "source": [
    "#why roll number changes to float value when we replace 2 with np.nan\n",
    "df=pd.DataFrame({\"Roll No\":[1,np.nan,3],\"Stu Name\":['Vikas','Tarun','Abhishek']},)\n",
    "df"
   ]
  },
  {
   "cell_type": "code",
   "execution_count": 11,
   "id": "b6e319c1-a0d6-4e23-a1a0-f8a8f3e36b47",
   "metadata": {},
   "outputs": [],
   "source": [
    "# Change: data type of values in the columns changes to float "
   ]
  },
  {
   "cell_type": "markdown",
   "id": "5045054d-a968-4143-b42f-908054412a41",
   "metadata": {},
   "source": [
    "## Why Roll No changes to float\n",
    "`NaN` is a special floating-point value used in numeric computations, particularly with the `numpy` and `pandas` libraries\n",
    " Null is often used in situations where the absence of a value is a valid and meaningful concept"
   ]
  },
  {
   "cell_type": "code",
   "execution_count": 13,
   "id": "42680d30-0a9c-4b43-862b-a13db6356e1c",
   "metadata": {},
   "outputs": [
    {
     "data": {
      "text/html": [
       "<div>\n",
       "<style scoped>\n",
       "    .dataframe tbody tr th:only-of-type {\n",
       "        vertical-align: middle;\n",
       "    }\n",
       "\n",
       "    .dataframe tbody tr th {\n",
       "        vertical-align: top;\n",
       "    }\n",
       "\n",
       "    .dataframe thead th {\n",
       "        text-align: right;\n",
       "    }\n",
       "</style>\n",
       "<table border=\"1\" class=\"dataframe\">\n",
       "  <thead>\n",
       "    <tr style=\"text-align: right;\">\n",
       "      <th></th>\n",
       "      <th>Roll No</th>\n",
       "      <th>Stu Name</th>\n",
       "    </tr>\n",
       "  </thead>\n",
       "  <tbody>\n",
       "    <tr>\n",
       "      <th>0</th>\n",
       "      <td>1.0</td>\n",
       "      <td>Vikas</td>\n",
       "    </tr>\n",
       "    <tr>\n",
       "      <th>1</th>\n",
       "      <td>NaN</td>\n",
       "      <td>Tarun</td>\n",
       "    </tr>\n",
       "    <tr>\n",
       "      <th>2</th>\n",
       "      <td>3.0</td>\n",
       "      <td>Abhishek</td>\n",
       "    </tr>\n",
       "  </tbody>\n",
       "</table>\n",
       "</div>"
      ],
      "text/plain": [
       "   Roll No  Stu Name\n",
       "0      1.0     Vikas\n",
       "1      NaN     Tarun\n",
       "2      3.0  Abhishek"
      ]
     },
     "execution_count": 13,
     "metadata": {},
     "output_type": "execute_result"
    }
   ],
   "source": [
    "# is it posssible to convert value into int while using nan and how it is done? \n",
    "df['Roll No']=df['Roll No']\n",
    "df"
   ]
  },
  {
   "cell_type": "markdown",
   "id": "c4c9796c-5b13-4435-a9ef-f8cf2eea0470",
   "metadata": {},
   "source": [
    "## How to convert roll no into integer value with np.nan?\n",
    "fillna(-1): Fills NaN values with -1. You can choose any placeholder value that makes sense for your context.\n",
    "\n",
    "astype(int): Converts the column to an integer type (int64)"
   ]
  },
  {
   "cell_type": "code",
   "execution_count": 15,
   "id": "db73fc0e-e7c7-4263-b4da-53f7a9566a12",
   "metadata": {},
   "outputs": [
    {
     "data": {
      "text/html": [
       "<div>\n",
       "<style scoped>\n",
       "    .dataframe tbody tr th:only-of-type {\n",
       "        vertical-align: middle;\n",
       "    }\n",
       "\n",
       "    .dataframe tbody tr th {\n",
       "        vertical-align: top;\n",
       "    }\n",
       "\n",
       "    .dataframe thead th {\n",
       "        text-align: right;\n",
       "    }\n",
       "</style>\n",
       "<table border=\"1\" class=\"dataframe\">\n",
       "  <thead>\n",
       "    <tr style=\"text-align: right;\">\n",
       "      <th></th>\n",
       "      <th>Roll No</th>\n",
       "      <th>Stu Name</th>\n",
       "    </tr>\n",
       "  </thead>\n",
       "  <tbody>\n",
       "    <tr>\n",
       "      <th>0</th>\n",
       "      <td>1</td>\n",
       "      <td>Vikas</td>\n",
       "    </tr>\n",
       "    <tr>\n",
       "      <th>1</th>\n",
       "      <td>-1</td>\n",
       "      <td>Tarun</td>\n",
       "    </tr>\n",
       "    <tr>\n",
       "      <th>2</th>\n",
       "      <td>3</td>\n",
       "      <td>Abhishek</td>\n",
       "    </tr>\n",
       "  </tbody>\n",
       "</table>\n",
       "</div>"
      ],
      "text/plain": [
       "   Roll No  Stu Name\n",
       "0        1     Vikas\n",
       "1       -1     Tarun\n",
       "2        3  Abhishek"
      ]
     },
     "execution_count": 15,
     "metadata": {},
     "output_type": "execute_result"
    }
   ],
   "source": [
    "# method 1\n",
    "df['Roll No']=df['Roll No'].fillna(-1).astype(int)\n",
    "df"
   ]
  },
  {
   "cell_type": "code",
   "execution_count": 16,
   "id": "37c85979-3cc3-4d52-af3a-55f0a01f0c7a",
   "metadata": {},
   "outputs": [
    {
     "data": {
      "text/html": [
       "<div>\n",
       "<style scoped>\n",
       "    .dataframe tbody tr th:only-of-type {\n",
       "        vertical-align: middle;\n",
       "    }\n",
       "\n",
       "    .dataframe tbody tr th {\n",
       "        vertical-align: top;\n",
       "    }\n",
       "\n",
       "    .dataframe thead th {\n",
       "        text-align: right;\n",
       "    }\n",
       "</style>\n",
       "<table border=\"1\" class=\"dataframe\">\n",
       "  <thead>\n",
       "    <tr style=\"text-align: right;\">\n",
       "      <th></th>\n",
       "      <th>Roll Number</th>\n",
       "    </tr>\n",
       "  </thead>\n",
       "  <tbody>\n",
       "    <tr>\n",
       "      <th>0</th>\n",
       "      <td>1</td>\n",
       "    </tr>\n",
       "    <tr>\n",
       "      <th>1</th>\n",
       "      <td>&lt;NA&gt;</td>\n",
       "    </tr>\n",
       "    <tr>\n",
       "      <th>2</th>\n",
       "      <td>3</td>\n",
       "    </tr>\n",
       "    <tr>\n",
       "      <th>3</th>\n",
       "      <td>4</td>\n",
       "    </tr>\n",
       "  </tbody>\n",
       "</table>\n",
       "</div>"
      ],
      "text/plain": [
       "   Roll Number\n",
       "0            1\n",
       "1         <NA>\n",
       "2            3\n",
       "3            4"
      ]
     },
     "execution_count": 16,
     "metadata": {},
     "output_type": "execute_result"
    }
   ],
   "source": [
    "# Method 2\n",
    "df = pd.DataFrame({'Roll Number': [1,np.nan,3,4]})\n",
    "df['Roll Number'] = df['Roll Number'].astype(pd.Int64Dtype())\n",
    "df"
   ]
  },
  {
   "cell_type": "code",
   "execution_count": 17,
   "id": "0e028b23-c2ee-4394-bf21-b80120ed9f5e",
   "metadata": {},
   "outputs": [
    {
     "data": {
      "text/plain": [
       "0    1\n",
       "1    3\n",
       "2    5\n",
       "3    6\n",
       "dtype: int64"
      ]
     },
     "execution_count": 17,
     "metadata": {},
     "output_type": "execute_result"
    }
   ],
   "source": [
    "# Series\n",
    "Series = pd.Series([1,3,5,6])\n",
    "Series"
   ]
  },
  {
   "cell_type": "code",
   "execution_count": 18,
   "id": "9e8669fc-4567-4874-b89c-b7f28c0e7839",
   "metadata": {},
   "outputs": [],
   "source": [
    "# object creation\n",
    "dates=pd.date_range(\"20240102\",periods=4)"
   ]
  },
  {
   "cell_type": "code",
   "execution_count": 19,
   "id": "401e2708-4f22-45b3-8e36-3aa6bc65a991",
   "metadata": {},
   "outputs": [
    {
     "data": {
      "text/html": [
       "<div>\n",
       "<style scoped>\n",
       "    .dataframe tbody tr th:only-of-type {\n",
       "        vertical-align: middle;\n",
       "    }\n",
       "\n",
       "    .dataframe tbody tr th {\n",
       "        vertical-align: top;\n",
       "    }\n",
       "\n",
       "    .dataframe thead th {\n",
       "        text-align: right;\n",
       "    }\n",
       "</style>\n",
       "<table border=\"1\" class=\"dataframe\">\n",
       "  <thead>\n",
       "    <tr style=\"text-align: right;\">\n",
       "      <th></th>\n",
       "      <th>0</th>\n",
       "      <th>1</th>\n",
       "      <th>2</th>\n",
       "      <th>3</th>\n",
       "    </tr>\n",
       "  </thead>\n",
       "  <tbody>\n",
       "    <tr>\n",
       "      <th>0</th>\n",
       "      <td>-0.973899</td>\n",
       "      <td>-0.996850</td>\n",
       "      <td>0.156094</td>\n",
       "      <td>0.246698</td>\n",
       "    </tr>\n",
       "    <tr>\n",
       "      <th>1</th>\n",
       "      <td>-0.473840</td>\n",
       "      <td>1.919520</td>\n",
       "      <td>-0.479343</td>\n",
       "      <td>1.707979</td>\n",
       "    </tr>\n",
       "    <tr>\n",
       "      <th>2</th>\n",
       "      <td>0.186523</td>\n",
       "      <td>2.823230</td>\n",
       "      <td>-0.646622</td>\n",
       "      <td>1.550284</td>\n",
       "    </tr>\n",
       "    <tr>\n",
       "      <th>3</th>\n",
       "      <td>0.306439</td>\n",
       "      <td>0.319302</td>\n",
       "      <td>0.066547</td>\n",
       "      <td>1.258353</td>\n",
       "    </tr>\n",
       "  </tbody>\n",
       "</table>\n",
       "</div>"
      ],
      "text/plain": [
       "          0         1         2         3\n",
       "0 -0.973899 -0.996850  0.156094  0.246698\n",
       "1 -0.473840  1.919520 -0.479343  1.707979\n",
       "2  0.186523  2.823230 -0.646622  1.550284\n",
       "3  0.306439  0.319302  0.066547  1.258353"
      ]
     },
     "execution_count": 19,
     "metadata": {},
     "output_type": "execute_result"
    }
   ],
   "source": [
    "#generating dataframe with random num\n",
    "sd=pd.DataFrame(np.random.randn(4,4))\n",
    "sd"
   ]
  },
  {
   "cell_type": "code",
   "execution_count": 20,
   "id": "cfc89a93-9011-424a-83ff-afd3d29df609",
   "metadata": {},
   "outputs": [
    {
     "data": {
      "text/html": [
       "<div>\n",
       "<style scoped>\n",
       "    .dataframe tbody tr th:only-of-type {\n",
       "        vertical-align: middle;\n",
       "    }\n",
       "\n",
       "    .dataframe tbody tr th {\n",
       "        vertical-align: top;\n",
       "    }\n",
       "\n",
       "    .dataframe thead th {\n",
       "        text-align: right;\n",
       "    }\n",
       "</style>\n",
       "<table border=\"1\" class=\"dataframe\">\n",
       "  <thead>\n",
       "    <tr style=\"text-align: right;\">\n",
       "      <th></th>\n",
       "      <th>0</th>\n",
       "      <th>1</th>\n",
       "      <th>2</th>\n",
       "      <th>3</th>\n",
       "    </tr>\n",
       "  </thead>\n",
       "  <tbody>\n",
       "    <tr>\n",
       "      <th>2024-01-02</th>\n",
       "      <td>-0.724396</td>\n",
       "      <td>1.914720</td>\n",
       "      <td>-1.162322</td>\n",
       "      <td>0.738896</td>\n",
       "    </tr>\n",
       "    <tr>\n",
       "      <th>2024-01-03</th>\n",
       "      <td>0.640619</td>\n",
       "      <td>1.422195</td>\n",
       "      <td>0.303791</td>\n",
       "      <td>0.217561</td>\n",
       "    </tr>\n",
       "    <tr>\n",
       "      <th>2024-01-04</th>\n",
       "      <td>0.219279</td>\n",
       "      <td>0.380159</td>\n",
       "      <td>0.167952</td>\n",
       "      <td>0.190608</td>\n",
       "    </tr>\n",
       "    <tr>\n",
       "      <th>2024-01-05</th>\n",
       "      <td>-0.225079</td>\n",
       "      <td>0.023741</td>\n",
       "      <td>0.517326</td>\n",
       "      <td>1.211536</td>\n",
       "    </tr>\n",
       "  </tbody>\n",
       "</table>\n",
       "</div>"
      ],
      "text/plain": [
       "                   0         1         2         3\n",
       "2024-01-02 -0.724396  1.914720 -1.162322  0.738896\n",
       "2024-01-03  0.640619  1.422195  0.303791  0.217561\n",
       "2024-01-04  0.219279  0.380159  0.167952  0.190608\n",
       "2024-01-05 -0.225079  0.023741  0.517326  1.211536"
      ]
     },
     "execution_count": 20,
     "metadata": {},
     "output_type": "execute_result"
    }
   ],
   "source": [
    "# replacing index woth dates\n",
    "sd=pd.DataFrame(np.random.randn(4,4),index=dates)\n",
    "sd"
   ]
  },
  {
   "cell_type": "code",
   "execution_count": 21,
   "id": "0507ef72-843e-471a-a1f2-fdfb4e8ded44",
   "metadata": {},
   "outputs": [
    {
     "data": {
      "text/html": [
       "<div>\n",
       "<style scoped>\n",
       "    .dataframe tbody tr th:only-of-type {\n",
       "        vertical-align: middle;\n",
       "    }\n",
       "\n",
       "    .dataframe tbody tr th {\n",
       "        vertical-align: top;\n",
       "    }\n",
       "\n",
       "    .dataframe thead th {\n",
       "        text-align: right;\n",
       "    }\n",
       "</style>\n",
       "<table border=\"1\" class=\"dataframe\">\n",
       "  <thead>\n",
       "    <tr style=\"text-align: right;\">\n",
       "      <th></th>\n",
       "      <th>A</th>\n",
       "      <th>B</th>\n",
       "      <th>C</th>\n",
       "      <th>D</th>\n",
       "    </tr>\n",
       "  </thead>\n",
       "  <tbody>\n",
       "    <tr>\n",
       "      <th>2024-01-02</th>\n",
       "      <td>-0.894343</td>\n",
       "      <td>0.531496</td>\n",
       "      <td>0.191469</td>\n",
       "      <td>0.148801</td>\n",
       "    </tr>\n",
       "    <tr>\n",
       "      <th>2024-01-03</th>\n",
       "      <td>0.637707</td>\n",
       "      <td>0.282233</td>\n",
       "      <td>-0.964213</td>\n",
       "      <td>1.942534</td>\n",
       "    </tr>\n",
       "    <tr>\n",
       "      <th>2024-01-04</th>\n",
       "      <td>0.703265</td>\n",
       "      <td>0.768039</td>\n",
       "      <td>0.354429</td>\n",
       "      <td>-0.101833</td>\n",
       "    </tr>\n",
       "    <tr>\n",
       "      <th>2024-01-05</th>\n",
       "      <td>1.579023</td>\n",
       "      <td>0.216094</td>\n",
       "      <td>0.565644</td>\n",
       "      <td>-0.546673</td>\n",
       "    </tr>\n",
       "  </tbody>\n",
       "</table>\n",
       "</div>"
      ],
      "text/plain": [
       "                   A         B         C         D\n",
       "2024-01-02 -0.894343  0.531496  0.191469  0.148801\n",
       "2024-01-03  0.637707  0.282233 -0.964213  1.942534\n",
       "2024-01-04  0.703265  0.768039  0.354429 -0.101833\n",
       "2024-01-05  1.579023  0.216094  0.565644 -0.546673"
      ]
     },
     "execution_count": 21,
     "metadata": {},
     "output_type": "execute_result"
    }
   ],
   "source": [
    "# replacing columns with list\n",
    "sd=pd.DataFrame(np.random.randn(4,4),index=dates,columns=list(\"ABCD\"))#columns as slot 1 ,slot2 ?\n",
    "sd"
   ]
  },
  {
   "cell_type": "code",
   "execution_count": 22,
   "id": "389aa33e-6512-4165-8a94-3856ee70ea39",
   "metadata": {},
   "outputs": [
    {
     "data": {
      "text/html": [
       "<div>\n",
       "<style scoped>\n",
       "    .dataframe tbody tr th:only-of-type {\n",
       "        vertical-align: middle;\n",
       "    }\n",
       "\n",
       "    .dataframe tbody tr th {\n",
       "        vertical-align: top;\n",
       "    }\n",
       "\n",
       "    .dataframe thead th {\n",
       "        text-align: right;\n",
       "    }\n",
       "</style>\n",
       "<table border=\"1\" class=\"dataframe\">\n",
       "  <thead>\n",
       "    <tr style=\"text-align: right;\">\n",
       "      <th></th>\n",
       "      <th>Slot 1</th>\n",
       "      <th>Slot 2</th>\n",
       "      <th>Slot 3</th>\n",
       "      <th>Slot 4</th>\n",
       "    </tr>\n",
       "  </thead>\n",
       "  <tbody>\n",
       "    <tr>\n",
       "      <th>2024-01-02</th>\n",
       "      <td>1.430700</td>\n",
       "      <td>1.940194</td>\n",
       "      <td>-0.278799</td>\n",
       "      <td>-2.199101</td>\n",
       "    </tr>\n",
       "    <tr>\n",
       "      <th>2024-01-03</th>\n",
       "      <td>-0.014545</td>\n",
       "      <td>-0.676671</td>\n",
       "      <td>-1.605469</td>\n",
       "      <td>-1.482625</td>\n",
       "    </tr>\n",
       "    <tr>\n",
       "      <th>2024-01-04</th>\n",
       "      <td>-0.353241</td>\n",
       "      <td>-1.712024</td>\n",
       "      <td>0.075978</td>\n",
       "      <td>0.344701</td>\n",
       "    </tr>\n",
       "    <tr>\n",
       "      <th>2024-01-05</th>\n",
       "      <td>-1.354165</td>\n",
       "      <td>-1.267936</td>\n",
       "      <td>-0.043692</td>\n",
       "      <td>-0.011044</td>\n",
       "    </tr>\n",
       "  </tbody>\n",
       "</table>\n",
       "</div>"
      ],
      "text/plain": [
       "              Slot 1    Slot 2    Slot 3    Slot 4\n",
       "2024-01-02  1.430700  1.940194 -0.278799 -2.199101\n",
       "2024-01-03 -0.014545 -0.676671 -1.605469 -1.482625\n",
       "2024-01-04 -0.353241 -1.712024  0.075978  0.344701\n",
       "2024-01-05 -1.354165 -1.267936 -0.043692 -0.011044"
      ]
     },
     "execution_count": 22,
     "metadata": {},
     "output_type": "execute_result"
    }
   ],
   "source": [
    "# Replacing column name as slot 1,slot 2,slot 3,slot 4\n",
    "sd=pd.DataFrame(np.random.randn(4,4),index=dates,columns=list([\"Slot 1\",\"Slot 2\",\"Slot 3\",\"Slot 4\"]))#columns as slot 1 ,slot2 ?\n",
    "sd"
   ]
  },
  {
   "cell_type": "code",
   "execution_count": 23,
   "id": "ccf39ed2-3a69-47df-b878-daddc3f959ba",
   "metadata": {},
   "outputs": [
    {
     "data": {
      "text/plain": [
       "array([[ 1.43069952,  1.94019427, -0.27879851, -2.19910145],\n",
       "       [-0.01454475, -0.67667102, -1.60546864, -1.48262487],\n",
       "       [-0.35324056, -1.71202433,  0.07597816,  0.34470131],\n",
       "       [-1.35416474, -1.26793583, -0.04369244, -0.01104352]])"
      ]
     },
     "execution_count": 23,
     "metadata": {},
     "output_type": "execute_result"
    }
   ],
   "source": [
    "# converting to numpy array\n",
    "sd.to_numpy()      "
   ]
  },
  {
   "cell_type": "code",
   "execution_count": 24,
   "id": "6a3e6c44-e925-492a-b733-435900bde755",
   "metadata": {},
   "outputs": [
    {
     "data": {
      "text/plain": [
       "DatetimeIndex(['2024-01-02', '2024-01-03', '2024-01-04', '2024-01-05'], dtype='datetime64[ns]', freq='D')"
      ]
     },
     "execution_count": 24,
     "metadata": {},
     "output_type": "execute_result"
    }
   ],
   "source": [
    "# Index of dataframe\n",
    "sd.index"
   ]
  },
  {
   "cell_type": "code",
   "execution_count": 25,
   "id": "a917240a-df14-47cc-a432-e2c14ce6fa7c",
   "metadata": {},
   "outputs": [
    {
     "data": {
      "text/plain": [
       "Index(['Slot 1', 'Slot 2', 'Slot 3', 'Slot 4'], dtype='object')"
      ]
     },
     "execution_count": 25,
     "metadata": {},
     "output_type": "execute_result"
    }
   ],
   "source": [
    "# Columns of dataframe\n",
    "sd.columns"
   ]
  },
  {
   "cell_type": "markdown",
   "id": "7d46e753-4ecf-4779-807d-c3ef2a4d3f92",
   "metadata": {},
   "source": [
    "## Sorting by axis and value"
   ]
  },
  {
   "cell_type": "code",
   "execution_count": 27,
   "id": "b3aa9863-c679-4eca-b22b-e154abadcbc3",
   "metadata": {},
   "outputs": [
    {
     "data": {
      "text/html": [
       "<div>\n",
       "<style scoped>\n",
       "    .dataframe tbody tr th:only-of-type {\n",
       "        vertical-align: middle;\n",
       "    }\n",
       "\n",
       "    .dataframe tbody tr th {\n",
       "        vertical-align: top;\n",
       "    }\n",
       "\n",
       "    .dataframe thead th {\n",
       "        text-align: right;\n",
       "    }\n",
       "</style>\n",
       "<table border=\"1\" class=\"dataframe\">\n",
       "  <thead>\n",
       "    <tr style=\"text-align: right;\">\n",
       "      <th></th>\n",
       "      <th>Slot 4</th>\n",
       "      <th>Slot 3</th>\n",
       "      <th>Slot 2</th>\n",
       "      <th>Slot 1</th>\n",
       "    </tr>\n",
       "  </thead>\n",
       "  <tbody>\n",
       "    <tr>\n",
       "      <th>2024-01-02</th>\n",
       "      <td>-2.199101</td>\n",
       "      <td>-0.278799</td>\n",
       "      <td>1.940194</td>\n",
       "      <td>1.430700</td>\n",
       "    </tr>\n",
       "    <tr>\n",
       "      <th>2024-01-03</th>\n",
       "      <td>-1.482625</td>\n",
       "      <td>-1.605469</td>\n",
       "      <td>-0.676671</td>\n",
       "      <td>-0.014545</td>\n",
       "    </tr>\n",
       "    <tr>\n",
       "      <th>2024-01-04</th>\n",
       "      <td>0.344701</td>\n",
       "      <td>0.075978</td>\n",
       "      <td>-1.712024</td>\n",
       "      <td>-0.353241</td>\n",
       "    </tr>\n",
       "    <tr>\n",
       "      <th>2024-01-05</th>\n",
       "      <td>-0.011044</td>\n",
       "      <td>-0.043692</td>\n",
       "      <td>-1.267936</td>\n",
       "      <td>-1.354165</td>\n",
       "    </tr>\n",
       "  </tbody>\n",
       "</table>\n",
       "</div>"
      ],
      "text/plain": [
       "              Slot 4    Slot 3    Slot 2    Slot 1\n",
       "2024-01-02 -2.199101 -0.278799  1.940194  1.430700\n",
       "2024-01-03 -1.482625 -1.605469 -0.676671 -0.014545\n",
       "2024-01-04  0.344701  0.075978 -1.712024 -0.353241\n",
       "2024-01-05 -0.011044 -0.043692 -1.267936 -1.354165"
      ]
     },
     "execution_count": 27,
     "metadata": {},
     "output_type": "execute_result"
    }
   ],
   "source": [
    "sd.sort_index(axis=1,ascending=False)"
   ]
  },
  {
   "cell_type": "code",
   "execution_count": 28,
   "id": "f4a9527f-c26b-442c-923b-71350f9ef067",
   "metadata": {},
   "outputs": [
    {
     "data": {
      "text/html": [
       "<div>\n",
       "<style scoped>\n",
       "    .dataframe tbody tr th:only-of-type {\n",
       "        vertical-align: middle;\n",
       "    }\n",
       "\n",
       "    .dataframe tbody tr th {\n",
       "        vertical-align: top;\n",
       "    }\n",
       "\n",
       "    .dataframe thead th {\n",
       "        text-align: right;\n",
       "    }\n",
       "</style>\n",
       "<table border=\"1\" class=\"dataframe\">\n",
       "  <thead>\n",
       "    <tr style=\"text-align: right;\">\n",
       "      <th></th>\n",
       "      <th>Slot 1</th>\n",
       "      <th>Slot 2</th>\n",
       "      <th>Slot 3</th>\n",
       "      <th>Slot 4</th>\n",
       "    </tr>\n",
       "  </thead>\n",
       "  <tbody>\n",
       "    <tr>\n",
       "      <th>2024-01-05</th>\n",
       "      <td>-1.354165</td>\n",
       "      <td>-1.267936</td>\n",
       "      <td>-0.043692</td>\n",
       "      <td>-0.011044</td>\n",
       "    </tr>\n",
       "    <tr>\n",
       "      <th>2024-01-04</th>\n",
       "      <td>-0.353241</td>\n",
       "      <td>-1.712024</td>\n",
       "      <td>0.075978</td>\n",
       "      <td>0.344701</td>\n",
       "    </tr>\n",
       "    <tr>\n",
       "      <th>2024-01-03</th>\n",
       "      <td>-0.014545</td>\n",
       "      <td>-0.676671</td>\n",
       "      <td>-1.605469</td>\n",
       "      <td>-1.482625</td>\n",
       "    </tr>\n",
       "    <tr>\n",
       "      <th>2024-01-02</th>\n",
       "      <td>1.430700</td>\n",
       "      <td>1.940194</td>\n",
       "      <td>-0.278799</td>\n",
       "      <td>-2.199101</td>\n",
       "    </tr>\n",
       "  </tbody>\n",
       "</table>\n",
       "</div>"
      ],
      "text/plain": [
       "              Slot 1    Slot 2    Slot 3    Slot 4\n",
       "2024-01-05 -1.354165 -1.267936 -0.043692 -0.011044\n",
       "2024-01-04 -0.353241 -1.712024  0.075978  0.344701\n",
       "2024-01-03 -0.014545 -0.676671 -1.605469 -1.482625\n",
       "2024-01-02  1.430700  1.940194 -0.278799 -2.199101"
      ]
     },
     "execution_count": 28,
     "metadata": {},
     "output_type": "execute_result"
    }
   ],
   "source": [
    "sd.sort_index(axis=0,ascending=False)"
   ]
  },
  {
   "cell_type": "code",
   "execution_count": 29,
   "id": "48c7c15e-fbde-4fd6-9d18-c60b7f6b7e30",
   "metadata": {},
   "outputs": [
    {
     "data": {
      "text/html": [
       "<div>\n",
       "<style scoped>\n",
       "    .dataframe tbody tr th:only-of-type {\n",
       "        vertical-align: middle;\n",
       "    }\n",
       "\n",
       "    .dataframe tbody tr th {\n",
       "        vertical-align: top;\n",
       "    }\n",
       "\n",
       "    .dataframe thead th {\n",
       "        text-align: right;\n",
       "    }\n",
       "</style>\n",
       "<table border=\"1\" class=\"dataframe\">\n",
       "  <thead>\n",
       "    <tr style=\"text-align: right;\">\n",
       "      <th></th>\n",
       "      <th>Slot 1</th>\n",
       "      <th>Slot 2</th>\n",
       "      <th>Slot 3</th>\n",
       "      <th>Slot 4</th>\n",
       "    </tr>\n",
       "  </thead>\n",
       "  <tbody>\n",
       "    <tr>\n",
       "      <th>2024-01-04</th>\n",
       "      <td>-0.353241</td>\n",
       "      <td>-1.712024</td>\n",
       "      <td>0.075978</td>\n",
       "      <td>0.344701</td>\n",
       "    </tr>\n",
       "    <tr>\n",
       "      <th>2024-01-05</th>\n",
       "      <td>-1.354165</td>\n",
       "      <td>-1.267936</td>\n",
       "      <td>-0.043692</td>\n",
       "      <td>-0.011044</td>\n",
       "    </tr>\n",
       "    <tr>\n",
       "      <th>2024-01-02</th>\n",
       "      <td>1.430700</td>\n",
       "      <td>1.940194</td>\n",
       "      <td>-0.278799</td>\n",
       "      <td>-2.199101</td>\n",
       "    </tr>\n",
       "    <tr>\n",
       "      <th>2024-01-03</th>\n",
       "      <td>-0.014545</td>\n",
       "      <td>-0.676671</td>\n",
       "      <td>-1.605469</td>\n",
       "      <td>-1.482625</td>\n",
       "    </tr>\n",
       "  </tbody>\n",
       "</table>\n",
       "</div>"
      ],
      "text/plain": [
       "              Slot 1    Slot 2    Slot 3    Slot 4\n",
       "2024-01-04 -0.353241 -1.712024  0.075978  0.344701\n",
       "2024-01-05 -1.354165 -1.267936 -0.043692 -0.011044\n",
       "2024-01-02  1.430700  1.940194 -0.278799 -2.199101\n",
       "2024-01-03 -0.014545 -0.676671 -1.605469 -1.482625"
      ]
     },
     "execution_count": 29,
     "metadata": {},
     "output_type": "execute_result"
    }
   ],
   "source": [
    "sd.sort_values(by=\"Slot 3\",ascending=False)  # Task : sort on c and d   # default"
   ]
  },
  {
   "cell_type": "code",
   "execution_count": 30,
   "id": "3f2d97b5-9b88-45e0-892f-eb06ccf4bf0c",
   "metadata": {},
   "outputs": [
    {
     "data": {
      "text/html": [
       "<div>\n",
       "<style scoped>\n",
       "    .dataframe tbody tr th:only-of-type {\n",
       "        vertical-align: middle;\n",
       "    }\n",
       "\n",
       "    .dataframe tbody tr th {\n",
       "        vertical-align: top;\n",
       "    }\n",
       "\n",
       "    .dataframe thead th {\n",
       "        text-align: right;\n",
       "    }\n",
       "</style>\n",
       "<table border=\"1\" class=\"dataframe\">\n",
       "  <thead>\n",
       "    <tr style=\"text-align: right;\">\n",
       "      <th></th>\n",
       "      <th>Slot 1</th>\n",
       "      <th>Slot 2</th>\n",
       "      <th>Slot 3</th>\n",
       "      <th>Slot 4</th>\n",
       "    </tr>\n",
       "  </thead>\n",
       "  <tbody>\n",
       "    <tr>\n",
       "      <th>2024-01-03</th>\n",
       "      <td>-0.014545</td>\n",
       "      <td>-0.676671</td>\n",
       "      <td>-1.605469</td>\n",
       "      <td>-1.482625</td>\n",
       "    </tr>\n",
       "    <tr>\n",
       "      <th>2024-01-02</th>\n",
       "      <td>1.430700</td>\n",
       "      <td>1.940194</td>\n",
       "      <td>-0.278799</td>\n",
       "      <td>-2.199101</td>\n",
       "    </tr>\n",
       "    <tr>\n",
       "      <th>2024-01-05</th>\n",
       "      <td>-1.354165</td>\n",
       "      <td>-1.267936</td>\n",
       "      <td>-0.043692</td>\n",
       "      <td>-0.011044</td>\n",
       "    </tr>\n",
       "    <tr>\n",
       "      <th>2024-01-04</th>\n",
       "      <td>-0.353241</td>\n",
       "      <td>-1.712024</td>\n",
       "      <td>0.075978</td>\n",
       "      <td>0.344701</td>\n",
       "    </tr>\n",
       "  </tbody>\n",
       "</table>\n",
       "</div>"
      ],
      "text/plain": [
       "              Slot 1    Slot 2    Slot 3    Slot 4\n",
       "2024-01-03 -0.014545 -0.676671 -1.605469 -1.482625\n",
       "2024-01-02  1.430700  1.940194 -0.278799 -2.199101\n",
       "2024-01-05 -1.354165 -1.267936 -0.043692 -0.011044\n",
       "2024-01-04 -0.353241 -1.712024  0.075978  0.344701"
      ]
     },
     "execution_count": 30,
     "metadata": {},
     "output_type": "execute_result"
    }
   ],
   "source": [
    "# Task : sort on slot 3 and slot 4\n",
    "sd = sd.sort_values(by=['Slot 3', 'Slot 4'], ascending=[True, True])\n",
    "sd"
   ]
  },
  {
   "cell_type": "code",
   "execution_count": 31,
   "id": "04867190-7eb4-4806-8c8d-3f62de6798cb",
   "metadata": {},
   "outputs": [
    {
     "data": {
      "text/plain": [
       "2024-01-03   -0.014545\n",
       "2024-01-02    1.430700\n",
       "2024-01-05   -1.354165\n",
       "2024-01-04   -0.353241\n",
       "Name: Slot 1, dtype: float64"
      ]
     },
     "execution_count": 31,
     "metadata": {},
     "output_type": "execute_result"
    }
   ],
   "source": [
    "# assigning values of column A dataframe to variable dfa\n",
    "dfa=sd[\"Slot 1\"]\n",
    "dfa"
   ]
  },
  {
   "cell_type": "code",
   "execution_count": 32,
   "id": "e330efbe-0497-404d-81a5-cb6d0a47f3aa",
   "metadata": {},
   "outputs": [
    {
     "data": {
      "text/html": [
       "<div>\n",
       "<style scoped>\n",
       "    .dataframe tbody tr th:only-of-type {\n",
       "        vertical-align: middle;\n",
       "    }\n",
       "\n",
       "    .dataframe tbody tr th {\n",
       "        vertical-align: top;\n",
       "    }\n",
       "\n",
       "    .dataframe thead th {\n",
       "        text-align: right;\n",
       "    }\n",
       "</style>\n",
       "<table border=\"1\" class=\"dataframe\">\n",
       "  <thead>\n",
       "    <tr style=\"text-align: right;\">\n",
       "      <th></th>\n",
       "      <th>Slot 1</th>\n",
       "      <th>Slot 2</th>\n",
       "      <th>Slot 3</th>\n",
       "      <th>Slot 4</th>\n",
       "    </tr>\n",
       "  </thead>\n",
       "  <tbody>\n",
       "    <tr>\n",
       "      <th>2024-01-03</th>\n",
       "      <td>-0.014545</td>\n",
       "      <td>-0.676671</td>\n",
       "      <td>-1.605469</td>\n",
       "      <td>-1.482625</td>\n",
       "    </tr>\n",
       "    <tr>\n",
       "      <th>2024-01-02</th>\n",
       "      <td>1.430700</td>\n",
       "      <td>1.940194</td>\n",
       "      <td>-0.278799</td>\n",
       "      <td>-2.199101</td>\n",
       "    </tr>\n",
       "    <tr>\n",
       "      <th>2024-01-05</th>\n",
       "      <td>-1.354165</td>\n",
       "      <td>-1.267936</td>\n",
       "      <td>-0.043692</td>\n",
       "      <td>-0.011044</td>\n",
       "    </tr>\n",
       "  </tbody>\n",
       "</table>\n",
       "</div>"
      ],
      "text/plain": [
       "              Slot 1    Slot 2    Slot 3    Slot 4\n",
       "2024-01-03 -0.014545 -0.676671 -1.605469 -1.482625\n",
       "2024-01-02  1.430700  1.940194 -0.278799 -2.199101\n",
       "2024-01-05 -1.354165 -1.267936 -0.043692 -0.011044"
      ]
     },
     "execution_count": 32,
     "metadata": {},
     "output_type": "execute_result"
    }
   ],
   "source": [
    "# select rows 0 to 2\n",
    "sd[0:3]"
   ]
  },
  {
   "cell_type": "code",
   "execution_count": 33,
   "id": "289418d6-87b9-4ba9-93d6-6459d1868ca7",
   "metadata": {},
   "outputs": [
    {
     "data": {
      "text/html": [
       "<div>\n",
       "<style scoped>\n",
       "    .dataframe tbody tr th:only-of-type {\n",
       "        vertical-align: middle;\n",
       "    }\n",
       "\n",
       "    .dataframe tbody tr th {\n",
       "        vertical-align: top;\n",
       "    }\n",
       "\n",
       "    .dataframe thead th {\n",
       "        text-align: right;\n",
       "    }\n",
       "</style>\n",
       "<table border=\"1\" class=\"dataframe\">\n",
       "  <thead>\n",
       "    <tr style=\"text-align: right;\">\n",
       "      <th></th>\n",
       "      <th>Slot 1</th>\n",
       "      <th>Slot 2</th>\n",
       "    </tr>\n",
       "  </thead>\n",
       "  <tbody>\n",
       "    <tr>\n",
       "      <th>2024-01-03</th>\n",
       "      <td>-0.014545</td>\n",
       "      <td>-0.676671</td>\n",
       "    </tr>\n",
       "    <tr>\n",
       "      <th>2024-01-02</th>\n",
       "      <td>1.430700</td>\n",
       "      <td>1.940194</td>\n",
       "    </tr>\n",
       "    <tr>\n",
       "      <th>2024-01-05</th>\n",
       "      <td>-1.354165</td>\n",
       "      <td>-1.267936</td>\n",
       "    </tr>\n",
       "    <tr>\n",
       "      <th>2024-01-04</th>\n",
       "      <td>-0.353241</td>\n",
       "      <td>-1.712024</td>\n",
       "    </tr>\n",
       "  </tbody>\n",
       "</table>\n",
       "</div>"
      ],
      "text/plain": [
       "              Slot 1    Slot 2\n",
       "2024-01-03 -0.014545 -0.676671\n",
       "2024-01-02  1.430700  1.940194\n",
       "2024-01-05 -1.354165 -1.267936\n",
       "2024-01-04 -0.353241 -1.712024"
      ]
     },
     "execution_count": 33,
     "metadata": {},
     "output_type": "execute_result"
    }
   ],
   "source": [
    "#select columns a & b\n",
    "sd.loc[ : ,['Slot 1','Slot 2']]"
   ]
  },
  {
   "cell_type": "code",
   "execution_count": 34,
   "id": "a7da7bce-4fd6-47fa-8aee-d1581fffae67",
   "metadata": {},
   "outputs": [
    {
     "data": {
      "text/plain": [
       "-0.3532405637903088"
      ]
     },
     "execution_count": 34,
     "metadata": {},
     "output_type": "execute_result"
    }
   ],
   "source": [
    "sd.at[dates[2],\"Slot 1\"]   # access only single element"
   ]
  },
  {
   "cell_type": "code",
   "execution_count": 35,
   "id": "105dfe46-4cd6-49b6-b3eb-9d13c50ecd1d",
   "metadata": {},
   "outputs": [
    {
     "data": {
      "text/html": [
       "<div>\n",
       "<style scoped>\n",
       "    .dataframe tbody tr th:only-of-type {\n",
       "        vertical-align: middle;\n",
       "    }\n",
       "\n",
       "    .dataframe tbody tr th {\n",
       "        vertical-align: top;\n",
       "    }\n",
       "\n",
       "    .dataframe thead th {\n",
       "        text-align: right;\n",
       "    }\n",
       "</style>\n",
       "<table border=\"1\" class=\"dataframe\">\n",
       "  <thead>\n",
       "    <tr style=\"text-align: right;\">\n",
       "      <th></th>\n",
       "      <th>Slot 1</th>\n",
       "      <th>Slot 2</th>\n",
       "      <th>Slot 3</th>\n",
       "      <th>Slot 4</th>\n",
       "    </tr>\n",
       "  </thead>\n",
       "  <tbody>\n",
       "    <tr>\n",
       "      <th>2024-01-03</th>\n",
       "      <td>-0.014545</td>\n",
       "      <td>-0.676671</td>\n",
       "      <td>-1.605469</td>\n",
       "      <td>-1.482625</td>\n",
       "    </tr>\n",
       "    <tr>\n",
       "      <th>2024-01-02</th>\n",
       "      <td>1.430700</td>\n",
       "      <td>1.940194</td>\n",
       "      <td>-0.278799</td>\n",
       "      <td>-2.199101</td>\n",
       "    </tr>\n",
       "    <tr>\n",
       "      <th>2024-01-04</th>\n",
       "      <td>-0.353241</td>\n",
       "      <td>-1.712024</td>\n",
       "      <td>0.075978</td>\n",
       "      <td>0.344701</td>\n",
       "    </tr>\n",
       "  </tbody>\n",
       "</table>\n",
       "</div>"
      ],
      "text/plain": [
       "              Slot 1    Slot 2    Slot 3    Slot 4\n",
       "2024-01-03 -0.014545 -0.676671 -1.605469 -1.482625\n",
       "2024-01-02  1.430700  1.940194 -0.278799 -2.199101\n",
       "2024-01-04 -0.353241 -1.712024  0.075978  0.344701"
      ]
     },
     "execution_count": 35,
     "metadata": {},
     "output_type": "execute_result"
    }
   ],
   "source": [
    "#selecting specfic row from a column specifying given condition\n",
    "filteredsd=sd[sd['Slot 1']> -1]\n",
    "filteredsd"
   ]
  },
  {
   "cell_type": "code",
   "execution_count": 36,
   "id": "ba692b6b-fd19-4c6e-a1e7-a9a9e230bd65",
   "metadata": {},
   "outputs": [
    {
     "data": {
      "text/html": [
       "<div>\n",
       "<style scoped>\n",
       "    .dataframe tbody tr th:only-of-type {\n",
       "        vertical-align: middle;\n",
       "    }\n",
       "\n",
       "    .dataframe tbody tr th {\n",
       "        vertical-align: top;\n",
       "    }\n",
       "\n",
       "    .dataframe thead th {\n",
       "        text-align: right;\n",
       "    }\n",
       "</style>\n",
       "<table border=\"1\" class=\"dataframe\">\n",
       "  <thead>\n",
       "    <tr style=\"text-align: right;\">\n",
       "      <th></th>\n",
       "      <th>Slot 1</th>\n",
       "      <th>Slot 2</th>\n",
       "      <th>Slot 3</th>\n",
       "      <th>Slot 4</th>\n",
       "      <th>E</th>\n",
       "    </tr>\n",
       "  </thead>\n",
       "  <tbody>\n",
       "    <tr>\n",
       "      <th>2024-01-03</th>\n",
       "      <td>-0.014545</td>\n",
       "      <td>-0.676671</td>\n",
       "      <td>-1.605469</td>\n",
       "      <td>-1.482625</td>\n",
       "      <td>1</td>\n",
       "    </tr>\n",
       "    <tr>\n",
       "      <th>2024-01-02</th>\n",
       "      <td>1.430700</td>\n",
       "      <td>1.940194</td>\n",
       "      <td>-0.278799</td>\n",
       "      <td>-2.199101</td>\n",
       "      <td>2</td>\n",
       "    </tr>\n",
       "    <tr>\n",
       "      <th>2024-01-05</th>\n",
       "      <td>-1.354165</td>\n",
       "      <td>-1.267936</td>\n",
       "      <td>-0.043692</td>\n",
       "      <td>-0.011044</td>\n",
       "      <td>3</td>\n",
       "    </tr>\n",
       "    <tr>\n",
       "      <th>2024-01-04</th>\n",
       "      <td>-0.353241</td>\n",
       "      <td>-1.712024</td>\n",
       "      <td>0.075978</td>\n",
       "      <td>0.344701</td>\n",
       "      <td>4</td>\n",
       "    </tr>\n",
       "  </tbody>\n",
       "</table>\n",
       "</div>"
      ],
      "text/plain": [
       "              Slot 1    Slot 2    Slot 3    Slot 4  E\n",
       "2024-01-03 -0.014545 -0.676671 -1.605469 -1.482625  1\n",
       "2024-01-02  1.430700  1.940194 -0.278799 -2.199101  2\n",
       "2024-01-05 -1.354165 -1.267936 -0.043692 -0.011044  3\n",
       "2024-01-04 -0.353241 -1.712024  0.075978  0.344701  4"
      ]
     },
     "execution_count": 36,
     "metadata": {},
     "output_type": "execute_result"
    }
   ],
   "source": [
    "sd[\"E\"]=[1,2,3,4]\n",
    "sd"
   ]
  },
  {
   "cell_type": "markdown",
   "id": "83d1ae8d-ad77-4b60-8713-749bf735febf",
   "metadata": {},
   "source": [
    "## Missing Data"
   ]
  },
  {
   "cell_type": "code",
   "execution_count": 38,
   "id": "c9b18a58-d5a3-46dc-8543-38b0d32c8b0c",
   "metadata": {},
   "outputs": [
    {
     "data": {
      "text/html": [
       "<div>\n",
       "<style scoped>\n",
       "    .dataframe tbody tr th:only-of-type {\n",
       "        vertical-align: middle;\n",
       "    }\n",
       "\n",
       "    .dataframe tbody tr th {\n",
       "        vertical-align: top;\n",
       "    }\n",
       "\n",
       "    .dataframe thead th {\n",
       "        text-align: right;\n",
       "    }\n",
       "</style>\n",
       "<table border=\"1\" class=\"dataframe\">\n",
       "  <thead>\n",
       "    <tr style=\"text-align: right;\">\n",
       "      <th></th>\n",
       "      <th>Slot 1</th>\n",
       "      <th>Slot 2</th>\n",
       "      <th>Slot 3</th>\n",
       "      <th>Slot 4</th>\n",
       "      <th>E</th>\n",
       "      <th>f</th>\n",
       "    </tr>\n",
       "  </thead>\n",
       "  <tbody>\n",
       "    <tr>\n",
       "      <th>2024-01-03</th>\n",
       "      <td>-0.014545</td>\n",
       "      <td>-0.676671</td>\n",
       "      <td>-1.605469</td>\n",
       "      <td>-1.482625</td>\n",
       "      <td>1</td>\n",
       "      <td>9.0</td>\n",
       "    </tr>\n",
       "    <tr>\n",
       "      <th>2024-01-02</th>\n",
       "      <td>1.430700</td>\n",
       "      <td>1.940194</td>\n",
       "      <td>-0.278799</td>\n",
       "      <td>-2.199101</td>\n",
       "      <td>2</td>\n",
       "      <td>NaN</td>\n",
       "    </tr>\n",
       "    <tr>\n",
       "      <th>2024-01-05</th>\n",
       "      <td>-1.354165</td>\n",
       "      <td>-1.267936</td>\n",
       "      <td>-0.043692</td>\n",
       "      <td>-0.011044</td>\n",
       "      <td>3</td>\n",
       "      <td>NaN</td>\n",
       "    </tr>\n",
       "    <tr>\n",
       "      <th>2024-01-04</th>\n",
       "      <td>-0.353241</td>\n",
       "      <td>-1.712024</td>\n",
       "      <td>0.075978</td>\n",
       "      <td>0.344701</td>\n",
       "      <td>4</td>\n",
       "      <td>1.0</td>\n",
       "    </tr>\n",
       "  </tbody>\n",
       "</table>\n",
       "</div>"
      ],
      "text/plain": [
       "              Slot 1    Slot 2    Slot 3    Slot 4  E    f\n",
       "2024-01-03 -0.014545 -0.676671 -1.605469 -1.482625  1  9.0\n",
       "2024-01-02  1.430700  1.940194 -0.278799 -2.199101  2  NaN\n",
       "2024-01-05 -1.354165 -1.267936 -0.043692 -0.011044  3  NaN\n",
       "2024-01-04 -0.353241 -1.712024  0.075978  0.344701  4  1.0"
      ]
     },
     "execution_count": 38,
     "metadata": {},
     "output_type": "execute_result"
    }
   ],
   "source": [
    "sd[\"f\"]=[9,np.nan,np.nan,1]\n",
    "sd"
   ]
  },
  {
   "cell_type": "code",
   "execution_count": 39,
   "id": "b7743040-afb8-46e2-9e4f-db2e63741dbe",
   "metadata": {},
   "outputs": [
    {
     "data": {
      "text/html": [
       "<div>\n",
       "<style scoped>\n",
       "    .dataframe tbody tr th:only-of-type {\n",
       "        vertical-align: middle;\n",
       "    }\n",
       "\n",
       "    .dataframe tbody tr th {\n",
       "        vertical-align: top;\n",
       "    }\n",
       "\n",
       "    .dataframe thead th {\n",
       "        text-align: right;\n",
       "    }\n",
       "</style>\n",
       "<table border=\"1\" class=\"dataframe\">\n",
       "  <thead>\n",
       "    <tr style=\"text-align: right;\">\n",
       "      <th></th>\n",
       "      <th>Slot 1</th>\n",
       "      <th>Slot 2</th>\n",
       "      <th>Slot 3</th>\n",
       "      <th>Slot 4</th>\n",
       "      <th>E</th>\n",
       "      <th>f</th>\n",
       "    </tr>\n",
       "  </thead>\n",
       "  <tbody>\n",
       "    <tr>\n",
       "      <th>2024-01-03</th>\n",
       "      <td>-0.014545</td>\n",
       "      <td>-0.676671</td>\n",
       "      <td>-1.605469</td>\n",
       "      <td>-1.482625</td>\n",
       "      <td>1</td>\n",
       "      <td>9.0</td>\n",
       "    </tr>\n",
       "    <tr>\n",
       "      <th>2024-01-04</th>\n",
       "      <td>-0.353241</td>\n",
       "      <td>-1.712024</td>\n",
       "      <td>0.075978</td>\n",
       "      <td>0.344701</td>\n",
       "      <td>4</td>\n",
       "      <td>1.0</td>\n",
       "    </tr>\n",
       "  </tbody>\n",
       "</table>\n",
       "</div>"
      ],
      "text/plain": [
       "              Slot 1    Slot 2    Slot 3    Slot 4  E    f\n",
       "2024-01-03 -0.014545 -0.676671 -1.605469 -1.482625  1  9.0\n",
       "2024-01-04 -0.353241 -1.712024  0.075978  0.344701  4  1.0"
      ]
     },
     "execution_count": 39,
     "metadata": {},
     "output_type": "execute_result"
    }
   ],
   "source": [
    "#drp all rows having nan\n",
    "sd.dropna(how=\"any\")"
   ]
  },
  {
   "cell_type": "code",
   "execution_count": 40,
   "id": "8d85dc71-fae3-440a-975d-bf83760d7f5d",
   "metadata": {},
   "outputs": [
    {
     "data": {
      "text/html": [
       "<div>\n",
       "<style scoped>\n",
       "    .dataframe tbody tr th:only-of-type {\n",
       "        vertical-align: middle;\n",
       "    }\n",
       "\n",
       "    .dataframe tbody tr th {\n",
       "        vertical-align: top;\n",
       "    }\n",
       "\n",
       "    .dataframe thead th {\n",
       "        text-align: right;\n",
       "    }\n",
       "</style>\n",
       "<table border=\"1\" class=\"dataframe\">\n",
       "  <thead>\n",
       "    <tr style=\"text-align: right;\">\n",
       "      <th></th>\n",
       "      <th>Slot 1</th>\n",
       "      <th>Slot 2</th>\n",
       "      <th>Slot 3</th>\n",
       "      <th>Slot 4</th>\n",
       "      <th>E</th>\n",
       "      <th>f</th>\n",
       "    </tr>\n",
       "  </thead>\n",
       "  <tbody>\n",
       "    <tr>\n",
       "      <th>2024-01-03</th>\n",
       "      <td>-0.014545</td>\n",
       "      <td>-0.676671</td>\n",
       "      <td>-1.605469</td>\n",
       "      <td>-1.482625</td>\n",
       "      <td>1</td>\n",
       "      <td>9.0</td>\n",
       "    </tr>\n",
       "    <tr>\n",
       "      <th>2024-01-04</th>\n",
       "      <td>-0.353241</td>\n",
       "      <td>-1.712024</td>\n",
       "      <td>0.075978</td>\n",
       "      <td>0.344701</td>\n",
       "      <td>4</td>\n",
       "      <td>1.0</td>\n",
       "    </tr>\n",
       "  </tbody>\n",
       "</table>\n",
       "</div>"
      ],
      "text/plain": [
       "              Slot 1    Slot 2    Slot 3    Slot 4  E    f\n",
       "2024-01-03 -0.014545 -0.676671 -1.605469 -1.482625  1  9.0\n",
       "2024-01-04 -0.353241 -1.712024  0.075978  0.344701  4  1.0"
      ]
     },
     "execution_count": 40,
     "metadata": {},
     "output_type": "execute_result"
    }
   ],
   "source": [
    "# drop all nan rows with specific column having nan\n",
    "sd.dropna(subset=['f'])"
   ]
  },
  {
   "cell_type": "code",
   "execution_count": 41,
   "id": "4bc1e703-5bce-4ab9-bba2-92d15925b5e5",
   "metadata": {},
   "outputs": [
    {
     "data": {
      "text/html": [
       "<div>\n",
       "<style scoped>\n",
       "    .dataframe tbody tr th:only-of-type {\n",
       "        vertical-align: middle;\n",
       "    }\n",
       "\n",
       "    .dataframe tbody tr th {\n",
       "        vertical-align: top;\n",
       "    }\n",
       "\n",
       "    .dataframe thead th {\n",
       "        text-align: right;\n",
       "    }\n",
       "</style>\n",
       "<table border=\"1\" class=\"dataframe\">\n",
       "  <thead>\n",
       "    <tr style=\"text-align: right;\">\n",
       "      <th></th>\n",
       "      <th>Slot 1</th>\n",
       "      <th>Slot 2</th>\n",
       "      <th>Slot 3</th>\n",
       "      <th>Slot 4</th>\n",
       "      <th>E</th>\n",
       "      <th>f</th>\n",
       "    </tr>\n",
       "  </thead>\n",
       "  <tbody>\n",
       "    <tr>\n",
       "      <th>2024-01-03</th>\n",
       "      <td>0</td>\n",
       "      <td>0</td>\n",
       "      <td>-1</td>\n",
       "      <td>-1</td>\n",
       "      <td>1</td>\n",
       "      <td>9</td>\n",
       "    </tr>\n",
       "    <tr>\n",
       "      <th>2024-01-02</th>\n",
       "      <td>1</td>\n",
       "      <td>1</td>\n",
       "      <td>0</td>\n",
       "      <td>-2</td>\n",
       "      <td>2</td>\n",
       "      <td>5</td>\n",
       "    </tr>\n",
       "    <tr>\n",
       "      <th>2024-01-05</th>\n",
       "      <td>-1</td>\n",
       "      <td>-1</td>\n",
       "      <td>0</td>\n",
       "      <td>0</td>\n",
       "      <td>3</td>\n",
       "      <td>5</td>\n",
       "    </tr>\n",
       "    <tr>\n",
       "      <th>2024-01-04</th>\n",
       "      <td>0</td>\n",
       "      <td>-1</td>\n",
       "      <td>0</td>\n",
       "      <td>0</td>\n",
       "      <td>4</td>\n",
       "      <td>1</td>\n",
       "    </tr>\n",
       "  </tbody>\n",
       "</table>\n",
       "</div>"
      ],
      "text/plain": [
       "            Slot 1  Slot 2  Slot 3  Slot 4  E  f\n",
       "2024-01-03       0       0      -1      -1  1  9\n",
       "2024-01-02       1       1       0      -2  2  5\n",
       "2024-01-05      -1      -1       0       0  3  5\n",
       "2024-01-04       0      -1       0       0  4  1"
      ]
     },
     "execution_count": 41,
     "metadata": {},
     "output_type": "execute_result"
    }
   ],
   "source": [
    "#fill 5 in placee of na\n",
    "sd.fillna(5).astype(int)"
   ]
  },
  {
   "cell_type": "code",
   "execution_count": 42,
   "id": "cb3542a1-3806-4946-bfa6-53f39b1f363d",
   "metadata": {},
   "outputs": [
    {
     "data": {
      "text/html": [
       "<div>\n",
       "<style scoped>\n",
       "    .dataframe tbody tr th:only-of-type {\n",
       "        vertical-align: middle;\n",
       "    }\n",
       "\n",
       "    .dataframe tbody tr th {\n",
       "        vertical-align: top;\n",
       "    }\n",
       "\n",
       "    .dataframe thead th {\n",
       "        text-align: right;\n",
       "    }\n",
       "</style>\n",
       "<table border=\"1\" class=\"dataframe\">\n",
       "  <thead>\n",
       "    <tr style=\"text-align: right;\">\n",
       "      <th></th>\n",
       "      <th>Slot 1</th>\n",
       "      <th>Slot 2</th>\n",
       "      <th>Slot 3</th>\n",
       "      <th>Slot 4</th>\n",
       "      <th>E</th>\n",
       "      <th>f</th>\n",
       "    </tr>\n",
       "  </thead>\n",
       "  <tbody>\n",
       "    <tr>\n",
       "      <th>2024-01-03</th>\n",
       "      <td>-0.014545</td>\n",
       "      <td>-0.676671</td>\n",
       "      <td>-1.605469</td>\n",
       "      <td>-1.482625</td>\n",
       "      <td>1</td>\n",
       "      <td>9.000000</td>\n",
       "    </tr>\n",
       "    <tr>\n",
       "      <th>2024-01-02</th>\n",
       "      <td>1.430700</td>\n",
       "      <td>1.940194</td>\n",
       "      <td>-0.278799</td>\n",
       "      <td>-2.199101</td>\n",
       "      <td>2</td>\n",
       "      <td>-0.072813</td>\n",
       "    </tr>\n",
       "    <tr>\n",
       "      <th>2024-01-05</th>\n",
       "      <td>-1.354165</td>\n",
       "      <td>-1.267936</td>\n",
       "      <td>-0.043692</td>\n",
       "      <td>-0.011044</td>\n",
       "      <td>3</td>\n",
       "      <td>-0.072813</td>\n",
       "    </tr>\n",
       "    <tr>\n",
       "      <th>2024-01-04</th>\n",
       "      <td>-0.353241</td>\n",
       "      <td>-1.712024</td>\n",
       "      <td>0.075978</td>\n",
       "      <td>0.344701</td>\n",
       "      <td>4</td>\n",
       "      <td>1.000000</td>\n",
       "    </tr>\n",
       "  </tbody>\n",
       "</table>\n",
       "</div>"
      ],
      "text/plain": [
       "              Slot 1    Slot 2    Slot 3    Slot 4  E         f\n",
       "2024-01-03 -0.014545 -0.676671 -1.605469 -1.482625  1  9.000000\n",
       "2024-01-02  1.430700  1.940194 -0.278799 -2.199101  2 -0.072813\n",
       "2024-01-05 -1.354165 -1.267936 -0.043692 -0.011044  3 -0.072813\n",
       "2024-01-04 -0.353241 -1.712024  0.075978  0.344701  4  1.000000"
      ]
     },
     "execution_count": 42,
     "metadata": {},
     "output_type": "execute_result"
    }
   ],
   "source": [
    "# replace nan with mean value of that column\n",
    "sd.fillna(sd['Slot 1'].mean())"
   ]
  },
  {
   "cell_type": "code",
   "execution_count": 43,
   "id": "2b35bc83-79cb-489f-9cf4-65f2210ba2a1",
   "metadata": {},
   "outputs": [
    {
     "data": {
      "text/html": [
       "<div>\n",
       "<style scoped>\n",
       "    .dataframe tbody tr th:only-of-type {\n",
       "        vertical-align: middle;\n",
       "    }\n",
       "\n",
       "    .dataframe tbody tr th {\n",
       "        vertical-align: top;\n",
       "    }\n",
       "\n",
       "    .dataframe thead th {\n",
       "        text-align: right;\n",
       "    }\n",
       "</style>\n",
       "<table border=\"1\" class=\"dataframe\">\n",
       "  <thead>\n",
       "    <tr style=\"text-align: right;\">\n",
       "      <th></th>\n",
       "      <th>Slot 1</th>\n",
       "      <th>Slot 2</th>\n",
       "      <th>Slot 3</th>\n",
       "      <th>Slot 4</th>\n",
       "      <th>E</th>\n",
       "      <th>f</th>\n",
       "    </tr>\n",
       "  </thead>\n",
       "  <tbody>\n",
       "    <tr>\n",
       "      <th>2024-01-03</th>\n",
       "      <td>False</td>\n",
       "      <td>False</td>\n",
       "      <td>False</td>\n",
       "      <td>False</td>\n",
       "      <td>False</td>\n",
       "      <td>False</td>\n",
       "    </tr>\n",
       "    <tr>\n",
       "      <th>2024-01-02</th>\n",
       "      <td>False</td>\n",
       "      <td>False</td>\n",
       "      <td>False</td>\n",
       "      <td>False</td>\n",
       "      <td>False</td>\n",
       "      <td>True</td>\n",
       "    </tr>\n",
       "    <tr>\n",
       "      <th>2024-01-05</th>\n",
       "      <td>False</td>\n",
       "      <td>False</td>\n",
       "      <td>False</td>\n",
       "      <td>False</td>\n",
       "      <td>False</td>\n",
       "      <td>True</td>\n",
       "    </tr>\n",
       "    <tr>\n",
       "      <th>2024-01-04</th>\n",
       "      <td>False</td>\n",
       "      <td>False</td>\n",
       "      <td>False</td>\n",
       "      <td>False</td>\n",
       "      <td>False</td>\n",
       "      <td>False</td>\n",
       "    </tr>\n",
       "  </tbody>\n",
       "</table>\n",
       "</div>"
      ],
      "text/plain": [
       "            Slot 1  Slot 2  Slot 3  Slot 4      E      f\n",
       "2024-01-03   False   False   False   False  False  False\n",
       "2024-01-02   False   False   False   False  False   True\n",
       "2024-01-05   False   False   False   False  False   True\n",
       "2024-01-04   False   False   False   False  False  False"
      ]
     },
     "execution_count": 43,
     "metadata": {},
     "output_type": "execute_result"
    }
   ],
   "source": [
    "#position having na value get replced by true other with false\n",
    "sd.isna()"
   ]
  },
  {
   "cell_type": "code",
   "execution_count": 44,
   "id": "a61a9da6-c5f6-4380-b6b7-a9f5a1d1c8db",
   "metadata": {},
   "outputs": [
    {
     "data": {
      "text/plain": [
       "Slot 1   -0.072813\n",
       "Slot 2   -0.429109\n",
       "Slot 3   -0.462995\n",
       "Slot 4   -0.837017\n",
       "E         2.500000\n",
       "f         5.000000\n",
       "dtype: float64"
      ]
     },
     "execution_count": 44,
     "metadata": {},
     "output_type": "execute_result"
    }
   ],
   "source": [
    "sd.mean()"
   ]
  },
  {
   "cell_type": "code",
   "execution_count": 45,
   "id": "446bab3c-dd7c-4050-bf3d-bbbca52d0da7",
   "metadata": {},
   "outputs": [
    {
     "data": {
      "text/plain": [
       "-0.0728126359650481"
      ]
     },
     "execution_count": 45,
     "metadata": {},
     "output_type": "execute_result"
    }
   ],
   "source": [
    "sd['Slot 1'].mean() # mean of a specific columns"
   ]
  },
  {
   "cell_type": "code",
   "execution_count": 46,
   "id": "5bb2cfa4-fce9-43bf-a588-2f2e843ad259",
   "metadata": {},
   "outputs": [
    {
     "data": {
      "text/plain": [
       "Slot 1   -0.072813\n",
       "Slot 2   -0.429109\n",
       "Slot 3   -0.462995\n",
       "Slot 4   -0.837017\n",
       "E         2.500000\n",
       "f         5.000000\n",
       "dtype: float64"
      ]
     },
     "execution_count": 46,
     "metadata": {},
     "output_type": "execute_result"
    }
   ],
   "source": [
    "sd.mean(axis=0)"
   ]
  },
  {
   "cell_type": "code",
   "execution_count": 47,
   "id": "5829060b-046c-453a-b707-3e7d608e6bd1",
   "metadata": {},
   "outputs": [
    {
     "data": {
      "text/html": [
       "<div>\n",
       "<style scoped>\n",
       "    .dataframe tbody tr th:only-of-type {\n",
       "        vertical-align: middle;\n",
       "    }\n",
       "\n",
       "    .dataframe tbody tr th {\n",
       "        vertical-align: top;\n",
       "    }\n",
       "\n",
       "    .dataframe thead th {\n",
       "        text-align: right;\n",
       "    }\n",
       "</style>\n",
       "<table border=\"1\" class=\"dataframe\">\n",
       "  <thead>\n",
       "    <tr style=\"text-align: right;\">\n",
       "      <th></th>\n",
       "      <th>Slot 1</th>\n",
       "      <th>Slot 2</th>\n",
       "      <th>Slot 3</th>\n",
       "      <th>Slot 4</th>\n",
       "      <th>E</th>\n",
       "      <th>f</th>\n",
       "    </tr>\n",
       "  </thead>\n",
       "  <tbody>\n",
       "    <tr>\n",
       "      <th>2024-01-03</th>\n",
       "      <td>False</td>\n",
       "      <td>False</td>\n",
       "      <td>False</td>\n",
       "      <td>False</td>\n",
       "      <td>False</td>\n",
       "      <td>False</td>\n",
       "    </tr>\n",
       "    <tr>\n",
       "      <th>2024-01-02</th>\n",
       "      <td>False</td>\n",
       "      <td>False</td>\n",
       "      <td>False</td>\n",
       "      <td>False</td>\n",
       "      <td>False</td>\n",
       "      <td>True</td>\n",
       "    </tr>\n",
       "    <tr>\n",
       "      <th>2024-01-05</th>\n",
       "      <td>False</td>\n",
       "      <td>False</td>\n",
       "      <td>False</td>\n",
       "      <td>False</td>\n",
       "      <td>False</td>\n",
       "      <td>True</td>\n",
       "    </tr>\n",
       "    <tr>\n",
       "      <th>2024-01-04</th>\n",
       "      <td>False</td>\n",
       "      <td>False</td>\n",
       "      <td>False</td>\n",
       "      <td>False</td>\n",
       "      <td>False</td>\n",
       "      <td>False</td>\n",
       "    </tr>\n",
       "  </tbody>\n",
       "</table>\n",
       "</div>"
      ],
      "text/plain": [
       "            Slot 1  Slot 2  Slot 3  Slot 4      E      f\n",
       "2024-01-03   False   False   False   False  False  False\n",
       "2024-01-02   False   False   False   False  False   True\n",
       "2024-01-05   False   False   False   False  False   True\n",
       "2024-01-04   False   False   False   False  False  False"
      ]
     },
     "execution_count": 47,
     "metadata": {},
     "output_type": "execute_result"
    }
   ],
   "source": [
    "# to check weather there is nan value or not\n",
    "sd.isna()"
   ]
  },
  {
   "cell_type": "markdown",
   "id": "29032d92-c8cd-42d1-9980-8d70f5ba27c7",
   "metadata": {},
   "source": [
    "## Operation"
   ]
  },
  {
   "cell_type": "code",
   "execution_count": 49,
   "id": "9b6ebdcb-b05a-4643-9cad-3b29875dd036",
   "metadata": {},
   "outputs": [
    {
     "data": {
      "text/plain": [
       "2024-01-03    1.036782\n",
       "2024-01-02    0.578599\n",
       "2024-01-05    0.064633\n",
       "2024-01-04    0.559236\n",
       "dtype: float64"
      ]
     },
     "execution_count": 49,
     "metadata": {},
     "output_type": "execute_result"
    }
   ],
   "source": [
    "sd.mean(axis=1)"
   ]
  },
  {
   "cell_type": "code",
   "execution_count": 50,
   "id": "5cccbda3-48f5-48bd-916e-765a1ad7a51c",
   "metadata": {},
   "outputs": [
    {
     "data": {
      "text/plain": [
       "Slot 1   -0.072813\n",
       "Slot 2   -0.429109\n",
       "Slot 3   -0.462995\n",
       "Slot 4   -0.837017\n",
       "E         2.500000\n",
       "f         5.000000\n",
       "dtype: float64"
      ]
     },
     "execution_count": 50,
     "metadata": {},
     "output_type": "execute_result"
    }
   ],
   "source": [
    "sd.mean(axis=0)"
   ]
  },
  {
   "cell_type": "code",
   "execution_count": 51,
   "id": "837f6457-c899-4933-ad4f-b3cdbf606a83",
   "metadata": {},
   "outputs": [
    {
     "data": {
      "text/plain": [
       "Slot 1   -0.072813\n",
       "Slot 2   -0.429109\n",
       "Slot 3   -0.462995\n",
       "Slot 4   -0.837017\n",
       "E         2.500000\n",
       "f         5.000000\n",
       "dtype: float64"
      ]
     },
     "execution_count": 51,
     "metadata": {},
     "output_type": "execute_result"
    }
   ],
   "source": [
    "sd.mean()"
   ]
  },
  {
   "cell_type": "markdown",
   "id": "027e1ab8-4e60-4d70-b318-08a44fa56a68",
   "metadata": {},
   "source": [
    "## Merge\r\n",
    "Concat\r\n",
    "pandas provides various facilities for easily combining together Series and DataFrame objects with various kinds of set logic for the indexes and relational algebra functionality in the case of join / merge-type operations."
   ]
  },
  {
   "cell_type": "code",
   "execution_count": 53,
   "id": "f9f91e99-406c-46ca-bfdd-2a7d09d00e22",
   "metadata": {},
   "outputs": [
    {
     "data": {
      "text/html": [
       "<div>\n",
       "<style scoped>\n",
       "    .dataframe tbody tr th:only-of-type {\n",
       "        vertical-align: middle;\n",
       "    }\n",
       "\n",
       "    .dataframe tbody tr th {\n",
       "        vertical-align: top;\n",
       "    }\n",
       "\n",
       "    .dataframe thead th {\n",
       "        text-align: right;\n",
       "    }\n",
       "</style>\n",
       "<table border=\"1\" class=\"dataframe\">\n",
       "  <thead>\n",
       "    <tr style=\"text-align: right;\">\n",
       "      <th></th>\n",
       "      <th>Slot 1</th>\n",
       "      <th>Slot 2</th>\n",
       "      <th>Slot 3</th>\n",
       "      <th>Slot 4</th>\n",
       "      <th>E</th>\n",
       "      <th>f</th>\n",
       "    </tr>\n",
       "  </thead>\n",
       "  <tbody>\n",
       "    <tr>\n",
       "      <th>2024-01-03</th>\n",
       "      <td>-0.014545</td>\n",
       "      <td>-0.676671</td>\n",
       "      <td>-1.605469</td>\n",
       "      <td>-1.482625</td>\n",
       "      <td>1</td>\n",
       "      <td>9.0</td>\n",
       "    </tr>\n",
       "    <tr>\n",
       "      <th>2024-01-02</th>\n",
       "      <td>1.430700</td>\n",
       "      <td>1.940194</td>\n",
       "      <td>-0.278799</td>\n",
       "      <td>-2.199101</td>\n",
       "      <td>2</td>\n",
       "      <td>NaN</td>\n",
       "    </tr>\n",
       "    <tr>\n",
       "      <th>2024-01-05</th>\n",
       "      <td>-1.354165</td>\n",
       "      <td>-1.267936</td>\n",
       "      <td>-0.043692</td>\n",
       "      <td>-0.011044</td>\n",
       "      <td>3</td>\n",
       "      <td>NaN</td>\n",
       "    </tr>\n",
       "    <tr>\n",
       "      <th>2024-01-04</th>\n",
       "      <td>-0.353241</td>\n",
       "      <td>-1.712024</td>\n",
       "      <td>0.075978</td>\n",
       "      <td>0.344701</td>\n",
       "      <td>4</td>\n",
       "      <td>1.0</td>\n",
       "    </tr>\n",
       "  </tbody>\n",
       "</table>\n",
       "</div>"
      ],
      "text/plain": [
       "              Slot 1    Slot 2    Slot 3    Slot 4  E    f\n",
       "2024-01-03 -0.014545 -0.676671 -1.605469 -1.482625  1  9.0\n",
       "2024-01-02  1.430700  1.940194 -0.278799 -2.199101  2  NaN\n",
       "2024-01-05 -1.354165 -1.267936 -0.043692 -0.011044  3  NaN\n",
       "2024-01-04 -0.353241 -1.712024  0.075978  0.344701  4  1.0"
      ]
     },
     "execution_count": 53,
     "metadata": {},
     "output_type": "execute_result"
    }
   ],
   "source": [
    "sd"
   ]
  },
  {
   "cell_type": "code",
   "execution_count": 54,
   "id": "56158911-d29f-4990-90c8-d8c9aa0bb24a",
   "metadata": {},
   "outputs": [
    {
     "data": {
      "text/html": [
       "<div>\n",
       "<style scoped>\n",
       "    .dataframe tbody tr th:only-of-type {\n",
       "        vertical-align: middle;\n",
       "    }\n",
       "\n",
       "    .dataframe tbody tr th {\n",
       "        vertical-align: top;\n",
       "    }\n",
       "\n",
       "    .dataframe thead th {\n",
       "        text-align: right;\n",
       "    }\n",
       "</style>\n",
       "<table border=\"1\" class=\"dataframe\">\n",
       "  <thead>\n",
       "    <tr style=\"text-align: right;\">\n",
       "      <th></th>\n",
       "      <th>Slot 1</th>\n",
       "      <th>Slot 2</th>\n",
       "      <th>Slot 3</th>\n",
       "      <th>Slot 4</th>\n",
       "      <th>E</th>\n",
       "      <th>f</th>\n",
       "    </tr>\n",
       "  </thead>\n",
       "  <tbody>\n",
       "    <tr>\n",
       "      <th>2024-01-03</th>\n",
       "      <td>-0.014545</td>\n",
       "      <td>-0.676671</td>\n",
       "      <td>-1.605469</td>\n",
       "      <td>-1.482625</td>\n",
       "      <td>1</td>\n",
       "      <td>9.0</td>\n",
       "    </tr>\n",
       "    <tr>\n",
       "      <th>2024-01-02</th>\n",
       "      <td>1.430700</td>\n",
       "      <td>1.940194</td>\n",
       "      <td>-0.278799</td>\n",
       "      <td>-2.199101</td>\n",
       "      <td>2</td>\n",
       "      <td>NaN</td>\n",
       "    </tr>\n",
       "    <tr>\n",
       "      <th>2024-01-05</th>\n",
       "      <td>-1.354165</td>\n",
       "      <td>-1.267936</td>\n",
       "      <td>-0.043692</td>\n",
       "      <td>-0.011044</td>\n",
       "      <td>3</td>\n",
       "      <td>NaN</td>\n",
       "    </tr>\n",
       "    <tr>\n",
       "      <th>2024-01-05</th>\n",
       "      <td>-1.354165</td>\n",
       "      <td>-1.267936</td>\n",
       "      <td>-0.043692</td>\n",
       "      <td>-0.011044</td>\n",
       "      <td>3</td>\n",
       "      <td>NaN</td>\n",
       "    </tr>\n",
       "    <tr>\n",
       "      <th>2024-01-04</th>\n",
       "      <td>-0.353241</td>\n",
       "      <td>-1.712024</td>\n",
       "      <td>0.075978</td>\n",
       "      <td>0.344701</td>\n",
       "      <td>4</td>\n",
       "      <td>1.0</td>\n",
       "    </tr>\n",
       "    <tr>\n",
       "      <th>2024-01-04</th>\n",
       "      <td>-0.353241</td>\n",
       "      <td>-1.712024</td>\n",
       "      <td>0.075978</td>\n",
       "      <td>0.344701</td>\n",
       "      <td>4</td>\n",
       "      <td>1.0</td>\n",
       "    </tr>\n",
       "  </tbody>\n",
       "</table>\n",
       "</div>"
      ],
      "text/plain": [
       "              Slot 1    Slot 2    Slot 3    Slot 4  E    f\n",
       "2024-01-03 -0.014545 -0.676671 -1.605469 -1.482625  1  9.0\n",
       "2024-01-02  1.430700  1.940194 -0.278799 -2.199101  2  NaN\n",
       "2024-01-05 -1.354165 -1.267936 -0.043692 -0.011044  3  NaN\n",
       "2024-01-05 -1.354165 -1.267936 -0.043692 -0.011044  3  NaN\n",
       "2024-01-04 -0.353241 -1.712024  0.075978  0.344701  4  1.0\n",
       "2024-01-04 -0.353241 -1.712024  0.075978  0.344701  4  1.0"
      ]
     },
     "execution_count": 54,
     "metadata": {},
     "output_type": "execute_result"
    }
   ],
   "source": [
    "pieces = [sd[:3], sd[2:4], sd[3:]]\n",
    "pd.concat(pieces)"
   ]
  },
  {
   "cell_type": "markdown",
   "id": "a6fcb6bd-908c-42ef-96df-5060f569b5f3",
   "metadata": {},
   "source": [
    "## Grouping\n",
    "Grouping by a column label, selecting column labels, and then applying the DataFrameGroupBy.sum() function to the resulting groups:"
   ]
  },
  {
   "cell_type": "code",
   "execution_count": 56,
   "id": "574ff326-9901-4abc-84e4-f4e74043a2d1",
   "metadata": {},
   "outputs": [
    {
     "data": {
      "text/html": [
       "<div>\n",
       "<style scoped>\n",
       "    .dataframe tbody tr th:only-of-type {\n",
       "        vertical-align: middle;\n",
       "    }\n",
       "\n",
       "    .dataframe tbody tr th {\n",
       "        vertical-align: top;\n",
       "    }\n",
       "\n",
       "    .dataframe thead th {\n",
       "        text-align: right;\n",
       "    }\n",
       "</style>\n",
       "<table border=\"1\" class=\"dataframe\">\n",
       "  <thead>\n",
       "    <tr style=\"text-align: right;\">\n",
       "      <th></th>\n",
       "      <th>Slot 3</th>\n",
       "      <th>Slot 4</th>\n",
       "    </tr>\n",
       "    <tr>\n",
       "      <th>Slot 1</th>\n",
       "      <th></th>\n",
       "      <th></th>\n",
       "    </tr>\n",
       "  </thead>\n",
       "  <tbody>\n",
       "    <tr>\n",
       "      <th>-1.354165</th>\n",
       "      <td>-0.043692</td>\n",
       "      <td>-0.011044</td>\n",
       "    </tr>\n",
       "    <tr>\n",
       "      <th>-0.353241</th>\n",
       "      <td>0.075978</td>\n",
       "      <td>0.344701</td>\n",
       "    </tr>\n",
       "    <tr>\n",
       "      <th>-0.014545</th>\n",
       "      <td>-1.605469</td>\n",
       "      <td>-1.482625</td>\n",
       "    </tr>\n",
       "    <tr>\n",
       "      <th>1.430700</th>\n",
       "      <td>-0.278799</td>\n",
       "      <td>-2.199101</td>\n",
       "    </tr>\n",
       "  </tbody>\n",
       "</table>\n",
       "</div>"
      ],
      "text/plain": [
       "             Slot 3    Slot 4\n",
       "Slot 1                       \n",
       "-1.354165 -0.043692 -0.011044\n",
       "-0.353241  0.075978  0.344701\n",
       "-0.014545 -1.605469 -1.482625\n",
       " 1.430700 -0.278799 -2.199101"
      ]
     },
     "execution_count": 56,
     "metadata": {},
     "output_type": "execute_result"
    }
   ],
   "source": [
    "sd.groupby(\"Slot 1\")[[\"Slot 3\", \"Slot 4\"]].sum()"
   ]
  },
  {
   "cell_type": "code",
   "execution_count": 57,
   "id": "9ab62427-fe8d-47da-a1b2-bbcea9b23477",
   "metadata": {},
   "outputs": [
    {
     "data": {
      "text/html": [
       "<div>\n",
       "<style scoped>\n",
       "    .dataframe tbody tr th:only-of-type {\n",
       "        vertical-align: middle;\n",
       "    }\n",
       "\n",
       "    .dataframe tbody tr th {\n",
       "        vertical-align: top;\n",
       "    }\n",
       "\n",
       "    .dataframe thead th {\n",
       "        text-align: right;\n",
       "    }\n",
       "</style>\n",
       "<table border=\"1\" class=\"dataframe\">\n",
       "  <thead>\n",
       "    <tr style=\"text-align: right;\">\n",
       "      <th></th>\n",
       "      <th></th>\n",
       "      <th>Slot 3</th>\n",
       "      <th>Slot 4</th>\n",
       "      <th>E</th>\n",
       "      <th>f</th>\n",
       "    </tr>\n",
       "    <tr>\n",
       "      <th>Slot 1</th>\n",
       "      <th>Slot 2</th>\n",
       "      <th></th>\n",
       "      <th></th>\n",
       "      <th></th>\n",
       "      <th></th>\n",
       "    </tr>\n",
       "  </thead>\n",
       "  <tbody>\n",
       "    <tr>\n",
       "      <th>-1.354165</th>\n",
       "      <th>-1.267936</th>\n",
       "      <td>-0.043692</td>\n",
       "      <td>-0.011044</td>\n",
       "      <td>3</td>\n",
       "      <td>0.0</td>\n",
       "    </tr>\n",
       "    <tr>\n",
       "      <th>-0.353241</th>\n",
       "      <th>-1.712024</th>\n",
       "      <td>0.075978</td>\n",
       "      <td>0.344701</td>\n",
       "      <td>4</td>\n",
       "      <td>1.0</td>\n",
       "    </tr>\n",
       "    <tr>\n",
       "      <th>-0.014545</th>\n",
       "      <th>-0.676671</th>\n",
       "      <td>-1.605469</td>\n",
       "      <td>-1.482625</td>\n",
       "      <td>1</td>\n",
       "      <td>9.0</td>\n",
       "    </tr>\n",
       "    <tr>\n",
       "      <th>1.430700</th>\n",
       "      <th>1.940194</th>\n",
       "      <td>-0.278799</td>\n",
       "      <td>-2.199101</td>\n",
       "      <td>2</td>\n",
       "      <td>0.0</td>\n",
       "    </tr>\n",
       "  </tbody>\n",
       "</table>\n",
       "</div>"
      ],
      "text/plain": [
       "                       Slot 3    Slot 4  E    f\n",
       "Slot 1    Slot 2                               \n",
       "-1.354165 -1.267936 -0.043692 -0.011044  3  0.0\n",
       "-0.353241 -1.712024  0.075978  0.344701  4  1.0\n",
       "-0.014545 -0.676671 -1.605469 -1.482625  1  9.0\n",
       " 1.430700  1.940194 -0.278799 -2.199101  2  0.0"
      ]
     },
     "execution_count": 57,
     "metadata": {},
     "output_type": "execute_result"
    }
   ],
   "source": [
    "# Grouping by multiple columns label forms MultiIndex.\n",
    "sd.groupby([\"Slot 1\", \"Slot 2\"]).sum()"
   ]
  },
  {
   "cell_type": "code",
   "execution_count": 58,
   "id": "a846c328-4c74-42d2-a415-3ec62d05c559",
   "metadata": {},
   "outputs": [
    {
     "data": {
      "image/png": "[encoded data removed]",
      "text/plain": [
       "<Figure size 640x480 with 1 Axes>"
      ]
     },
     "metadata": {},
     "output_type": "display_data"
    }
   ],
   "source": [
    "import matplotlib.pyplot as plt\n",
    "plt.close(\"all\")\n",
    "ts = pd.Series(np.random.randn(1000), index=pd.date_range(\"1/1/2000\", periods=1000))\n",
    "ts = ts.cumsum()\n",
    "ts.plot();"
   ]
  },
  {
   "cell_type": "markdown",
   "id": "092dc161-e201-40ff-b6be-22aaffbdfb40",
   "metadata": {},
   "source": [
    "# Importing and exporting data\n",
    "- CSV Writing to a csv file: using DataFrame.to_csv()"
   ]
  },
  {
   "cell_type": "code",
   "execution_count": 60,
   "id": "2047953f-0a15-44a3-aa56-c97cf2805ab7",
   "metadata": {},
   "outputs": [],
   "source": [
    "sd = pd.DataFrame(np.random.randint(0, 5, (10, 5)))\n",
    "sd.to_csv(\"Anot.csv\")"
   ]
  },
  {
   "cell_type": "markdown",
   "id": "592b47aa-eae5-486c-bd71-3503298bd0d3",
   "metadata": {},
   "source": [
    "# Parquet"
   ]
  },
  {
   "cell_type": "code",
   "execution_count": 62,
   "id": "46ea391c-4a84-408d-88b1-e08001a28b7a",
   "metadata": {},
   "outputs": [],
   "source": [
    "df.to_parquet(\"fooparquet.parquet\")"
   ]
  },
  {
   "cell_type": "code",
   "execution_count": 63,
   "id": "c85de84f-43de-4452-bd18-b716acc43cee",
   "metadata": {},
   "outputs": [
    {
     "data": {
      "text/html": [
       "<div>\n",
       "<style scoped>\n",
       "    .dataframe tbody tr th:only-of-type {\n",
       "        vertical-align: middle;\n",
       "    }\n",
       "\n",
       "    .dataframe tbody tr th {\n",
       "        vertical-align: top;\n",
       "    }\n",
       "\n",
       "    .dataframe thead th {\n",
       "        text-align: right;\n",
       "    }\n",
       "</style>\n",
       "<table border=\"1\" class=\"dataframe\">\n",
       "  <thead>\n",
       "    <tr style=\"text-align: right;\">\n",
       "      <th></th>\n",
       "      <th>Roll Number</th>\n",
       "    </tr>\n",
       "  </thead>\n",
       "  <tbody>\n",
       "    <tr>\n",
       "      <th>0</th>\n",
       "      <td>1</td>\n",
       "    </tr>\n",
       "    <tr>\n",
       "      <th>1</th>\n",
       "      <td>&lt;NA&gt;</td>\n",
       "    </tr>\n",
       "    <tr>\n",
       "      <th>2</th>\n",
       "      <td>3</td>\n",
       "    </tr>\n",
       "    <tr>\n",
       "      <th>3</th>\n",
       "      <td>4</td>\n",
       "    </tr>\n",
       "  </tbody>\n",
       "</table>\n",
       "</div>"
      ],
      "text/plain": [
       "   Roll Number\n",
       "0            1\n",
       "1         <NA>\n",
       "2            3\n",
       "3            4"
      ]
     },
     "execution_count": 63,
     "metadata": {},
     "output_type": "execute_result"
    }
   ],
   "source": [
    "pd.read_parquet(\"fooparquet.parquet\")\n"
   ]
  },
  {
   "cell_type": "markdown",
   "id": "869823cc-9904-4c0c-9279-1b951f1a6ef9",
   "metadata": {},
   "source": [
    "# Excel"
   ]
  },
  {
   "cell_type": "code",
   "execution_count": 118,
   "id": "1c12e5a3-f873-4cd4-926d-5c7ceaa7a773",
   "metadata": {},
   "outputs": [],
   "source": [
    "# writing an excel file using dataframe.to_excel\n",
    "df.to_excel(\"fooexcel.xlsx\", sheet_name=\"Sheet1\")"
   ]
  },
  {
   "cell_type": "code",
   "execution_count": 66,
   "id": "2e2a51b0-24ed-482c-99a5-22abdda0086e",
   "metadata": {},
   "outputs": [
    {
     "data": {
      "text/html": [
       "<div>\n",
       "<style scoped>\n",
       "    .dataframe tbody tr th:only-of-type {\n",
       "        vertical-align: middle;\n",
       "    }\n",
       "\n",
       "    .dataframe tbody tr th {\n",
       "        vertical-align: top;\n",
       "    }\n",
       "\n",
       "    .dataframe thead th {\n",
       "        text-align: right;\n",
       "    }\n",
       "</style>\n",
       "<table border=\"1\" class=\"dataframe\">\n",
       "  <thead>\n",
       "    <tr style=\"text-align: right;\">\n",
       "      <th></th>\n",
       "      <th>Unnamed: 0</th>\n",
       "      <th>Roll Number</th>\n",
       "    </tr>\n",
       "  </thead>\n",
       "  <tbody>\n",
       "    <tr>\n",
       "      <th>0</th>\n",
       "      <td>0</td>\n",
       "      <td>1.0</td>\n",
       "    </tr>\n",
       "    <tr>\n",
       "      <th>1</th>\n",
       "      <td>1</td>\n",
       "      <td>NaN</td>\n",
       "    </tr>\n",
       "    <tr>\n",
       "      <th>2</th>\n",
       "      <td>2</td>\n",
       "      <td>3.0</td>\n",
       "    </tr>\n",
       "    <tr>\n",
       "      <th>3</th>\n",
       "      <td>3</td>\n",
       "      <td>4.0</td>\n",
       "    </tr>\n",
       "  </tbody>\n",
       "</table>\n",
       "</div>"
      ],
      "text/plain": [
       "   Unnamed: 0  Roll Number\n",
       "0           0          1.0\n",
       "1           1          NaN\n",
       "2           2          3.0\n",
       "3           3          4.0"
      ]
     },
     "execution_count": 66,
     "metadata": {},
     "output_type": "execute_result"
    }
   ],
   "source": [
    "# reading an excel file using read_excel()\n",
    "pd.read_excel(\"fooexcel.xlsx\", \"Sheet1\", index_col=None, na_values=[\"NA\"])"
   ]
  },
  {
   "cell_type": "code",
   "execution_count": null,
   "id": "3991111f-f80a-442d-8dce-b7ba3b0f16ab",
   "metadata": {},
   "outputs": [],
   "source": []
  }
 ],
 "metadata": {
  "kernelspec": {
   "display_name": "Python 3 (ipykernel)",
   "language": "python",
   "name": "python3"
  },
  "language_info": {
   "codemirror_mode": {
    "name": "ipython",
    "version": 3
   },
   "file_extension": ".py",
   "mimetype": "text/x-python",
   "name": "python",
   "nbconvert_exporter": "python",
   "pygments_lexer": "ipython3",
   "version": "3.12.3"
  }
 },
 "nbformat": 4,
 "nbformat_minor": 5
}
