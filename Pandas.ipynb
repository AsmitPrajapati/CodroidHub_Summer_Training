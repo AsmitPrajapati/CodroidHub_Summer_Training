{
 "cells": [
  {
   "cell_type": "markdown",
   "id": "bf712aee-83ec-472c-a7df-2d58cb013f07",
   "metadata": {},
   "source": [
    "# Pandas"
   ]
  },
  {
   "cell_type": "markdown",
   "id": "05bedde6-3330-4bc8-8d1e-0ceca525e524",
   "metadata": {},
   "source": [
    "Panda is a fast,powerful,flexible and easy to use open source data analysis and manipulation tool built on top of the Python programming language."
   ]
  },
  {
   "cell_type": "code",
   "execution_count": 3,
   "id": "517687bb-7315-4683-8c12-5f448f94b83f",
   "metadata": {},
   "outputs": [],
   "source": [
    "import pandas as pd \n",
    "import numpy as np"
   ]
  },
  {
   "cell_type": "markdown",
   "id": "4b78b74e-76a6-49b0-9b31-db26217c86be",
   "metadata": {},
   "source": [
    "## Basic Data Structures in pandas"
   ]
  },
  {
   "cell_type": "markdown",
   "id": "c39b24b9-f1b8-4556-a7ae-d998efc5c4fe",
   "metadata": {},
   "source": [
    "Series: a one-dimensional labeled array holding data of any type\r\n",
    "such as integers, strings, Python objects etc.\r\n",
    "\r\n",
    "DataFrame: a two-dimensional data structure that holds data like a two-dimension array or a table with rows and columns."
   ]
  },
  {
   "cell_type": "code",
   "execution_count": 6,
   "id": "9f0a9c37-88cf-4256-af82-39a970d4fb85",
   "metadata": {},
   "outputs": [
    {
     "data": {
      "text/html": [
       "<div>\n",
       "<style scoped>\n",
       "    .dataframe tbody tr th:only-of-type {\n",
       "        vertical-align: middle;\n",
       "    }\n",
       "\n",
       "    .dataframe tbody tr th {\n",
       "        vertical-align: top;\n",
       "    }\n",
       "\n",
       "    .dataframe thead th {\n",
       "        text-align: right;\n",
       "    }\n",
       "</style>\n",
       "<table border=\"1\" class=\"dataframe\">\n",
       "  <thead>\n",
       "    <tr style=\"text-align: right;\">\n",
       "      <th></th>\n",
       "      <th>Roll No</th>\n",
       "      <th>Stu Name</th>\n",
       "    </tr>\n",
       "  </thead>\n",
       "  <tbody>\n",
       "    <tr>\n",
       "      <th>0</th>\n",
       "      <td>1</td>\n",
       "      <td>Vikas</td>\n",
       "    </tr>\n",
       "    <tr>\n",
       "      <th>1</th>\n",
       "      <td>2</td>\n",
       "      <td>Tarun</td>\n",
       "    </tr>\n",
       "    <tr>\n",
       "      <th>2</th>\n",
       "      <td>3</td>\n",
       "      <td>Abhishek</td>\n",
       "    </tr>\n",
       "  </tbody>\n",
       "</table>\n",
       "</div>"
      ],
      "text/plain": [
       "   Roll No  Stu Name\n",
       "0        1     Vikas\n",
       "1        2     Tarun\n",
       "2        3  Abhishek"
      ]
     },
     "execution_count": 6,
     "metadata": {},
     "output_type": "execute_result"
    }
   ],
   "source": [
    "df=pd.DataFrame({\"Roll No\":[1,2,3,],\"Stu Name\":['Vikas','Tarun','Abhishek']})\n",
    "df"
   ]
  },
  {
   "cell_type": "code",
   "execution_count": 7,
   "id": "b9d6c267-d79b-4f65-b890-162043396527",
   "metadata": {},
   "outputs": [
    {
     "data": {
      "text/plain": [
       "pandas.core.frame.DataFrame"
      ]
     },
     "execution_count": 7,
     "metadata": {},
     "output_type": "execute_result"
    }
   ],
   "source": [
    "# Defining the type of dataframe \n",
    "type(df)"
   ]
  },
  {
   "cell_type": "markdown",
   "id": "e0576e1c-f660-4011-a28b-b472b36dab8a",
   "metadata": {},
   "source": [
    "## What is NaN ?\n",
    "#NumPy NAN stands for not a number and is defined as a substitute for declaring value which are numerical values that are missing values in an array as NumPy is used to deal with arrays in Python and this can be initialized using numpy."
   ]
  },
  {
   "cell_type": "markdown",
   "id": "939edd8a-689e-4346-bf1c-766ec19d3d37",
   "metadata": {},
   "source": [
    "## Difference between NaN & Null\n",
    "`NaN` is a special floating-point value used in numeric computations, particularly with the `numpy` and `pandas` libraries\n",
    " Null is often used in situations where the absence of a value is a valid and meaningful concept"
   ]
  },
  {
   "cell_type": "code",
   "execution_count": 10,
   "id": "c7414e2b-7c8a-488c-95f8-a92332d276d9",
   "metadata": {},
   "outputs": [
    {
     "data": {
      "text/html": [
       "<div>\n",
       "<style scoped>\n",
       "    .dataframe tbody tr th:only-of-type {\n",
       "        vertical-align: middle;\n",
       "    }\n",
       "\n",
       "    .dataframe tbody tr th {\n",
       "        vertical-align: top;\n",
       "    }\n",
       "\n",
       "    .dataframe thead th {\n",
       "        text-align: right;\n",
       "    }\n",
       "</style>\n",
       "<table border=\"1\" class=\"dataframe\">\n",
       "  <thead>\n",
       "    <tr style=\"text-align: right;\">\n",
       "      <th></th>\n",
       "      <th>Roll No</th>\n",
       "      <th>Stu Name</th>\n",
       "    </tr>\n",
       "  </thead>\n",
       "  <tbody>\n",
       "    <tr>\n",
       "      <th>0</th>\n",
       "      <td>1.0</td>\n",
       "      <td>Vikas</td>\n",
       "    </tr>\n",
       "    <tr>\n",
       "      <th>1</th>\n",
       "      <td>NaN</td>\n",
       "      <td>Tarun</td>\n",
       "    </tr>\n",
       "    <tr>\n",
       "      <th>2</th>\n",
       "      <td>3.0</td>\n",
       "      <td>Abhishek</td>\n",
       "    </tr>\n",
       "  </tbody>\n",
       "</table>\n",
       "</div>"
      ],
      "text/plain": [
       "   Roll No  Stu Name\n",
       "0      1.0     Vikas\n",
       "1      NaN     Tarun\n",
       "2      3.0  Abhishek"
      ]
     },
     "execution_count": 10,
     "metadata": {},
     "output_type": "execute_result"
    }
   ],
   "source": [
    "#why roll number changes to float value when we replace 2 with np.nan\n",
    "df=pd.DataFrame({\"Roll No\":[1,np.nan,3],\"Stu Name\":['Vikas','Tarun','Abhishek']},)\n",
    "df"
   ]
  },
  {
   "cell_type": "code",
   "execution_count": 11,
   "id": "b6e319c1-a0d6-4e23-a1a0-f8a8f3e36b47",
   "metadata": {},
   "outputs": [],
   "source": [
    "# Change: data type of values in the columns changes to float "
   ]
  },
  {
   "cell_type": "markdown",
   "id": "5045054d-a968-4143-b42f-908054412a41",
   "metadata": {},
   "source": [
    "## Why Roll No changes to float\n",
    "`NaN` is a special floating-point value used in numeric computations, particularly with the `numpy` and `pandas` libraries\n",
    " Null is often used in situations where the absence of a value is a valid and meaningful concept"
   ]
  },
  {
   "cell_type": "code",
   "execution_count": 13,
   "id": "42680d30-0a9c-4b43-862b-a13db6356e1c",
   "metadata": {},
   "outputs": [
    {
     "data": {
      "text/html": [
       "<div>\n",
       "<style scoped>\n",
       "    .dataframe tbody tr th:only-of-type {\n",
       "        vertical-align: middle;\n",
       "    }\n",
       "\n",
       "    .dataframe tbody tr th {\n",
       "        vertical-align: top;\n",
       "    }\n",
       "\n",
       "    .dataframe thead th {\n",
       "        text-align: right;\n",
       "    }\n",
       "</style>\n",
       "<table border=\"1\" class=\"dataframe\">\n",
       "  <thead>\n",
       "    <tr style=\"text-align: right;\">\n",
       "      <th></th>\n",
       "      <th>Roll No</th>\n",
       "      <th>Stu Name</th>\n",
       "    </tr>\n",
       "  </thead>\n",
       "  <tbody>\n",
       "    <tr>\n",
       "      <th>0</th>\n",
       "      <td>1.0</td>\n",
       "      <td>Vikas</td>\n",
       "    </tr>\n",
       "    <tr>\n",
       "      <th>1</th>\n",
       "      <td>NaN</td>\n",
       "      <td>Tarun</td>\n",
       "    </tr>\n",
       "    <tr>\n",
       "      <th>2</th>\n",
       "      <td>3.0</td>\n",
       "      <td>Abhishek</td>\n",
       "    </tr>\n",
       "  </tbody>\n",
       "</table>\n",
       "</div>"
      ],
      "text/plain": [
       "   Roll No  Stu Name\n",
       "0      1.0     Vikas\n",
       "1      NaN     Tarun\n",
       "2      3.0  Abhishek"
      ]
     },
     "execution_count": 13,
     "metadata": {},
     "output_type": "execute_result"
    }
   ],
   "source": [
    "# is it posssible to convert value into int while using nan and how it is done? \n",
    "df['Roll No']=df['Roll No']\n",
    "df"
   ]
  },
  {
   "cell_type": "markdown",
   "id": "c4c9796c-5b13-4435-a9ef-f8cf2eea0470",
   "metadata": {},
   "source": [
    "## How to convert roll no into integer value with np.nan?\n",
    "fillna(-1): Fills NaN values with -1. You can choose any placeholder value that makes sense for your context.\n",
    "\n",
    "astype(int): Converts the column to an integer type (int64)"
   ]
  },
  {
   "cell_type": "code",
   "execution_count": 15,
   "id": "db73fc0e-e7c7-4263-b4da-53f7a9566a12",
   "metadata": {},
   "outputs": [
    {
     "data": {
      "text/html": [
       "<div>\n",
       "<style scoped>\n",
       "    .dataframe tbody tr th:only-of-type {\n",
       "        vertical-align: middle;\n",
       "    }\n",
       "\n",
       "    .dataframe tbody tr th {\n",
       "        vertical-align: top;\n",
       "    }\n",
       "\n",
       "    .dataframe thead th {\n",
       "        text-align: right;\n",
       "    }\n",
       "</style>\n",
       "<table border=\"1\" class=\"dataframe\">\n",
       "  <thead>\n",
       "    <tr style=\"text-align: right;\">\n",
       "      <th></th>\n",
       "      <th>Roll No</th>\n",
       "      <th>Stu Name</th>\n",
       "    </tr>\n",
       "  </thead>\n",
       "  <tbody>\n",
       "    <tr>\n",
       "      <th>0</th>\n",
       "      <td>1</td>\n",
       "      <td>Vikas</td>\n",
       "    </tr>\n",
       "    <tr>\n",
       "      <th>1</th>\n",
       "      <td>-1</td>\n",
       "      <td>Tarun</td>\n",
       "    </tr>\n",
       "    <tr>\n",
       "      <th>2</th>\n",
       "      <td>3</td>\n",
       "      <td>Abhishek</td>\n",
       "    </tr>\n",
       "  </tbody>\n",
       "</table>\n",
       "</div>"
      ],
      "text/plain": [
       "   Roll No  Stu Name\n",
       "0        1     Vikas\n",
       "1       -1     Tarun\n",
       "2        3  Abhishek"
      ]
     },
     "execution_count": 15,
     "metadata": {},
     "output_type": "execute_result"
    }
   ],
   "source": [
    "# method 1\n",
    "df['Roll No']=df['Roll No'].fillna(-1).astype(int)\n",
    "df"
   ]
  },
  {
   "cell_type": "code",
   "execution_count": 16,
   "id": "37c85979-3cc3-4d52-af3a-55f0a01f0c7a",
   "metadata": {},
   "outputs": [
    {
     "data": {
      "text/html": [
       "<div>\n",
       "<style scoped>\n",
       "    .dataframe tbody tr th:only-of-type {\n",
       "        vertical-align: middle;\n",
       "    }\n",
       "\n",
       "    .dataframe tbody tr th {\n",
       "        vertical-align: top;\n",
       "    }\n",
       "\n",
       "    .dataframe thead th {\n",
       "        text-align: right;\n",
       "    }\n",
       "</style>\n",
       "<table border=\"1\" class=\"dataframe\">\n",
       "  <thead>\n",
       "    <tr style=\"text-align: right;\">\n",
       "      <th></th>\n",
       "      <th>Roll Number</th>\n",
       "    </tr>\n",
       "  </thead>\n",
       "  <tbody>\n",
       "    <tr>\n",
       "      <th>0</th>\n",
       "      <td>1</td>\n",
       "    </tr>\n",
       "    <tr>\n",
       "      <th>1</th>\n",
       "      <td>&lt;NA&gt;</td>\n",
       "    </tr>\n",
       "    <tr>\n",
       "      <th>2</th>\n",
       "      <td>3</td>\n",
       "    </tr>\n",
       "    <tr>\n",
       "      <th>3</th>\n",
       "      <td>4</td>\n",
       "    </tr>\n",
       "  </tbody>\n",
       "</table>\n",
       "</div>"
      ],
      "text/plain": [
       "   Roll Number\n",
       "0            1\n",
       "1         <NA>\n",
       "2            3\n",
       "3            4"
      ]
     },
     "execution_count": 16,
     "metadata": {},
     "output_type": "execute_result"
    }
   ],
   "source": [
    "# Method 2\n",
    "df = pd.DataFrame({'Roll Number': [1,np.nan,3,4]})\n",
    "df['Roll Number'] = df['Roll Number'].astype(pd.Int64Dtype())\n",
    "df"
   ]
  },
  {
   "cell_type": "code",
   "execution_count": 17,
   "id": "0e028b23-c2ee-4394-bf21-b80120ed9f5e",
   "metadata": {},
   "outputs": [
    {
     "data": {
      "text/plain": [
       "0    1\n",
       "1    3\n",
       "2    5\n",
       "3    6\n",
       "dtype: int64"
      ]
     },
     "execution_count": 17,
     "metadata": {},
     "output_type": "execute_result"
    }
   ],
   "source": [
    "# Series\n",
    "ad = pd.Series([1,3,5,6])\n",
    "ad"
   ]
  },
  {
   "cell_type": "code",
   "execution_count": 18,
   "id": "9e8669fc-4567-4874-b89c-b7f28c0e7839",
   "metadata": {},
   "outputs": [],
   "source": [
    "# object creation\n",
    "dates=pd.date_range(\"20240102\",periods=4)"
   ]
  },
  {
   "cell_type": "code",
   "execution_count": 19,
   "id": "401e2708-4f22-45b3-8e36-3aa6bc65a991",
   "metadata": {},
   "outputs": [
    {
     "data": {
      "text/html": [
       "<div>\n",
       "<style scoped>\n",
       "    .dataframe tbody tr th:only-of-type {\n",
       "        vertical-align: middle;\n",
       "    }\n",
       "\n",
       "    .dataframe tbody tr th {\n",
       "        vertical-align: top;\n",
       "    }\n",
       "\n",
       "    .dataframe thead th {\n",
       "        text-align: right;\n",
       "    }\n",
       "</style>\n",
       "<table border=\"1\" class=\"dataframe\">\n",
       "  <thead>\n",
       "    <tr style=\"text-align: right;\">\n",
       "      <th></th>\n",
       "      <th>0</th>\n",
       "      <th>1</th>\n",
       "      <th>2</th>\n",
       "      <th>3</th>\n",
       "    </tr>\n",
       "  </thead>\n",
       "  <tbody>\n",
       "    <tr>\n",
       "      <th>0</th>\n",
       "      <td>-0.307120</td>\n",
       "      <td>0.275884</td>\n",
       "      <td>-0.773132</td>\n",
       "      <td>-0.767686</td>\n",
       "    </tr>\n",
       "    <tr>\n",
       "      <th>1</th>\n",
       "      <td>0.136889</td>\n",
       "      <td>1.585432</td>\n",
       "      <td>1.092796</td>\n",
       "      <td>-0.063587</td>\n",
       "    </tr>\n",
       "    <tr>\n",
       "      <th>2</th>\n",
       "      <td>1.220423</td>\n",
       "      <td>-0.902243</td>\n",
       "      <td>-0.238424</td>\n",
       "      <td>0.812140</td>\n",
       "    </tr>\n",
       "    <tr>\n",
       "      <th>3</th>\n",
       "      <td>-0.472770</td>\n",
       "      <td>-0.939129</td>\n",
       "      <td>1.778511</td>\n",
       "      <td>1.285501</td>\n",
       "    </tr>\n",
       "  </tbody>\n",
       "</table>\n",
       "</div>"
      ],
      "text/plain": [
       "          0         1         2         3\n",
       "0 -0.307120  0.275884 -0.773132 -0.767686\n",
       "1  0.136889  1.585432  1.092796 -0.063587\n",
       "2  1.220423 -0.902243 -0.238424  0.812140\n",
       "3 -0.472770 -0.939129  1.778511  1.285501"
      ]
     },
     "execution_count": 19,
     "metadata": {},
     "output_type": "execute_result"
    }
   ],
   "source": [
    "#generating dataframe with random num\n",
    "sd=pd.DataFrame(np.random.randn(4,4))\n",
    "sd"
   ]
  },
  {
   "cell_type": "code",
   "execution_count": 20,
   "id": "cfc89a93-9011-424a-83ff-afd3d29df609",
   "metadata": {},
   "outputs": [
    {
     "data": {
      "text/html": [
       "<div>\n",
       "<style scoped>\n",
       "    .dataframe tbody tr th:only-of-type {\n",
       "        vertical-align: middle;\n",
       "    }\n",
       "\n",
       "    .dataframe tbody tr th {\n",
       "        vertical-align: top;\n",
       "    }\n",
       "\n",
       "    .dataframe thead th {\n",
       "        text-align: right;\n",
       "    }\n",
       "</style>\n",
       "<table border=\"1\" class=\"dataframe\">\n",
       "  <thead>\n",
       "    <tr style=\"text-align: right;\">\n",
       "      <th></th>\n",
       "      <th>0</th>\n",
       "      <th>1</th>\n",
       "      <th>2</th>\n",
       "      <th>3</th>\n",
       "    </tr>\n",
       "  </thead>\n",
       "  <tbody>\n",
       "    <tr>\n",
       "      <th>2024-01-02</th>\n",
       "      <td>0.675315</td>\n",
       "      <td>0.872458</td>\n",
       "      <td>0.497414</td>\n",
       "      <td>-0.684031</td>\n",
       "    </tr>\n",
       "    <tr>\n",
       "      <th>2024-01-03</th>\n",
       "      <td>0.599866</td>\n",
       "      <td>0.776468</td>\n",
       "      <td>-0.148727</td>\n",
       "      <td>0.785721</td>\n",
       "    </tr>\n",
       "    <tr>\n",
       "      <th>2024-01-04</th>\n",
       "      <td>0.726065</td>\n",
       "      <td>0.275913</td>\n",
       "      <td>-0.977367</td>\n",
       "      <td>0.620368</td>\n",
       "    </tr>\n",
       "    <tr>\n",
       "      <th>2024-01-05</th>\n",
       "      <td>1.852324</td>\n",
       "      <td>-1.136512</td>\n",
       "      <td>0.803607</td>\n",
       "      <td>0.678171</td>\n",
       "    </tr>\n",
       "  </tbody>\n",
       "</table>\n",
       "</div>"
      ],
      "text/plain": [
       "                   0         1         2         3\n",
       "2024-01-02  0.675315  0.872458  0.497414 -0.684031\n",
       "2024-01-03  0.599866  0.776468 -0.148727  0.785721\n",
       "2024-01-04  0.726065  0.275913 -0.977367  0.620368\n",
       "2024-01-05  1.852324 -1.136512  0.803607  0.678171"
      ]
     },
     "execution_count": 20,
     "metadata": {},
     "output_type": "execute_result"
    }
   ],
   "source": [
    "# replacing index woth dates\n",
    "sd=pd.DataFrame(np.random.randn(4,4),index=dates)\n",
    "sd"
   ]
  },
  {
   "cell_type": "code",
   "execution_count": 21,
   "id": "0507ef72-843e-471a-a1f2-fdfb4e8ded44",
   "metadata": {},
   "outputs": [
    {
     "data": {
      "text/html": [
       "<div>\n",
       "<style scoped>\n",
       "    .dataframe tbody tr th:only-of-type {\n",
       "        vertical-align: middle;\n",
       "    }\n",
       "\n",
       "    .dataframe tbody tr th {\n",
       "        vertical-align: top;\n",
       "    }\n",
       "\n",
       "    .dataframe thead th {\n",
       "        text-align: right;\n",
       "    }\n",
       "</style>\n",
       "<table border=\"1\" class=\"dataframe\">\n",
       "  <thead>\n",
       "    <tr style=\"text-align: right;\">\n",
       "      <th></th>\n",
       "      <th>A</th>\n",
       "      <th>B</th>\n",
       "      <th>C</th>\n",
       "      <th>D</th>\n",
       "    </tr>\n",
       "  </thead>\n",
       "  <tbody>\n",
       "    <tr>\n",
       "      <th>2024-01-02</th>\n",
       "      <td>0.837569</td>\n",
       "      <td>-0.072370</td>\n",
       "      <td>-0.410808</td>\n",
       "      <td>0.796860</td>\n",
       "    </tr>\n",
       "    <tr>\n",
       "      <th>2024-01-03</th>\n",
       "      <td>0.606078</td>\n",
       "      <td>0.730812</td>\n",
       "      <td>0.562375</td>\n",
       "      <td>-0.323319</td>\n",
       "    </tr>\n",
       "    <tr>\n",
       "      <th>2024-01-04</th>\n",
       "      <td>1.156886</td>\n",
       "      <td>0.251319</td>\n",
       "      <td>1.015841</td>\n",
       "      <td>-1.813894</td>\n",
       "    </tr>\n",
       "    <tr>\n",
       "      <th>2024-01-05</th>\n",
       "      <td>0.819706</td>\n",
       "      <td>0.714510</td>\n",
       "      <td>1.426745</td>\n",
       "      <td>-0.712987</td>\n",
       "    </tr>\n",
       "  </tbody>\n",
       "</table>\n",
       "</div>"
      ],
      "text/plain": [
       "                   A         B         C         D\n",
       "2024-01-02  0.837569 -0.072370 -0.410808  0.796860\n",
       "2024-01-03  0.606078  0.730812  0.562375 -0.323319\n",
       "2024-01-04  1.156886  0.251319  1.015841 -1.813894\n",
       "2024-01-05  0.819706  0.714510  1.426745 -0.712987"
      ]
     },
     "execution_count": 21,
     "metadata": {},
     "output_type": "execute_result"
    }
   ],
   "source": [
    "# replacing columns with list\n",
    "sd=pd.DataFrame(np.random.randn(4,4),index=dates,columns=list(\"ABCD\"))#columns as slot 1 ,slot2 ?\n",
    "sd"
   ]
  },
  {
   "cell_type": "code",
   "execution_count": 22,
   "id": "389aa33e-6512-4165-8a94-3856ee70ea39",
   "metadata": {},
   "outputs": [
    {
     "data": {
      "text/html": [
       "<div>\n",
       "<style scoped>\n",
       "    .dataframe tbody tr th:only-of-type {\n",
       "        vertical-align: middle;\n",
       "    }\n",
       "\n",
       "    .dataframe tbody tr th {\n",
       "        vertical-align: top;\n",
       "    }\n",
       "\n",
       "    .dataframe thead th {\n",
       "        text-align: right;\n",
       "    }\n",
       "</style>\n",
       "<table border=\"1\" class=\"dataframe\">\n",
       "  <thead>\n",
       "    <tr style=\"text-align: right;\">\n",
       "      <th></th>\n",
       "      <th>Slot 1</th>\n",
       "      <th>Slot 2</th>\n",
       "      <th>Slot 3</th>\n",
       "      <th>Slot 4</th>\n",
       "    </tr>\n",
       "  </thead>\n",
       "  <tbody>\n",
       "    <tr>\n",
       "      <th>2024-01-02</th>\n",
       "      <td>0.602718</td>\n",
       "      <td>1.319289</td>\n",
       "      <td>0.541694</td>\n",
       "      <td>-0.515991</td>\n",
       "    </tr>\n",
       "    <tr>\n",
       "      <th>2024-01-03</th>\n",
       "      <td>-1.330379</td>\n",
       "      <td>-1.319802</td>\n",
       "      <td>0.261632</td>\n",
       "      <td>0.374631</td>\n",
       "    </tr>\n",
       "    <tr>\n",
       "      <th>2024-01-04</th>\n",
       "      <td>-1.087202</td>\n",
       "      <td>0.055295</td>\n",
       "      <td>3.490454</td>\n",
       "      <td>-2.192428</td>\n",
       "    </tr>\n",
       "    <tr>\n",
       "      <th>2024-01-05</th>\n",
       "      <td>1.338594</td>\n",
       "      <td>0.417339</td>\n",
       "      <td>0.747849</td>\n",
       "      <td>1.091813</td>\n",
       "    </tr>\n",
       "  </tbody>\n",
       "</table>\n",
       "</div>"
      ],
      "text/plain": [
       "              Slot 1    Slot 2    Slot 3    Slot 4\n",
       "2024-01-02  0.602718  1.319289  0.541694 -0.515991\n",
       "2024-01-03 -1.330379 -1.319802  0.261632  0.374631\n",
       "2024-01-04 -1.087202  0.055295  3.490454 -2.192428\n",
       "2024-01-05  1.338594  0.417339  0.747849  1.091813"
      ]
     },
     "execution_count": 22,
     "metadata": {},
     "output_type": "execute_result"
    }
   ],
   "source": [
    "# Replacing column name as slot 1,slot 2,slot 3,slot 4\n",
    "sd=pd.DataFrame(np.random.randn(4,4),index=dates,columns=list([\"Slot 1\",\"Slot 2\",\"Slot 3\",\"Slot 4\"]))#columns as slot 1 ,slot2 ?\n",
    "sd"
   ]
  },
  {
   "cell_type": "code",
   "execution_count": 23,
   "id": "ccf39ed2-3a69-47df-b878-daddc3f959ba",
   "metadata": {},
   "outputs": [
    {
     "data": {
      "text/plain": [
       "array([[ 0.602718  ,  1.31928858,  0.54169365, -0.51599075],\n",
       "       [-1.33037896, -1.31980226,  0.26163225,  0.37463093],\n",
       "       [-1.08720151,  0.05529475,  3.49045434, -2.19242795],\n",
       "       [ 1.33859363,  0.41733889,  0.74784901,  1.09181279]])"
      ]
     },
     "execution_count": 23,
     "metadata": {},
     "output_type": "execute_result"
    }
   ],
   "source": [
    "# converting to numpy array\n",
    "sd.to_numpy()      "
   ]
  },
  {
   "cell_type": "code",
   "execution_count": 24,
   "id": "6a3e6c44-e925-492a-b733-435900bde755",
   "metadata": {},
   "outputs": [
    {
     "data": {
      "text/plain": [
       "DatetimeIndex(['2024-01-02', '2024-01-03', '2024-01-04', '2024-01-05'], dtype='datetime64[ns]', freq='D')"
      ]
     },
     "execution_count": 24,
     "metadata": {},
     "output_type": "execute_result"
    }
   ],
   "source": [
    "# Index of dataframe\n",
    "sd.index"
   ]
  },
  {
   "cell_type": "code",
   "execution_count": 25,
   "id": "a917240a-df14-47cc-a432-e2c14ce6fa7c",
   "metadata": {},
   "outputs": [
    {
     "data": {
      "text/plain": [
       "Index(['Slot 1', 'Slot 2', 'Slot 3', 'Slot 4'], dtype='object')"
      ]
     },
     "execution_count": 25,
     "metadata": {},
     "output_type": "execute_result"
    }
   ],
   "source": [
    "# Columns of dataframe\n",
    "sd.columns"
   ]
  },
  {
   "cell_type": "markdown",
   "id": "7d46e753-4ecf-4779-807d-c3ef2a4d3f92",
   "metadata": {},
   "source": [
    "## Sorting by axis and value"
   ]
  },
  {
   "cell_type": "code",
   "execution_count": 27,
   "id": "b3aa9863-c679-4eca-b22b-e154abadcbc3",
   "metadata": {},
   "outputs": [
    {
     "data": {
      "text/html": [
       "<div>\n",
       "<style scoped>\n",
       "    .dataframe tbody tr th:only-of-type {\n",
       "        vertical-align: middle;\n",
       "    }\n",
       "\n",
       "    .dataframe tbody tr th {\n",
       "        vertical-align: top;\n",
       "    }\n",
       "\n",
       "    .dataframe thead th {\n",
       "        text-align: right;\n",
       "    }\n",
       "</style>\n",
       "<table border=\"1\" class=\"dataframe\">\n",
       "  <thead>\n",
       "    <tr style=\"text-align: right;\">\n",
       "      <th></th>\n",
       "      <th>Slot 4</th>\n",
       "      <th>Slot 3</th>\n",
       "      <th>Slot 2</th>\n",
       "      <th>Slot 1</th>\n",
       "    </tr>\n",
       "  </thead>\n",
       "  <tbody>\n",
       "    <tr>\n",
       "      <th>2024-01-02</th>\n",
       "      <td>-0.515991</td>\n",
       "      <td>0.541694</td>\n",
       "      <td>1.319289</td>\n",
       "      <td>0.602718</td>\n",
       "    </tr>\n",
       "    <tr>\n",
       "      <th>2024-01-03</th>\n",
       "      <td>0.374631</td>\n",
       "      <td>0.261632</td>\n",
       "      <td>-1.319802</td>\n",
       "      <td>-1.330379</td>\n",
       "    </tr>\n",
       "    <tr>\n",
       "      <th>2024-01-04</th>\n",
       "      <td>-2.192428</td>\n",
       "      <td>3.490454</td>\n",
       "      <td>0.055295</td>\n",
       "      <td>-1.087202</td>\n",
       "    </tr>\n",
       "    <tr>\n",
       "      <th>2024-01-05</th>\n",
       "      <td>1.091813</td>\n",
       "      <td>0.747849</td>\n",
       "      <td>0.417339</td>\n",
       "      <td>1.338594</td>\n",
       "    </tr>\n",
       "  </tbody>\n",
       "</table>\n",
       "</div>"
      ],
      "text/plain": [
       "              Slot 4    Slot 3    Slot 2    Slot 1\n",
       "2024-01-02 -0.515991  0.541694  1.319289  0.602718\n",
       "2024-01-03  0.374631  0.261632 -1.319802 -1.330379\n",
       "2024-01-04 -2.192428  3.490454  0.055295 -1.087202\n",
       "2024-01-05  1.091813  0.747849  0.417339  1.338594"
      ]
     },
     "execution_count": 27,
     "metadata": {},
     "output_type": "execute_result"
    }
   ],
   "source": [
    "sd.sort_index(axis=1,ascending=False)"
   ]
  },
  {
   "cell_type": "code",
   "execution_count": 28,
   "id": "f4a9527f-c26b-442c-923b-71350f9ef067",
   "metadata": {},
   "outputs": [
    {
     "data": {
      "text/html": [
       "<div>\n",
       "<style scoped>\n",
       "    .dataframe tbody tr th:only-of-type {\n",
       "        vertical-align: middle;\n",
       "    }\n",
       "\n",
       "    .dataframe tbody tr th {\n",
       "        vertical-align: top;\n",
       "    }\n",
       "\n",
       "    .dataframe thead th {\n",
       "        text-align: right;\n",
       "    }\n",
       "</style>\n",
       "<table border=\"1\" class=\"dataframe\">\n",
       "  <thead>\n",
       "    <tr style=\"text-align: right;\">\n",
       "      <th></th>\n",
       "      <th>Slot 1</th>\n",
       "      <th>Slot 2</th>\n",
       "      <th>Slot 3</th>\n",
       "      <th>Slot 4</th>\n",
       "    </tr>\n",
       "  </thead>\n",
       "  <tbody>\n",
       "    <tr>\n",
       "      <th>2024-01-05</th>\n",
       "      <td>1.338594</td>\n",
       "      <td>0.417339</td>\n",
       "      <td>0.747849</td>\n",
       "      <td>1.091813</td>\n",
       "    </tr>\n",
       "    <tr>\n",
       "      <th>2024-01-04</th>\n",
       "      <td>-1.087202</td>\n",
       "      <td>0.055295</td>\n",
       "      <td>3.490454</td>\n",
       "      <td>-2.192428</td>\n",
       "    </tr>\n",
       "    <tr>\n",
       "      <th>2024-01-03</th>\n",
       "      <td>-1.330379</td>\n",
       "      <td>-1.319802</td>\n",
       "      <td>0.261632</td>\n",
       "      <td>0.374631</td>\n",
       "    </tr>\n",
       "    <tr>\n",
       "      <th>2024-01-02</th>\n",
       "      <td>0.602718</td>\n",
       "      <td>1.319289</td>\n",
       "      <td>0.541694</td>\n",
       "      <td>-0.515991</td>\n",
       "    </tr>\n",
       "  </tbody>\n",
       "</table>\n",
       "</div>"
      ],
      "text/plain": [
       "              Slot 1    Slot 2    Slot 3    Slot 4\n",
       "2024-01-05  1.338594  0.417339  0.747849  1.091813\n",
       "2024-01-04 -1.087202  0.055295  3.490454 -2.192428\n",
       "2024-01-03 -1.330379 -1.319802  0.261632  0.374631\n",
       "2024-01-02  0.602718  1.319289  0.541694 -0.515991"
      ]
     },
     "execution_count": 28,
     "metadata": {},
     "output_type": "execute_result"
    }
   ],
   "source": [
    "sd.sort_index(axis=0,ascending=False)"
   ]
  },
  {
   "cell_type": "code",
   "execution_count": 29,
   "id": "48c7c15e-fbde-4fd6-9d18-c60b7f6b7e30",
   "metadata": {},
   "outputs": [
    {
     "data": {
      "text/html": [
       "<div>\n",
       "<style scoped>\n",
       "    .dataframe tbody tr th:only-of-type {\n",
       "        vertical-align: middle;\n",
       "    }\n",
       "\n",
       "    .dataframe tbody tr th {\n",
       "        vertical-align: top;\n",
       "    }\n",
       "\n",
       "    .dataframe thead th {\n",
       "        text-align: right;\n",
       "    }\n",
       "</style>\n",
       "<table border=\"1\" class=\"dataframe\">\n",
       "  <thead>\n",
       "    <tr style=\"text-align: right;\">\n",
       "      <th></th>\n",
       "      <th>Slot 1</th>\n",
       "      <th>Slot 2</th>\n",
       "      <th>Slot 3</th>\n",
       "      <th>Slot 4</th>\n",
       "    </tr>\n",
       "  </thead>\n",
       "  <tbody>\n",
       "    <tr>\n",
       "      <th>2024-01-04</th>\n",
       "      <td>-1.087202</td>\n",
       "      <td>0.055295</td>\n",
       "      <td>3.490454</td>\n",
       "      <td>-2.192428</td>\n",
       "    </tr>\n",
       "    <tr>\n",
       "      <th>2024-01-05</th>\n",
       "      <td>1.338594</td>\n",
       "      <td>0.417339</td>\n",
       "      <td>0.747849</td>\n",
       "      <td>1.091813</td>\n",
       "    </tr>\n",
       "    <tr>\n",
       "      <th>2024-01-02</th>\n",
       "      <td>0.602718</td>\n",
       "      <td>1.319289</td>\n",
       "      <td>0.541694</td>\n",
       "      <td>-0.515991</td>\n",
       "    </tr>\n",
       "    <tr>\n",
       "      <th>2024-01-03</th>\n",
       "      <td>-1.330379</td>\n",
       "      <td>-1.319802</td>\n",
       "      <td>0.261632</td>\n",
       "      <td>0.374631</td>\n",
       "    </tr>\n",
       "  </tbody>\n",
       "</table>\n",
       "</div>"
      ],
      "text/plain": [
       "              Slot 1    Slot 2    Slot 3    Slot 4\n",
       "2024-01-04 -1.087202  0.055295  3.490454 -2.192428\n",
       "2024-01-05  1.338594  0.417339  0.747849  1.091813\n",
       "2024-01-02  0.602718  1.319289  0.541694 -0.515991\n",
       "2024-01-03 -1.330379 -1.319802  0.261632  0.374631"
      ]
     },
     "execution_count": 29,
     "metadata": {},
     "output_type": "execute_result"
    }
   ],
   "source": [
    "sd.sort_values(by=\"Slot 3\",ascending=False)  # Task : sort on c and d   # default"
   ]
  },
  {
   "cell_type": "code",
   "execution_count": 30,
   "id": "3f2d97b5-9b88-45e0-892f-eb06ccf4bf0c",
   "metadata": {},
   "outputs": [
    {
     "data": {
      "text/html": [
       "<div>\n",
       "<style scoped>\n",
       "    .dataframe tbody tr th:only-of-type {\n",
       "        vertical-align: middle;\n",
       "    }\n",
       "\n",
       "    .dataframe tbody tr th {\n",
       "        vertical-align: top;\n",
       "    }\n",
       "\n",
       "    .dataframe thead th {\n",
       "        text-align: right;\n",
       "    }\n",
       "</style>\n",
       "<table border=\"1\" class=\"dataframe\">\n",
       "  <thead>\n",
       "    <tr style=\"text-align: right;\">\n",
       "      <th></th>\n",
       "      <th>Slot 1</th>\n",
       "      <th>Slot 2</th>\n",
       "      <th>Slot 3</th>\n",
       "      <th>Slot 4</th>\n",
       "    </tr>\n",
       "  </thead>\n",
       "  <tbody>\n",
       "    <tr>\n",
       "      <th>2024-01-03</th>\n",
       "      <td>-1.330379</td>\n",
       "      <td>-1.319802</td>\n",
       "      <td>0.261632</td>\n",
       "      <td>0.374631</td>\n",
       "    </tr>\n",
       "    <tr>\n",
       "      <th>2024-01-02</th>\n",
       "      <td>0.602718</td>\n",
       "      <td>1.319289</td>\n",
       "      <td>0.541694</td>\n",
       "      <td>-0.515991</td>\n",
       "    </tr>\n",
       "    <tr>\n",
       "      <th>2024-01-05</th>\n",
       "      <td>1.338594</td>\n",
       "      <td>0.417339</td>\n",
       "      <td>0.747849</td>\n",
       "      <td>1.091813</td>\n",
       "    </tr>\n",
       "    <tr>\n",
       "      <th>2024-01-04</th>\n",
       "      <td>-1.087202</td>\n",
       "      <td>0.055295</td>\n",
       "      <td>3.490454</td>\n",
       "      <td>-2.192428</td>\n",
       "    </tr>\n",
       "  </tbody>\n",
       "</table>\n",
       "</div>"
      ],
      "text/plain": [
       "              Slot 1    Slot 2    Slot 3    Slot 4\n",
       "2024-01-03 -1.330379 -1.319802  0.261632  0.374631\n",
       "2024-01-02  0.602718  1.319289  0.541694 -0.515991\n",
       "2024-01-05  1.338594  0.417339  0.747849  1.091813\n",
       "2024-01-04 -1.087202  0.055295  3.490454 -2.192428"
      ]
     },
     "execution_count": 30,
     "metadata": {},
     "output_type": "execute_result"
    }
   ],
   "source": [
    "# Task : sort on slot 3 and slot 4\n",
    "sd = sd.sort_values(by=['Slot 3', 'Slot 4'], ascending=[True, True])\n",
    "sd"
   ]
  },
  {
   "cell_type": "code",
   "execution_count": 31,
   "id": "04867190-7eb4-4806-8c8d-3f62de6798cb",
   "metadata": {},
   "outputs": [
    {
     "data": {
      "text/plain": [
       "2024-01-03   -1.330379\n",
       "2024-01-02    0.602718\n",
       "2024-01-05    1.338594\n",
       "2024-01-04   -1.087202\n",
       "Name: Slot 1, dtype: float64"
      ]
     },
     "execution_count": 31,
     "metadata": {},
     "output_type": "execute_result"
    }
   ],
   "source": [
    "# assigning values of column A dataframe to variable dfa\n",
    "dfa=sd[\"Slot 1\"]\n",
    "dfa"
   ]
  },
  {
   "cell_type": "code",
   "execution_count": 32,
   "id": "e330efbe-0497-404d-81a5-cb6d0a47f3aa",
   "metadata": {},
   "outputs": [
    {
     "data": {
      "text/html": [
       "<div>\n",
       "<style scoped>\n",
       "    .dataframe tbody tr th:only-of-type {\n",
       "        vertical-align: middle;\n",
       "    }\n",
       "\n",
       "    .dataframe tbody tr th {\n",
       "        vertical-align: top;\n",
       "    }\n",
       "\n",
       "    .dataframe thead th {\n",
       "        text-align: right;\n",
       "    }\n",
       "</style>\n",
       "<table border=\"1\" class=\"dataframe\">\n",
       "  <thead>\n",
       "    <tr style=\"text-align: right;\">\n",
       "      <th></th>\n",
       "      <th>Slot 1</th>\n",
       "      <th>Slot 2</th>\n",
       "      <th>Slot 3</th>\n",
       "      <th>Slot 4</th>\n",
       "    </tr>\n",
       "  </thead>\n",
       "  <tbody>\n",
       "    <tr>\n",
       "      <th>2024-01-03</th>\n",
       "      <td>-1.330379</td>\n",
       "      <td>-1.319802</td>\n",
       "      <td>0.261632</td>\n",
       "      <td>0.374631</td>\n",
       "    </tr>\n",
       "    <tr>\n",
       "      <th>2024-01-02</th>\n",
       "      <td>0.602718</td>\n",
       "      <td>1.319289</td>\n",
       "      <td>0.541694</td>\n",
       "      <td>-0.515991</td>\n",
       "    </tr>\n",
       "    <tr>\n",
       "      <th>2024-01-05</th>\n",
       "      <td>1.338594</td>\n",
       "      <td>0.417339</td>\n",
       "      <td>0.747849</td>\n",
       "      <td>1.091813</td>\n",
       "    </tr>\n",
       "  </tbody>\n",
       "</table>\n",
       "</div>"
      ],
      "text/plain": [
       "              Slot 1    Slot 2    Slot 3    Slot 4\n",
       "2024-01-03 -1.330379 -1.319802  0.261632  0.374631\n",
       "2024-01-02  0.602718  1.319289  0.541694 -0.515991\n",
       "2024-01-05  1.338594  0.417339  0.747849  1.091813"
      ]
     },
     "execution_count": 32,
     "metadata": {},
     "output_type": "execute_result"
    }
   ],
   "source": [
    "# select rows 0 to 2\n",
    "sd[0:3]"
   ]
  },
  {
   "cell_type": "code",
   "execution_count": 33,
   "id": "289418d6-87b9-4ba9-93d6-6459d1868ca7",
   "metadata": {},
   "outputs": [
    {
     "data": {
      "text/html": [
       "<div>\n",
       "<style scoped>\n",
       "    .dataframe tbody tr th:only-of-type {\n",
       "        vertical-align: middle;\n",
       "    }\n",
       "\n",
       "    .dataframe tbody tr th {\n",
       "        vertical-align: top;\n",
       "    }\n",
       "\n",
       "    .dataframe thead th {\n",
       "        text-align: right;\n",
       "    }\n",
       "</style>\n",
       "<table border=\"1\" class=\"dataframe\">\n",
       "  <thead>\n",
       "    <tr style=\"text-align: right;\">\n",
       "      <th></th>\n",
       "      <th>Slot 1</th>\n",
       "      <th>Slot 2</th>\n",
       "    </tr>\n",
       "  </thead>\n",
       "  <tbody>\n",
       "    <tr>\n",
       "      <th>2024-01-03</th>\n",
       "      <td>-1.330379</td>\n",
       "      <td>-1.319802</td>\n",
       "    </tr>\n",
       "    <tr>\n",
       "      <th>2024-01-02</th>\n",
       "      <td>0.602718</td>\n",
       "      <td>1.319289</td>\n",
       "    </tr>\n",
       "    <tr>\n",
       "      <th>2024-01-05</th>\n",
       "      <td>1.338594</td>\n",
       "      <td>0.417339</td>\n",
       "    </tr>\n",
       "    <tr>\n",
       "      <th>2024-01-04</th>\n",
       "      <td>-1.087202</td>\n",
       "      <td>0.055295</td>\n",
       "    </tr>\n",
       "  </tbody>\n",
       "</table>\n",
       "</div>"
      ],
      "text/plain": [
       "              Slot 1    Slot 2\n",
       "2024-01-03 -1.330379 -1.319802\n",
       "2024-01-02  0.602718  1.319289\n",
       "2024-01-05  1.338594  0.417339\n",
       "2024-01-04 -1.087202  0.055295"
      ]
     },
     "execution_count": 33,
     "metadata": {},
     "output_type": "execute_result"
    }
   ],
   "source": [
    "#select columns a & b\n",
    "sd.loc[ : ,['Slot 1','Slot 2']]"
   ]
  },
  {
   "cell_type": "code",
   "execution_count": 34,
   "id": "a7da7bce-4fd6-47fa-8aee-d1581fffae67",
   "metadata": {},
   "outputs": [
    {
     "data": {
      "text/plain": [
       "-1.0872015071013434"
      ]
     },
     "execution_count": 34,
     "metadata": {},
     "output_type": "execute_result"
    }
   ],
   "source": [
    "sd.at[dates[2],\"Slot 1\"]   # access only single element"
   ]
  },
  {
   "cell_type": "code",
   "execution_count": 35,
   "id": "105dfe46-4cd6-49b6-b3eb-9d13c50ecd1d",
   "metadata": {},
   "outputs": [
    {
     "data": {
      "text/html": [
       "<div>\n",
       "<style scoped>\n",
       "    .dataframe tbody tr th:only-of-type {\n",
       "        vertical-align: middle;\n",
       "    }\n",
       "\n",
       "    .dataframe tbody tr th {\n",
       "        vertical-align: top;\n",
       "    }\n",
       "\n",
       "    .dataframe thead th {\n",
       "        text-align: right;\n",
       "    }\n",
       "</style>\n",
       "<table border=\"1\" class=\"dataframe\">\n",
       "  <thead>\n",
       "    <tr style=\"text-align: right;\">\n",
       "      <th></th>\n",
       "      <th>Slot 1</th>\n",
       "      <th>Slot 2</th>\n",
       "      <th>Slot 3</th>\n",
       "      <th>Slot 4</th>\n",
       "    </tr>\n",
       "  </thead>\n",
       "  <tbody>\n",
       "    <tr>\n",
       "      <th>2024-01-02</th>\n",
       "      <td>0.602718</td>\n",
       "      <td>1.319289</td>\n",
       "      <td>0.541694</td>\n",
       "      <td>-0.515991</td>\n",
       "    </tr>\n",
       "    <tr>\n",
       "      <th>2024-01-05</th>\n",
       "      <td>1.338594</td>\n",
       "      <td>0.417339</td>\n",
       "      <td>0.747849</td>\n",
       "      <td>1.091813</td>\n",
       "    </tr>\n",
       "  </tbody>\n",
       "</table>\n",
       "</div>"
      ],
      "text/plain": [
       "              Slot 1    Slot 2    Slot 3    Slot 4\n",
       "2024-01-02  0.602718  1.319289  0.541694 -0.515991\n",
       "2024-01-05  1.338594  0.417339  0.747849  1.091813"
      ]
     },
     "execution_count": 35,
     "metadata": {},
     "output_type": "execute_result"
    }
   ],
   "source": [
    "#selecting specfic row from a column specifying given condition\n",
    "filteredsd=sd[sd['Slot 1']> -1]\n",
    "filteredsd"
   ]
  },
  {
   "cell_type": "code",
   "execution_count": 36,
   "id": "ba692b6b-fd19-4c6e-a1e7-a9a9e230bd65",
   "metadata": {},
   "outputs": [
    {
     "data": {
      "text/html": [
       "<div>\n",
       "<style scoped>\n",
       "    .dataframe tbody tr th:only-of-type {\n",
       "        vertical-align: middle;\n",
       "    }\n",
       "\n",
       "    .dataframe tbody tr th {\n",
       "        vertical-align: top;\n",
       "    }\n",
       "\n",
       "    .dataframe thead th {\n",
       "        text-align: right;\n",
       "    }\n",
       "</style>\n",
       "<table border=\"1\" class=\"dataframe\">\n",
       "  <thead>\n",
       "    <tr style=\"text-align: right;\">\n",
       "      <th></th>\n",
       "      <th>Slot 1</th>\n",
       "      <th>Slot 2</th>\n",
       "      <th>Slot 3</th>\n",
       "      <th>Slot 4</th>\n",
       "      <th>E</th>\n",
       "    </tr>\n",
       "  </thead>\n",
       "  <tbody>\n",
       "    <tr>\n",
       "      <th>2024-01-03</th>\n",
       "      <td>-1.330379</td>\n",
       "      <td>-1.319802</td>\n",
       "      <td>0.261632</td>\n",
       "      <td>0.374631</td>\n",
       "      <td>1</td>\n",
       "    </tr>\n",
       "    <tr>\n",
       "      <th>2024-01-02</th>\n",
       "      <td>0.602718</td>\n",
       "      <td>1.319289</td>\n",
       "      <td>0.541694</td>\n",
       "      <td>-0.515991</td>\n",
       "      <td>2</td>\n",
       "    </tr>\n",
       "    <tr>\n",
       "      <th>2024-01-05</th>\n",
       "      <td>1.338594</td>\n",
       "      <td>0.417339</td>\n",
       "      <td>0.747849</td>\n",
       "      <td>1.091813</td>\n",
       "      <td>3</td>\n",
       "    </tr>\n",
       "    <tr>\n",
       "      <th>2024-01-04</th>\n",
       "      <td>-1.087202</td>\n",
       "      <td>0.055295</td>\n",
       "      <td>3.490454</td>\n",
       "      <td>-2.192428</td>\n",
       "      <td>4</td>\n",
       "    </tr>\n",
       "  </tbody>\n",
       "</table>\n",
       "</div>"
      ],
      "text/plain": [
       "              Slot 1    Slot 2    Slot 3    Slot 4  E\n",
       "2024-01-03 -1.330379 -1.319802  0.261632  0.374631  1\n",
       "2024-01-02  0.602718  1.319289  0.541694 -0.515991  2\n",
       "2024-01-05  1.338594  0.417339  0.747849  1.091813  3\n",
       "2024-01-04 -1.087202  0.055295  3.490454 -2.192428  4"
      ]
     },
     "execution_count": 36,
     "metadata": {},
     "output_type": "execute_result"
    }
   ],
   "source": [
    "sd[\"E\"]=[1,2,3,4]\n",
    "sd"
   ]
  },
  {
   "cell_type": "markdown",
   "id": "83d1ae8d-ad77-4b60-8713-749bf735febf",
   "metadata": {},
   "source": [
    "## Missing Data"
   ]
  },
  {
   "cell_type": "code",
   "execution_count": 38,
   "id": "c9b18a58-d5a3-46dc-8543-38b0d32c8b0c",
   "metadata": {},
   "outputs": [
    {
     "data": {
      "text/html": [
       "<div>\n",
       "<style scoped>\n",
       "    .dataframe tbody tr th:only-of-type {\n",
       "        vertical-align: middle;\n",
       "    }\n",
       "\n",
       "    .dataframe tbody tr th {\n",
       "        vertical-align: top;\n",
       "    }\n",
       "\n",
       "    .dataframe thead th {\n",
       "        text-align: right;\n",
       "    }\n",
       "</style>\n",
       "<table border=\"1\" class=\"dataframe\">\n",
       "  <thead>\n",
       "    <tr style=\"text-align: right;\">\n",
       "      <th></th>\n",
       "      <th>Slot 1</th>\n",
       "      <th>Slot 2</th>\n",
       "      <th>Slot 3</th>\n",
       "      <th>Slot 4</th>\n",
       "      <th>E</th>\n",
       "      <th>f</th>\n",
       "    </tr>\n",
       "  </thead>\n",
       "  <tbody>\n",
       "    <tr>\n",
       "      <th>2024-01-03</th>\n",
       "      <td>-1.330379</td>\n",
       "      <td>-1.319802</td>\n",
       "      <td>0.261632</td>\n",
       "      <td>0.374631</td>\n",
       "      <td>1</td>\n",
       "      <td>9.0</td>\n",
       "    </tr>\n",
       "    <tr>\n",
       "      <th>2024-01-02</th>\n",
       "      <td>0.602718</td>\n",
       "      <td>1.319289</td>\n",
       "      <td>0.541694</td>\n",
       "      <td>-0.515991</td>\n",
       "      <td>2</td>\n",
       "      <td>NaN</td>\n",
       "    </tr>\n",
       "    <tr>\n",
       "      <th>2024-01-05</th>\n",
       "      <td>1.338594</td>\n",
       "      <td>0.417339</td>\n",
       "      <td>0.747849</td>\n",
       "      <td>1.091813</td>\n",
       "      <td>3</td>\n",
       "      <td>NaN</td>\n",
       "    </tr>\n",
       "    <tr>\n",
       "      <th>2024-01-04</th>\n",
       "      <td>-1.087202</td>\n",
       "      <td>0.055295</td>\n",
       "      <td>3.490454</td>\n",
       "      <td>-2.192428</td>\n",
       "      <td>4</td>\n",
       "      <td>1.0</td>\n",
       "    </tr>\n",
       "  </tbody>\n",
       "</table>\n",
       "</div>"
      ],
      "text/plain": [
       "              Slot 1    Slot 2    Slot 3    Slot 4  E    f\n",
       "2024-01-03 -1.330379 -1.319802  0.261632  0.374631  1  9.0\n",
       "2024-01-02  0.602718  1.319289  0.541694 -0.515991  2  NaN\n",
       "2024-01-05  1.338594  0.417339  0.747849  1.091813  3  NaN\n",
       "2024-01-04 -1.087202  0.055295  3.490454 -2.192428  4  1.0"
      ]
     },
     "execution_count": 38,
     "metadata": {},
     "output_type": "execute_result"
    }
   ],
   "source": [
    "sd[\"f\"]=[9,np.nan,np.nan,1]\n",
    "sd"
   ]
  },
  {
   "cell_type": "code",
   "execution_count": 39,
   "id": "b7743040-afb8-46e2-9e4f-db2e63741dbe",
   "metadata": {},
   "outputs": [
    {
     "data": {
      "text/html": [
       "<div>\n",
       "<style scoped>\n",
       "    .dataframe tbody tr th:only-of-type {\n",
       "        vertical-align: middle;\n",
       "    }\n",
       "\n",
       "    .dataframe tbody tr th {\n",
       "        vertical-align: top;\n",
       "    }\n",
       "\n",
       "    .dataframe thead th {\n",
       "        text-align: right;\n",
       "    }\n",
       "</style>\n",
       "<table border=\"1\" class=\"dataframe\">\n",
       "  <thead>\n",
       "    <tr style=\"text-align: right;\">\n",
       "      <th></th>\n",
       "      <th>Slot 1</th>\n",
       "      <th>Slot 2</th>\n",
       "      <th>Slot 3</th>\n",
       "      <th>Slot 4</th>\n",
       "      <th>E</th>\n",
       "      <th>f</th>\n",
       "    </tr>\n",
       "  </thead>\n",
       "  <tbody>\n",
       "    <tr>\n",
       "      <th>2024-01-03</th>\n",
       "      <td>-1.330379</td>\n",
       "      <td>-1.319802</td>\n",
       "      <td>0.261632</td>\n",
       "      <td>0.374631</td>\n",
       "      <td>1</td>\n",
       "      <td>9.0</td>\n",
       "    </tr>\n",
       "    <tr>\n",
       "      <th>2024-01-04</th>\n",
       "      <td>-1.087202</td>\n",
       "      <td>0.055295</td>\n",
       "      <td>3.490454</td>\n",
       "      <td>-2.192428</td>\n",
       "      <td>4</td>\n",
       "      <td>1.0</td>\n",
       "    </tr>\n",
       "  </tbody>\n",
       "</table>\n",
       "</div>"
      ],
      "text/plain": [
       "              Slot 1    Slot 2    Slot 3    Slot 4  E    f\n",
       "2024-01-03 -1.330379 -1.319802  0.261632  0.374631  1  9.0\n",
       "2024-01-04 -1.087202  0.055295  3.490454 -2.192428  4  1.0"
      ]
     },
     "execution_count": 39,
     "metadata": {},
     "output_type": "execute_result"
    }
   ],
   "source": [
    "#drp all rows having nan\n",
    "sd.dropna(how=\"any\")"
   ]
  },
  {
   "cell_type": "code",
   "execution_count": 40,
   "id": "8d85dc71-fae3-440a-975d-bf83760d7f5d",
   "metadata": {},
   "outputs": [
    {
     "data": {
      "text/html": [
       "<div>\n",
       "<style scoped>\n",
       "    .dataframe tbody tr th:only-of-type {\n",
       "        vertical-align: middle;\n",
       "    }\n",
       "\n",
       "    .dataframe tbody tr th {\n",
       "        vertical-align: top;\n",
       "    }\n",
       "\n",
       "    .dataframe thead th {\n",
       "        text-align: right;\n",
       "    }\n",
       "</style>\n",
       "<table border=\"1\" class=\"dataframe\">\n",
       "  <thead>\n",
       "    <tr style=\"text-align: right;\">\n",
       "      <th></th>\n",
       "      <th>Slot 1</th>\n",
       "      <th>Slot 2</th>\n",
       "      <th>Slot 3</th>\n",
       "      <th>Slot 4</th>\n",
       "      <th>E</th>\n",
       "      <th>f</th>\n",
       "    </tr>\n",
       "  </thead>\n",
       "  <tbody>\n",
       "    <tr>\n",
       "      <th>2024-01-03</th>\n",
       "      <td>-1.330379</td>\n",
       "      <td>-1.319802</td>\n",
       "      <td>0.261632</td>\n",
       "      <td>0.374631</td>\n",
       "      <td>1</td>\n",
       "      <td>9.0</td>\n",
       "    </tr>\n",
       "    <tr>\n",
       "      <th>2024-01-04</th>\n",
       "      <td>-1.087202</td>\n",
       "      <td>0.055295</td>\n",
       "      <td>3.490454</td>\n",
       "      <td>-2.192428</td>\n",
       "      <td>4</td>\n",
       "      <td>1.0</td>\n",
       "    </tr>\n",
       "  </tbody>\n",
       "</table>\n",
       "</div>"
      ],
      "text/plain": [
       "              Slot 1    Slot 2    Slot 3    Slot 4  E    f\n",
       "2024-01-03 -1.330379 -1.319802  0.261632  0.374631  1  9.0\n",
       "2024-01-04 -1.087202  0.055295  3.490454 -2.192428  4  1.0"
      ]
     },
     "execution_count": 40,
     "metadata": {},
     "output_type": "execute_result"
    }
   ],
   "source": [
    "# drop all nan rows with specific column having nan\n",
    "sd.dropna(subset=['f'])"
   ]
  },
  {
   "cell_type": "code",
   "execution_count": 41,
   "id": "4bc1e703-5bce-4ab9-bba2-92d15925b5e5",
   "metadata": {},
   "outputs": [
    {
     "data": {
      "text/html": [
       "<div>\n",
       "<style scoped>\n",
       "    .dataframe tbody tr th:only-of-type {\n",
       "        vertical-align: middle;\n",
       "    }\n",
       "\n",
       "    .dataframe tbody tr th {\n",
       "        vertical-align: top;\n",
       "    }\n",
       "\n",
       "    .dataframe thead th {\n",
       "        text-align: right;\n",
       "    }\n",
       "</style>\n",
       "<table border=\"1\" class=\"dataframe\">\n",
       "  <thead>\n",
       "    <tr style=\"text-align: right;\">\n",
       "      <th></th>\n",
       "      <th>Slot 1</th>\n",
       "      <th>Slot 2</th>\n",
       "      <th>Slot 3</th>\n",
       "      <th>Slot 4</th>\n",
       "      <th>E</th>\n",
       "      <th>f</th>\n",
       "    </tr>\n",
       "  </thead>\n",
       "  <tbody>\n",
       "    <tr>\n",
       "      <th>2024-01-03</th>\n",
       "      <td>-1</td>\n",
       "      <td>-1</td>\n",
       "      <td>0</td>\n",
       "      <td>0</td>\n",
       "      <td>1</td>\n",
       "      <td>9</td>\n",
       "    </tr>\n",
       "    <tr>\n",
       "      <th>2024-01-02</th>\n",
       "      <td>0</td>\n",
       "      <td>1</td>\n",
       "      <td>0</td>\n",
       "      <td>0</td>\n",
       "      <td>2</td>\n",
       "      <td>5</td>\n",
       "    </tr>\n",
       "    <tr>\n",
       "      <th>2024-01-05</th>\n",
       "      <td>1</td>\n",
       "      <td>0</td>\n",
       "      <td>0</td>\n",
       "      <td>1</td>\n",
       "      <td>3</td>\n",
       "      <td>5</td>\n",
       "    </tr>\n",
       "    <tr>\n",
       "      <th>2024-01-04</th>\n",
       "      <td>-1</td>\n",
       "      <td>0</td>\n",
       "      <td>3</td>\n",
       "      <td>-2</td>\n",
       "      <td>4</td>\n",
       "      <td>1</td>\n",
       "    </tr>\n",
       "  </tbody>\n",
       "</table>\n",
       "</div>"
      ],
      "text/plain": [
       "            Slot 1  Slot 2  Slot 3  Slot 4  E  f\n",
       "2024-01-03      -1      -1       0       0  1  9\n",
       "2024-01-02       0       1       0       0  2  5\n",
       "2024-01-05       1       0       0       1  3  5\n",
       "2024-01-04      -1       0       3      -2  4  1"
      ]
     },
     "execution_count": 41,
     "metadata": {},
     "output_type": "execute_result"
    }
   ],
   "source": [
    "#fill 5 in placee of na\n",
    "sd.fillna(5).astype(int)"
   ]
  },
  {
   "cell_type": "code",
   "execution_count": 42,
   "id": "cb3542a1-3806-4946-bfa6-53f39b1f363d",
   "metadata": {},
   "outputs": [
    {
     "data": {
      "text/html": [
       "<div>\n",
       "<style scoped>\n",
       "    .dataframe tbody tr th:only-of-type {\n",
       "        vertical-align: middle;\n",
       "    }\n",
       "\n",
       "    .dataframe tbody tr th {\n",
       "        vertical-align: top;\n",
       "    }\n",
       "\n",
       "    .dataframe thead th {\n",
       "        text-align: right;\n",
       "    }\n",
       "</style>\n",
       "<table border=\"1\" class=\"dataframe\">\n",
       "  <thead>\n",
       "    <tr style=\"text-align: right;\">\n",
       "      <th></th>\n",
       "      <th>Slot 1</th>\n",
       "      <th>Slot 2</th>\n",
       "      <th>Slot 3</th>\n",
       "      <th>Slot 4</th>\n",
       "      <th>E</th>\n",
       "      <th>f</th>\n",
       "    </tr>\n",
       "  </thead>\n",
       "  <tbody>\n",
       "    <tr>\n",
       "      <th>2024-01-03</th>\n",
       "      <td>-1.330379</td>\n",
       "      <td>-1.319802</td>\n",
       "      <td>0.261632</td>\n",
       "      <td>0.374631</td>\n",
       "      <td>1</td>\n",
       "      <td>9.000000</td>\n",
       "    </tr>\n",
       "    <tr>\n",
       "      <th>2024-01-02</th>\n",
       "      <td>0.602718</td>\n",
       "      <td>1.319289</td>\n",
       "      <td>0.541694</td>\n",
       "      <td>-0.515991</td>\n",
       "      <td>2</td>\n",
       "      <td>-0.119067</td>\n",
       "    </tr>\n",
       "    <tr>\n",
       "      <th>2024-01-05</th>\n",
       "      <td>1.338594</td>\n",
       "      <td>0.417339</td>\n",
       "      <td>0.747849</td>\n",
       "      <td>1.091813</td>\n",
       "      <td>3</td>\n",
       "      <td>-0.119067</td>\n",
       "    </tr>\n",
       "    <tr>\n",
       "      <th>2024-01-04</th>\n",
       "      <td>-1.087202</td>\n",
       "      <td>0.055295</td>\n",
       "      <td>3.490454</td>\n",
       "      <td>-2.192428</td>\n",
       "      <td>4</td>\n",
       "      <td>1.000000</td>\n",
       "    </tr>\n",
       "  </tbody>\n",
       "</table>\n",
       "</div>"
      ],
      "text/plain": [
       "              Slot 1    Slot 2    Slot 3    Slot 4  E         f\n",
       "2024-01-03 -1.330379 -1.319802  0.261632  0.374631  1  9.000000\n",
       "2024-01-02  0.602718  1.319289  0.541694 -0.515991  2 -0.119067\n",
       "2024-01-05  1.338594  0.417339  0.747849  1.091813  3 -0.119067\n",
       "2024-01-04 -1.087202  0.055295  3.490454 -2.192428  4  1.000000"
      ]
     },
     "execution_count": 42,
     "metadata": {},
     "output_type": "execute_result"
    }
   ],
   "source": [
    "# replace nan with mean value of that column\n",
    "sd.fillna(sd['Slot 1'].mean())"
   ]
  },
  {
   "cell_type": "code",
   "execution_count": 43,
   "id": "2b35bc83-79cb-489f-9cf4-65f2210ba2a1",
   "metadata": {},
   "outputs": [
    {
     "data": {
      "text/html": [
       "<div>\n",
       "<style scoped>\n",
       "    .dataframe tbody tr th:only-of-type {\n",
       "        vertical-align: middle;\n",
       "    }\n",
       "\n",
       "    .dataframe tbody tr th {\n",
       "        vertical-align: top;\n",
       "    }\n",
       "\n",
       "    .dataframe thead th {\n",
       "        text-align: right;\n",
       "    }\n",
       "</style>\n",
       "<table border=\"1\" class=\"dataframe\">\n",
       "  <thead>\n",
       "    <tr style=\"text-align: right;\">\n",
       "      <th></th>\n",
       "      <th>Slot 1</th>\n",
       "      <th>Slot 2</th>\n",
       "      <th>Slot 3</th>\n",
       "      <th>Slot 4</th>\n",
       "      <th>E</th>\n",
       "      <th>f</th>\n",
       "    </tr>\n",
       "  </thead>\n",
       "  <tbody>\n",
       "    <tr>\n",
       "      <th>2024-01-03</th>\n",
       "      <td>False</td>\n",
       "      <td>False</td>\n",
       "      <td>False</td>\n",
       "      <td>False</td>\n",
       "      <td>False</td>\n",
       "      <td>False</td>\n",
       "    </tr>\n",
       "    <tr>\n",
       "      <th>2024-01-02</th>\n",
       "      <td>False</td>\n",
       "      <td>False</td>\n",
       "      <td>False</td>\n",
       "      <td>False</td>\n",
       "      <td>False</td>\n",
       "      <td>True</td>\n",
       "    </tr>\n",
       "    <tr>\n",
       "      <th>2024-01-05</th>\n",
       "      <td>False</td>\n",
       "      <td>False</td>\n",
       "      <td>False</td>\n",
       "      <td>False</td>\n",
       "      <td>False</td>\n",
       "      <td>True</td>\n",
       "    </tr>\n",
       "    <tr>\n",
       "      <th>2024-01-04</th>\n",
       "      <td>False</td>\n",
       "      <td>False</td>\n",
       "      <td>False</td>\n",
       "      <td>False</td>\n",
       "      <td>False</td>\n",
       "      <td>False</td>\n",
       "    </tr>\n",
       "  </tbody>\n",
       "</table>\n",
       "</div>"
      ],
      "text/plain": [
       "            Slot 1  Slot 2  Slot 3  Slot 4      E      f\n",
       "2024-01-03   False   False   False   False  False  False\n",
       "2024-01-02   False   False   False   False  False   True\n",
       "2024-01-05   False   False   False   False  False   True\n",
       "2024-01-04   False   False   False   False  False  False"
      ]
     },
     "execution_count": 43,
     "metadata": {},
     "output_type": "execute_result"
    }
   ],
   "source": [
    "#position having na value get replced by true other with false\n",
    "sd.isna()"
   ]
  },
  {
   "cell_type": "code",
   "execution_count": 44,
   "id": "a61a9da6-c5f6-4380-b6b7-a9f5a1d1c8db",
   "metadata": {},
   "outputs": [
    {
     "data": {
      "text/plain": [
       "Slot 1   -0.119067\n",
       "Slot 2    0.118030\n",
       "Slot 3    1.260407\n",
       "Slot 4   -0.310494\n",
       "E         2.500000\n",
       "f         5.000000\n",
       "dtype: float64"
      ]
     },
     "execution_count": 44,
     "metadata": {},
     "output_type": "execute_result"
    }
   ],
   "source": [
    "sd.mean()"
   ]
  },
  {
   "cell_type": "code",
   "execution_count": 45,
   "id": "446bab3c-dd7c-4050-bf3d-bbbca52d0da7",
   "metadata": {},
   "outputs": [
    {
     "data": {
      "text/plain": [
       "-0.11906720819043631"
      ]
     },
     "execution_count": 45,
     "metadata": {},
     "output_type": "execute_result"
    }
   ],
   "source": [
    "sd['Slot 1'].mean() # mean of a specific columns"
   ]
  },
  {
   "cell_type": "code",
   "execution_count": 46,
   "id": "5bb2cfa4-fce9-43bf-a588-2f2e843ad259",
   "metadata": {},
   "outputs": [
    {
     "data": {
      "text/plain": [
       "Slot 1   -0.119067\n",
       "Slot 2    0.118030\n",
       "Slot 3    1.260407\n",
       "Slot 4   -0.310494\n",
       "E         2.500000\n",
       "f         5.000000\n",
       "dtype: float64"
      ]
     },
     "execution_count": 46,
     "metadata": {},
     "output_type": "execute_result"
    }
   ],
   "source": [
    "sd.mean(axis=0)"
   ]
  },
  {
   "cell_type": "code",
   "execution_count": 47,
   "id": "5829060b-046c-453a-b707-3e7d608e6bd1",
   "metadata": {},
   "outputs": [
    {
     "data": {
      "text/html": [
       "<div>\n",
       "<style scoped>\n",
       "    .dataframe tbody tr th:only-of-type {\n",
       "        vertical-align: middle;\n",
       "    }\n",
       "\n",
       "    .dataframe tbody tr th {\n",
       "        vertical-align: top;\n",
       "    }\n",
       "\n",
       "    .dataframe thead th {\n",
       "        text-align: right;\n",
       "    }\n",
       "</style>\n",
       "<table border=\"1\" class=\"dataframe\">\n",
       "  <thead>\n",
       "    <tr style=\"text-align: right;\">\n",
       "      <th></th>\n",
       "      <th>Slot 1</th>\n",
       "      <th>Slot 2</th>\n",
       "      <th>Slot 3</th>\n",
       "      <th>Slot 4</th>\n",
       "      <th>E</th>\n",
       "      <th>f</th>\n",
       "    </tr>\n",
       "  </thead>\n",
       "  <tbody>\n",
       "    <tr>\n",
       "      <th>2024-01-03</th>\n",
       "      <td>False</td>\n",
       "      <td>False</td>\n",
       "      <td>False</td>\n",
       "      <td>False</td>\n",
       "      <td>False</td>\n",
       "      <td>False</td>\n",
       "    </tr>\n",
       "    <tr>\n",
       "      <th>2024-01-02</th>\n",
       "      <td>False</td>\n",
       "      <td>False</td>\n",
       "      <td>False</td>\n",
       "      <td>False</td>\n",
       "      <td>False</td>\n",
       "      <td>True</td>\n",
       "    </tr>\n",
       "    <tr>\n",
       "      <th>2024-01-05</th>\n",
       "      <td>False</td>\n",
       "      <td>False</td>\n",
       "      <td>False</td>\n",
       "      <td>False</td>\n",
       "      <td>False</td>\n",
       "      <td>True</td>\n",
       "    </tr>\n",
       "    <tr>\n",
       "      <th>2024-01-04</th>\n",
       "      <td>False</td>\n",
       "      <td>False</td>\n",
       "      <td>False</td>\n",
       "      <td>False</td>\n",
       "      <td>False</td>\n",
       "      <td>False</td>\n",
       "    </tr>\n",
       "  </tbody>\n",
       "</table>\n",
       "</div>"
      ],
      "text/plain": [
       "            Slot 1  Slot 2  Slot 3  Slot 4      E      f\n",
       "2024-01-03   False   False   False   False  False  False\n",
       "2024-01-02   False   False   False   False  False   True\n",
       "2024-01-05   False   False   False   False  False   True\n",
       "2024-01-04   False   False   False   False  False  False"
      ]
     },
     "execution_count": 47,
     "metadata": {},
     "output_type": "execute_result"
    }
   ],
   "source": [
    "# to check weather there is nan value or not\n",
    "sd.isna()"
   ]
  },
  {
   "cell_type": "markdown",
   "id": "29032d92-c8cd-42d1-9980-8d70f5ba27c7",
   "metadata": {},
   "source": [
    "## Operation"
   ]
  },
  {
   "cell_type": "code",
   "execution_count": 49,
   "id": "9b6ebdcb-b05a-4643-9cad-3b29875dd036",
   "metadata": {},
   "outputs": [
    {
     "data": {
      "text/plain": [
       "2024-01-03    1.331014\n",
       "2024-01-02    0.789542\n",
       "2024-01-05    1.319119\n",
       "2024-01-04    0.877687\n",
       "dtype: float64"
      ]
     },
     "execution_count": 49,
     "metadata": {},
     "output_type": "execute_result"
    }
   ],
   "source": [
    "sd.mean(axis=1)"
   ]
  },
  {
   "cell_type": "code",
   "execution_count": 50,
   "id": "5cccbda3-48f5-48bd-916e-765a1ad7a51c",
   "metadata": {},
   "outputs": [
    {
     "data": {
      "text/plain": [
       "Slot 1   -0.119067\n",
       "Slot 2    0.118030\n",
       "Slot 3    1.260407\n",
       "Slot 4   -0.310494\n",
       "E         2.500000\n",
       "f         5.000000\n",
       "dtype: float64"
      ]
     },
     "execution_count": 50,
     "metadata": {},
     "output_type": "execute_result"
    }
   ],
   "source": [
    "sd.mean(axis=0)"
   ]
  },
  {
   "cell_type": "code",
   "execution_count": 51,
   "id": "837f6457-c899-4933-ad4f-b3cdbf606a83",
   "metadata": {},
   "outputs": [
    {
     "data": {
      "text/plain": [
       "Slot 1   -0.119067\n",
       "Slot 2    0.118030\n",
       "Slot 3    1.260407\n",
       "Slot 4   -0.310494\n",
       "E         2.500000\n",
       "f         5.000000\n",
       "dtype: float64"
      ]
     },
     "execution_count": 51,
     "metadata": {},
     "output_type": "execute_result"
    }
   ],
   "source": [
    "sd.mean()"
   ]
  },
  {
   "cell_type": "markdown",
   "id": "027e1ab8-4e60-4d70-b318-08a44fa56a68",
   "metadata": {},
   "source": [
    "## Merge\r\n",
    "Concat\r\n",
    "pandas provides various facilities for easily combining together Series and DataFrame objects with various kinds of set logic for the indexes and relational algebra functionality in the case of join / merge-type operations."
   ]
  },
  {
   "cell_type": "code",
   "execution_count": 53,
   "id": "f9f91e99-406c-46ca-bfdd-2a7d09d00e22",
   "metadata": {},
   "outputs": [
    {
     "data": {
      "text/html": [
       "<div>\n",
       "<style scoped>\n",
       "    .dataframe tbody tr th:only-of-type {\n",
       "        vertical-align: middle;\n",
       "    }\n",
       "\n",
       "    .dataframe tbody tr th {\n",
       "        vertical-align: top;\n",
       "    }\n",
       "\n",
       "    .dataframe thead th {\n",
       "        text-align: right;\n",
       "    }\n",
       "</style>\n",
       "<table border=\"1\" class=\"dataframe\">\n",
       "  <thead>\n",
       "    <tr style=\"text-align: right;\">\n",
       "      <th></th>\n",
       "      <th>Slot 1</th>\n",
       "      <th>Slot 2</th>\n",
       "      <th>Slot 3</th>\n",
       "      <th>Slot 4</th>\n",
       "      <th>E</th>\n",
       "      <th>f</th>\n",
       "    </tr>\n",
       "  </thead>\n",
       "  <tbody>\n",
       "    <tr>\n",
       "      <th>2024-01-03</th>\n",
       "      <td>-1.330379</td>\n",
       "      <td>-1.319802</td>\n",
       "      <td>0.261632</td>\n",
       "      <td>0.374631</td>\n",
       "      <td>1</td>\n",
       "      <td>9.0</td>\n",
       "    </tr>\n",
       "    <tr>\n",
       "      <th>2024-01-02</th>\n",
       "      <td>0.602718</td>\n",
       "      <td>1.319289</td>\n",
       "      <td>0.541694</td>\n",
       "      <td>-0.515991</td>\n",
       "      <td>2</td>\n",
       "      <td>NaN</td>\n",
       "    </tr>\n",
       "    <tr>\n",
       "      <th>2024-01-05</th>\n",
       "      <td>1.338594</td>\n",
       "      <td>0.417339</td>\n",
       "      <td>0.747849</td>\n",
       "      <td>1.091813</td>\n",
       "      <td>3</td>\n",
       "      <td>NaN</td>\n",
       "    </tr>\n",
       "    <tr>\n",
       "      <th>2024-01-04</th>\n",
       "      <td>-1.087202</td>\n",
       "      <td>0.055295</td>\n",
       "      <td>3.490454</td>\n",
       "      <td>-2.192428</td>\n",
       "      <td>4</td>\n",
       "      <td>1.0</td>\n",
       "    </tr>\n",
       "  </tbody>\n",
       "</table>\n",
       "</div>"
      ],
      "text/plain": [
       "              Slot 1    Slot 2    Slot 3    Slot 4  E    f\n",
       "2024-01-03 -1.330379 -1.319802  0.261632  0.374631  1  9.0\n",
       "2024-01-02  0.602718  1.319289  0.541694 -0.515991  2  NaN\n",
       "2024-01-05  1.338594  0.417339  0.747849  1.091813  3  NaN\n",
       "2024-01-04 -1.087202  0.055295  3.490454 -2.192428  4  1.0"
      ]
     },
     "execution_count": 53,
     "metadata": {},
     "output_type": "execute_result"
    }
   ],
   "source": [
    "sd"
   ]
  },
  {
   "cell_type": "code",
   "execution_count": 54,
   "id": "56158911-d29f-4990-90c8-d8c9aa0bb24a",
   "metadata": {},
   "outputs": [
    {
     "data": {
      "text/html": [
       "<div>\n",
       "<style scoped>\n",
       "    .dataframe tbody tr th:only-of-type {\n",
       "        vertical-align: middle;\n",
       "    }\n",
       "\n",
       "    .dataframe tbody tr th {\n",
       "        vertical-align: top;\n",
       "    }\n",
       "\n",
       "    .dataframe thead th {\n",
       "        text-align: right;\n",
       "    }\n",
       "</style>\n",
       "<table border=\"1\" class=\"dataframe\">\n",
       "  <thead>\n",
       "    <tr style=\"text-align: right;\">\n",
       "      <th></th>\n",
       "      <th>Slot 1</th>\n",
       "      <th>Slot 2</th>\n",
       "      <th>Slot 3</th>\n",
       "      <th>Slot 4</th>\n",
       "      <th>E</th>\n",
       "      <th>f</th>\n",
       "    </tr>\n",
       "  </thead>\n",
       "  <tbody>\n",
       "    <tr>\n",
       "      <th>2024-01-03</th>\n",
       "      <td>-1.330379</td>\n",
       "      <td>-1.319802</td>\n",
       "      <td>0.261632</td>\n",
       "      <td>0.374631</td>\n",
       "      <td>1</td>\n",
       "      <td>9.0</td>\n",
       "    </tr>\n",
       "    <tr>\n",
       "      <th>2024-01-02</th>\n",
       "      <td>0.602718</td>\n",
       "      <td>1.319289</td>\n",
       "      <td>0.541694</td>\n",
       "      <td>-0.515991</td>\n",
       "      <td>2</td>\n",
       "      <td>NaN</td>\n",
       "    </tr>\n",
       "    <tr>\n",
       "      <th>2024-01-05</th>\n",
       "      <td>1.338594</td>\n",
       "      <td>0.417339</td>\n",
       "      <td>0.747849</td>\n",
       "      <td>1.091813</td>\n",
       "      <td>3</td>\n",
       "      <td>NaN</td>\n",
       "    </tr>\n",
       "    <tr>\n",
       "      <th>2024-01-05</th>\n",
       "      <td>1.338594</td>\n",
       "      <td>0.417339</td>\n",
       "      <td>0.747849</td>\n",
       "      <td>1.091813</td>\n",
       "      <td>3</td>\n",
       "      <td>NaN</td>\n",
       "    </tr>\n",
       "    <tr>\n",
       "      <th>2024-01-04</th>\n",
       "      <td>-1.087202</td>\n",
       "      <td>0.055295</td>\n",
       "      <td>3.490454</td>\n",
       "      <td>-2.192428</td>\n",
       "      <td>4</td>\n",
       "      <td>1.0</td>\n",
       "    </tr>\n",
       "    <tr>\n",
       "      <th>2024-01-04</th>\n",
       "      <td>-1.087202</td>\n",
       "      <td>0.055295</td>\n",
       "      <td>3.490454</td>\n",
       "      <td>-2.192428</td>\n",
       "      <td>4</td>\n",
       "      <td>1.0</td>\n",
       "    </tr>\n",
       "  </tbody>\n",
       "</table>\n",
       "</div>"
      ],
      "text/plain": [
       "              Slot 1    Slot 2    Slot 3    Slot 4  E    f\n",
       "2024-01-03 -1.330379 -1.319802  0.261632  0.374631  1  9.0\n",
       "2024-01-02  0.602718  1.319289  0.541694 -0.515991  2  NaN\n",
       "2024-01-05  1.338594  0.417339  0.747849  1.091813  3  NaN\n",
       "2024-01-05  1.338594  0.417339  0.747849  1.091813  3  NaN\n",
       "2024-01-04 -1.087202  0.055295  3.490454 -2.192428  4  1.0\n",
       "2024-01-04 -1.087202  0.055295  3.490454 -2.192428  4  1.0"
      ]
     },
     "execution_count": 54,
     "metadata": {},
     "output_type": "execute_result"
    }
   ],
   "source": [
    "pieces = [sd[:3], sd[2:4], sd[3:]]\n",
    "pd.concat(pieces)"
   ]
  },
  {
   "cell_type": "markdown",
   "id": "a6fcb6bd-908c-42ef-96df-5060f569b5f3",
   "metadata": {},
   "source": [
    "## Grouping\n",
    "Grouping by a column label, selecting column labels, and then applying the DataFrameGroupBy.sum() function to the resulting groups:"
   ]
  },
  {
   "cell_type": "code",
   "execution_count": 56,
   "id": "574ff326-9901-4abc-84e4-f4e74043a2d1",
   "metadata": {},
   "outputs": [
    {
     "data": {
      "text/html": [
       "<div>\n",
       "<style scoped>\n",
       "    .dataframe tbody tr th:only-of-type {\n",
       "        vertical-align: middle;\n",
       "    }\n",
       "\n",
       "    .dataframe tbody tr th {\n",
       "        vertical-align: top;\n",
       "    }\n",
       "\n",
       "    .dataframe thead th {\n",
       "        text-align: right;\n",
       "    }\n",
       "</style>\n",
       "<table border=\"1\" class=\"dataframe\">\n",
       "  <thead>\n",
       "    <tr style=\"text-align: right;\">\n",
       "      <th></th>\n",
       "      <th>Slot 3</th>\n",
       "      <th>Slot 4</th>\n",
       "    </tr>\n",
       "    <tr>\n",
       "      <th>Slot 1</th>\n",
       "      <th></th>\n",
       "      <th></th>\n",
       "    </tr>\n",
       "  </thead>\n",
       "  <tbody>\n",
       "    <tr>\n",
       "      <th>-1.330379</th>\n",
       "      <td>0.261632</td>\n",
       "      <td>0.374631</td>\n",
       "    </tr>\n",
       "    <tr>\n",
       "      <th>-1.087202</th>\n",
       "      <td>3.490454</td>\n",
       "      <td>-2.192428</td>\n",
       "    </tr>\n",
       "    <tr>\n",
       "      <th>0.602718</th>\n",
       "      <td>0.541694</td>\n",
       "      <td>-0.515991</td>\n",
       "    </tr>\n",
       "    <tr>\n",
       "      <th>1.338594</th>\n",
       "      <td>0.747849</td>\n",
       "      <td>1.091813</td>\n",
       "    </tr>\n",
       "  </tbody>\n",
       "</table>\n",
       "</div>"
      ],
      "text/plain": [
       "             Slot 3    Slot 4\n",
       "Slot 1                       \n",
       "-1.330379  0.261632  0.374631\n",
       "-1.087202  3.490454 -2.192428\n",
       " 0.602718  0.541694 -0.515991\n",
       " 1.338594  0.747849  1.091813"
      ]
     },
     "execution_count": 56,
     "metadata": {},
     "output_type": "execute_result"
    }
   ],
   "source": [
    "sd.groupby(\"Slot 1\")[[\"Slot 3\", \"Slot 4\"]].sum()"
   ]
  },
  {
   "cell_type": "code",
   "execution_count": 107,
   "id": "9ab62427-fe8d-47da-a1b2-bbcea9b23477",
   "metadata": {},
   "outputs": [
    {
     "data": {
      "text/html": [
       "<div>\n",
       "<style scoped>\n",
       "    .dataframe tbody tr th:only-of-type {\n",
       "        vertical-align: middle;\n",
       "    }\n",
       "\n",
       "    .dataframe tbody tr th {\n",
       "        vertical-align: top;\n",
       "    }\n",
       "\n",
       "    .dataframe thead th {\n",
       "        text-align: right;\n",
       "    }\n",
       "</style>\n",
       "<table border=\"1\" class=\"dataframe\">\n",
       "  <thead>\n",
       "    <tr style=\"text-align: right;\">\n",
       "      <th></th>\n",
       "      <th></th>\n",
       "      <th>Slot 3</th>\n",
       "      <th>Slot 4</th>\n",
       "      <th>E</th>\n",
       "      <th>f</th>\n",
       "    </tr>\n",
       "    <tr>\n",
       "      <th>Slot 1</th>\n",
       "      <th>Slot 2</th>\n",
       "      <th></th>\n",
       "      <th></th>\n",
       "      <th></th>\n",
       "      <th></th>\n",
       "    </tr>\n",
       "  </thead>\n",
       "  <tbody>\n",
       "    <tr>\n",
       "      <th>-1.330379</th>\n",
       "      <th>-1.319802</th>\n",
       "      <td>0.261632</td>\n",
       "      <td>0.374631</td>\n",
       "      <td>1</td>\n",
       "      <td>9.0</td>\n",
       "    </tr>\n",
       "    <tr>\n",
       "      <th>-1.087202</th>\n",
       "      <th>0.055295</th>\n",
       "      <td>3.490454</td>\n",
       "      <td>-2.192428</td>\n",
       "      <td>4</td>\n",
       "      <td>1.0</td>\n",
       "    </tr>\n",
       "    <tr>\n",
       "      <th>0.602718</th>\n",
       "      <th>1.319289</th>\n",
       "      <td>0.541694</td>\n",
       "      <td>-0.515991</td>\n",
       "      <td>2</td>\n",
       "      <td>0.0</td>\n",
       "    </tr>\n",
       "    <tr>\n",
       "      <th>1.338594</th>\n",
       "      <th>0.417339</th>\n",
       "      <td>0.747849</td>\n",
       "      <td>1.091813</td>\n",
       "      <td>3</td>\n",
       "      <td>0.0</td>\n",
       "    </tr>\n",
       "  </tbody>\n",
       "</table>\n",
       "</div>"
      ],
      "text/plain": [
       "                       Slot 3    Slot 4  E    f\n",
       "Slot 1    Slot 2                               \n",
       "-1.330379 -1.319802  0.261632  0.374631  1  9.0\n",
       "-1.087202  0.055295  3.490454 -2.192428  4  1.0\n",
       " 0.602718  1.319289  0.541694 -0.515991  2  0.0\n",
       " 1.338594  0.417339  0.747849  1.091813  3  0.0"
      ]
     },
     "execution_count": 107,
     "metadata": {},
     "output_type": "execute_result"
    }
   ],
   "source": [
    "# Grouping by multiple columns label forms MultiIndex.\n",
    "sd.groupby([\"Slot 1\", \"Slot 2\"]).sum()"
   ]
  },
  {
   "cell_type": "code",
   "execution_count": null,
   "id": "a846c328-4c74-42d2-a415-3ec62d05c559",
   "metadata": {},
   "outputs": [],
   "source": []
  }
 ],
 "metadata": {
  "kernelspec": {
   "display_name": "Python 3 (ipykernel)",
   "language": "python",
   "name": "python3"
  },
  "language_info": {
   "codemirror_mode": {
    "name": "ipython",
    "version": 3
   },
   "file_extension": ".py",
   "mimetype": "text/x-python",
   "name": "python",
   "nbconvert_exporter": "python",
   "pygments_lexer": "ipython3",
   "version": "3.12.3"
  }
 },
 "nbformat": 4,
 "nbformat_minor": 5
}
